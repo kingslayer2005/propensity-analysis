{
 "cells": [
  {
   "cell_type": "code",
   "execution_count": 123,
   "id": "cff8c826",
   "metadata": {},
   "outputs": [
    {
     "name": "stdout",
     "output_type": "stream",
     "text": [
      "PolicySubmissiondate         0\n",
      "PolicyID                     0\n",
      "Type Of Policy               3\n",
      "SBU                          0\n",
      "Inceptiondate                0\n",
      "Expirydate                   0\n",
      "TIEUPNUMBER                  0\n",
      "Sum Insured                  1\n",
      "PINCODE                      0\n",
      "STATE                        1\n",
      "Manufacturer                 3\n",
      "NET PREMIUM PAYABLE          0\n",
      "NCB                        348\n",
      "NCB AMOUNT                 378\n",
      "COVERAGE_DEP-ODPremium    4483\n",
      "OD Premium                   1\n",
      "TP PREMIUM                1524\n",
      "IDV                          0\n",
      "Policy Term                  3\n",
      "Carrying Capacity            0\n",
      "Cubic Capacity               0\n",
      "Inceptionyr                  0\n",
      "Endorsement                  0\n",
      "Engine-Chassis               0\n",
      "Claim Count               6822\n",
      "Claim Cost                6822\n",
      "Vehicle Age                  0\n",
      "target                       0\n",
      "dtype: int64\n"
     ]
    }
   ],
   "source": [
    "import numpy as np \n",
    "import pandas as pd \n",
    "import seaborn as sns \n",
    "import matplotlib.pyplot as plt \n",
    "import warnings \n",
    "\n",
    "warnings.filterwarnings('ignore')\n",
    "\n",
    "df=pd.read_csv('train.csv')\n",
    "\n",
    "df.columns\n",
    "df.shape\n",
    "print(df.isnull().sum())\n"
   ]
  },
  {
   "cell_type": "markdown",
   "id": "0c0e9adc",
   "metadata": {},
   "source": [
    "for the interpretation of data:\n",
    "there are various null values in the data. so in the type of policy in slots for null data we can type either the customer hasnt purchased the policy or the policy details are unknown. for the sum issued we can write zzero since we dont know the sum which is issued in the data. The state also can be mentioned ignore. The manufacturer can be declared unknown for blank data. the ncb percentage can be mentioned as unknown or not valid whereas the ncb amount can be written zero. claim count and claim cost can be mentioned zero. od and tp premium can be declared unknown. similar thing can be applied for policy term "
   ]
  },
  {
   "cell_type": "code",
   "execution_count": 124,
   "id": "c1557c1c",
   "metadata": {},
   "outputs": [
    {
     "data": {
      "text/plain": [
       "Policy Term\n",
       "1.0    6962\n",
       "3.0      19\n",
       "2.0      16\n",
       "Name: count, dtype: int64"
      ]
     },
     "execution_count": 124,
     "metadata": {},
     "output_type": "execute_result"
    }
   ],
   "source": [
    "df['Policy Term'].value_counts()"
   ]
  },
  {
   "cell_type": "code",
   "execution_count": 125,
   "id": "aa442559",
   "metadata": {},
   "outputs": [
    {
     "data": {
      "text/html": [
       "<div>\n",
       "<style scoped>\n",
       "    .dataframe tbody tr th:only-of-type {\n",
       "        vertical-align: middle;\n",
       "    }\n",
       "\n",
       "    .dataframe tbody tr th {\n",
       "        vertical-align: top;\n",
       "    }\n",
       "\n",
       "    .dataframe thead th {\n",
       "        text-align: right;\n",
       "    }\n",
       "</style>\n",
       "<table border=\"1\" class=\"dataframe\">\n",
       "  <thead>\n",
       "    <tr style=\"text-align: right;\">\n",
       "      <th></th>\n",
       "      <th>Sum Insured</th>\n",
       "      <th>PINCODE</th>\n",
       "      <th>NET PREMIUM PAYABLE</th>\n",
       "      <th>NCB</th>\n",
       "      <th>NCB AMOUNT</th>\n",
       "      <th>COVERAGE_DEP-ODPremium</th>\n",
       "      <th>OD Premium</th>\n",
       "      <th>TP PREMIUM</th>\n",
       "      <th>IDV</th>\n",
       "      <th>Policy Term</th>\n",
       "      <th>Carrying Capacity</th>\n",
       "      <th>Cubic Capacity</th>\n",
       "      <th>Inceptionyr</th>\n",
       "      <th>Endorsement</th>\n",
       "      <th>Claim Count</th>\n",
       "      <th>Claim Cost</th>\n",
       "      <th>Vehicle Age</th>\n",
       "      <th>target</th>\n",
       "    </tr>\n",
       "  </thead>\n",
       "  <tbody>\n",
       "    <tr>\n",
       "      <th>count</th>\n",
       "      <td>6.999000e+03</td>\n",
       "      <td>7000.000000</td>\n",
       "      <td>7000.000000</td>\n",
       "      <td>6652.000000</td>\n",
       "      <td>6622.000000</td>\n",
       "      <td>2517.000000</td>\n",
       "      <td>6999.000000</td>\n",
       "      <td>5476.000000</td>\n",
       "      <td>7.000000e+03</td>\n",
       "      <td>6997.000000</td>\n",
       "      <td>7000.000000</td>\n",
       "      <td>7000.000000</td>\n",
       "      <td>7000.0</td>\n",
       "      <td>7000.0</td>\n",
       "      <td>178.000000</td>\n",
       "      <td>178.000000</td>\n",
       "      <td>7000.000000</td>\n",
       "      <td>7000.00000</td>\n",
       "    </tr>\n",
       "    <tr>\n",
       "      <th>mean</th>\n",
       "      <td>3.379537e+04</td>\n",
       "      <td>427046.583000</td>\n",
       "      <td>1394.691970</td>\n",
       "      <td>39.530968</td>\n",
       "      <td>-129.031063</td>\n",
       "      <td>165.604982</td>\n",
       "      <td>375.813326</td>\n",
       "      <td>795.941928</td>\n",
       "      <td>3.371675e+04</td>\n",
       "      <td>1.007718</td>\n",
       "      <td>2.000429</td>\n",
       "      <td>128.399857</td>\n",
       "      <td>2022.0</td>\n",
       "      <td>1.0</td>\n",
       "      <td>1.101124</td>\n",
       "      <td>8124.696067</td>\n",
       "      <td>9.996429</td>\n",
       "      <td>0.70000</td>\n",
       "    </tr>\n",
       "    <tr>\n",
       "      <th>std</th>\n",
       "      <td>3.505310e+04</td>\n",
       "      <td>183228.598761</td>\n",
       "      <td>844.447269</td>\n",
       "      <td>12.409568</td>\n",
       "      <td>111.315838</td>\n",
       "      <td>133.774260</td>\n",
       "      <td>571.739623</td>\n",
       "      <td>171.136348</td>\n",
       "      <td>3.480484e+04</td>\n",
       "      <td>0.114415</td>\n",
       "      <td>0.035857</td>\n",
       "      <td>57.903605</td>\n",
       "      <td>0.0</td>\n",
       "      <td>0.0</td>\n",
       "      <td>0.337654</td>\n",
       "      <td>7519.016599</td>\n",
       "      <td>3.716656</td>\n",
       "      <td>0.45829</td>\n",
       "    </tr>\n",
       "    <tr>\n",
       "      <th>min</th>\n",
       "      <td>1.400000e+03</td>\n",
       "      <td>110001.000000</td>\n",
       "      <td>52.930000</td>\n",
       "      <td>0.000000</td>\n",
       "      <td>-2549.150000</td>\n",
       "      <td>45.200000</td>\n",
       "      <td>12.860000</td>\n",
       "      <td>0.000000</td>\n",
       "      <td>1.400000e+03</td>\n",
       "      <td>1.000000</td>\n",
       "      <td>2.000000</td>\n",
       "      <td>1.000000</td>\n",
       "      <td>2022.0</td>\n",
       "      <td>1.0</td>\n",
       "      <td>1.000000</td>\n",
       "      <td>0.000000</td>\n",
       "      <td>4.000000</td>\n",
       "      <td>0.00000</td>\n",
       "    </tr>\n",
       "    <tr>\n",
       "      <th>25%</th>\n",
       "      <td>1.800000e+04</td>\n",
       "      <td>360001.000000</td>\n",
       "      <td>1080.105000</td>\n",
       "      <td>25.000000</td>\n",
       "      <td>-152.150000</td>\n",
       "      <td>112.500000</td>\n",
       "      <td>185.420000</td>\n",
       "      <td>752.000000</td>\n",
       "      <td>1.800000e+04</td>\n",
       "      <td>1.000000</td>\n",
       "      <td>2.000000</td>\n",
       "      <td>109.000000</td>\n",
       "      <td>2022.0</td>\n",
       "      <td>1.0</td>\n",
       "      <td>1.000000</td>\n",
       "      <td>3227.382500</td>\n",
       "      <td>7.000000</td>\n",
       "      <td>0.00000</td>\n",
       "    </tr>\n",
       "    <tr>\n",
       "      <th>50%</th>\n",
       "      <td>2.691000e+04</td>\n",
       "      <td>414001.500000</td>\n",
       "      <td>1420.600000</td>\n",
       "      <td>45.000000</td>\n",
       "      <td>-110.880000</td>\n",
       "      <td>134.400000</td>\n",
       "      <td>288.320000</td>\n",
       "      <td>752.000000</td>\n",
       "      <td>2.690000e+04</td>\n",
       "      <td>1.000000</td>\n",
       "      <td>2.000000</td>\n",
       "      <td>110.000000</td>\n",
       "      <td>2022.0</td>\n",
       "      <td>1.0</td>\n",
       "      <td>1.000000</td>\n",
       "      <td>6068.340000</td>\n",
       "      <td>9.000000</td>\n",
       "      <td>1.00000</td>\n",
       "    </tr>\n",
       "    <tr>\n",
       "      <th>75%</th>\n",
       "      <td>4.090000e+04</td>\n",
       "      <td>574241.000000</td>\n",
       "      <td>1594.010000</td>\n",
       "      <td>50.000000</td>\n",
       "      <td>-72.070000</td>\n",
       "      <td>173.250000</td>\n",
       "      <td>432.960000</td>\n",
       "      <td>752.000000</td>\n",
       "      <td>4.078275e+04</td>\n",
       "      <td>1.000000</td>\n",
       "      <td>2.000000</td>\n",
       "      <td>125.000000</td>\n",
       "      <td>2022.0</td>\n",
       "      <td>1.0</td>\n",
       "      <td>1.000000</td>\n",
       "      <td>10197.750000</td>\n",
       "      <td>12.000000</td>\n",
       "      <td>1.00000</td>\n",
       "    </tr>\n",
       "    <tr>\n",
       "      <th>max</th>\n",
       "      <td>1.800000e+06</td>\n",
       "      <td>854330.000000</td>\n",
       "      <td>45541.960000</td>\n",
       "      <td>55.000000</td>\n",
       "      <td>-5.790000</td>\n",
       "      <td>3420.000000</td>\n",
       "      <td>35174.880000</td>\n",
       "      <td>2323.000000</td>\n",
       "      <td>1.800000e+06</td>\n",
       "      <td>3.000000</td>\n",
       "      <td>5.000000</td>\n",
       "      <td>999.000000</td>\n",
       "      <td>2022.0</td>\n",
       "      <td>1.0</td>\n",
       "      <td>3.000000</td>\n",
       "      <td>47903.000000</td>\n",
       "      <td>34.000000</td>\n",
       "      <td>1.00000</td>\n",
       "    </tr>\n",
       "  </tbody>\n",
       "</table>\n",
       "</div>"
      ],
      "text/plain": [
       "        Sum Insured        PINCODE  NET PREMIUM PAYABLE          NCB  \\\n",
       "count  6.999000e+03    7000.000000          7000.000000  6652.000000   \n",
       "mean   3.379537e+04  427046.583000          1394.691970    39.530968   \n",
       "std    3.505310e+04  183228.598761           844.447269    12.409568   \n",
       "min    1.400000e+03  110001.000000            52.930000     0.000000   \n",
       "25%    1.800000e+04  360001.000000          1080.105000    25.000000   \n",
       "50%    2.691000e+04  414001.500000          1420.600000    45.000000   \n",
       "75%    4.090000e+04  574241.000000          1594.010000    50.000000   \n",
       "max    1.800000e+06  854330.000000         45541.960000    55.000000   \n",
       "\n",
       "        NCB AMOUNT  COVERAGE_DEP-ODPremium    OD Premium   TP PREMIUM  \\\n",
       "count  6622.000000             2517.000000   6999.000000  5476.000000   \n",
       "mean   -129.031063              165.604982    375.813326   795.941928   \n",
       "std     111.315838              133.774260    571.739623   171.136348   \n",
       "min   -2549.150000               45.200000     12.860000     0.000000   \n",
       "25%    -152.150000              112.500000    185.420000   752.000000   \n",
       "50%    -110.880000              134.400000    288.320000   752.000000   \n",
       "75%     -72.070000              173.250000    432.960000   752.000000   \n",
       "max      -5.790000             3420.000000  35174.880000  2323.000000   \n",
       "\n",
       "                IDV  Policy Term  Carrying Capacity  Cubic Capacity  \\\n",
       "count  7.000000e+03  6997.000000        7000.000000     7000.000000   \n",
       "mean   3.371675e+04     1.007718           2.000429      128.399857   \n",
       "std    3.480484e+04     0.114415           0.035857       57.903605   \n",
       "min    1.400000e+03     1.000000           2.000000        1.000000   \n",
       "25%    1.800000e+04     1.000000           2.000000      109.000000   \n",
       "50%    2.690000e+04     1.000000           2.000000      110.000000   \n",
       "75%    4.078275e+04     1.000000           2.000000      125.000000   \n",
       "max    1.800000e+06     3.000000           5.000000      999.000000   \n",
       "\n",
       "       Inceptionyr  Endorsement  Claim Count    Claim Cost  Vehicle Age  \\\n",
       "count       7000.0       7000.0   178.000000    178.000000  7000.000000   \n",
       "mean        2022.0          1.0     1.101124   8124.696067     9.996429   \n",
       "std            0.0          0.0     0.337654   7519.016599     3.716656   \n",
       "min         2022.0          1.0     1.000000      0.000000     4.000000   \n",
       "25%         2022.0          1.0     1.000000   3227.382500     7.000000   \n",
       "50%         2022.0          1.0     1.000000   6068.340000     9.000000   \n",
       "75%         2022.0          1.0     1.000000  10197.750000    12.000000   \n",
       "max         2022.0          1.0     3.000000  47903.000000    34.000000   \n",
       "\n",
       "           target  \n",
       "count  7000.00000  \n",
       "mean      0.70000  \n",
       "std       0.45829  \n",
       "min       0.00000  \n",
       "25%       0.00000  \n",
       "50%       1.00000  \n",
       "75%       1.00000  \n",
       "max       1.00000  "
      ]
     },
     "execution_count": 125,
     "metadata": {},
     "output_type": "execute_result"
    }
   ],
   "source": [
    "df.describe()"
   ]
  },
  {
   "cell_type": "code",
   "execution_count": 126,
   "id": "958da4f2",
   "metadata": {},
   "outputs": [
    {
     "name": "stdout",
     "output_type": "stream",
     "text": [
      "<class 'pandas.core.frame.DataFrame'>\n",
      "RangeIndex: 7000 entries, 0 to 6999\n",
      "Data columns (total 28 columns):\n",
      " #   Column                  Non-Null Count  Dtype  \n",
      "---  ------                  --------------  -----  \n",
      " 0   PolicySubmissiondate    7000 non-null   object \n",
      " 1   PolicyID                7000 non-null   object \n",
      " 2   Type Of Policy          6997 non-null   object \n",
      " 3   SBU                     7000 non-null   object \n",
      " 4   Inceptiondate           7000 non-null   object \n",
      " 5   Expirydate              7000 non-null   object \n",
      " 6   TIEUPNUMBER             7000 non-null   object \n",
      " 7   Sum Insured             6999 non-null   float64\n",
      " 8   PINCODE                 7000 non-null   float64\n",
      " 9   STATE                   6999 non-null   object \n",
      " 10  Manufacturer            6997 non-null   object \n",
      " 11  NET PREMIUM PAYABLE     7000 non-null   float64\n",
      " 12  NCB                     6652 non-null   float64\n",
      " 13  NCB AMOUNT              6622 non-null   float64\n",
      " 14  COVERAGE_DEP-ODPremium  2517 non-null   float64\n",
      " 15  OD Premium              6999 non-null   float64\n",
      " 16  TP PREMIUM              5476 non-null   float64\n",
      " 17  IDV                     7000 non-null   float64\n",
      " 18  Policy Term             6997 non-null   float64\n",
      " 19  Carrying Capacity       7000 non-null   float64\n",
      " 20  Cubic Capacity          7000 non-null   float64\n",
      " 21  Inceptionyr             7000 non-null   int64  \n",
      " 22  Endorsement             7000 non-null   int64  \n",
      " 23  Engine-Chassis          7000 non-null   object \n",
      " 24  Claim Count             178 non-null    float64\n",
      " 25  Claim Cost              178 non-null    float64\n",
      " 26  Vehicle Age             7000 non-null   float64\n",
      " 27  target                  7000 non-null   int64  \n",
      "dtypes: float64(15), int64(3), object(10)\n",
      "memory usage: 1.5+ MB\n"
     ]
    }
   ],
   "source": [
    "df.info()"
   ]
  },
  {
   "cell_type": "code",
   "execution_count": 127,
   "id": "646f48ff",
   "metadata": {},
   "outputs": [
    {
     "data": {
      "text/plain": [
       "PolicySubmissiondate       object\n",
       "PolicyID                   object\n",
       "Type Of Policy             object\n",
       "SBU                        object\n",
       "Inceptiondate              object\n",
       "Expirydate                 object\n",
       "TIEUPNUMBER                object\n",
       "Sum Insured               float64\n",
       "PINCODE                   float64\n",
       "STATE                      object\n",
       "Manufacturer               object\n",
       "NET PREMIUM PAYABLE       float64\n",
       "NCB                       float64\n",
       "NCB AMOUNT                float64\n",
       "COVERAGE_DEP-ODPremium    float64\n",
       "OD Premium                float64\n",
       "TP PREMIUM                float64\n",
       "IDV                       float64\n",
       "Policy Term               float64\n",
       "Carrying Capacity         float64\n",
       "Cubic Capacity            float64\n",
       "Inceptionyr                 int64\n",
       "Endorsement                 int64\n",
       "Engine-Chassis             object\n",
       "Claim Count               float64\n",
       "Claim Cost                float64\n",
       "Vehicle Age               float64\n",
       "target                      int64\n",
       "dtype: object"
      ]
     },
     "execution_count": 127,
     "metadata": {},
     "output_type": "execute_result"
    }
   ],
   "source": [
    "df.dtypes"
   ]
  },
  {
   "cell_type": "code",
   "execution_count": 128,
   "id": "cab371af",
   "metadata": {},
   "outputs": [],
   "source": [
    "df['Claim Count'].fillna(0, inplace=True)"
   ]
  },
  {
   "cell_type": "code",
   "execution_count": 129,
   "id": "0a07c200",
   "metadata": {},
   "outputs": [
    {
     "name": "stdout",
     "output_type": "stream",
     "text": [
      "PolicySubmissiondate         0\n",
      "PolicyID                     0\n",
      "Type Of Policy               3\n",
      "SBU                          0\n",
      "Inceptiondate                0\n",
      "Expirydate                   0\n",
      "TIEUPNUMBER                  0\n",
      "Sum Insured                  1\n",
      "PINCODE                      0\n",
      "STATE                        1\n",
      "Manufacturer                 3\n",
      "NET PREMIUM PAYABLE          0\n",
      "NCB                        348\n",
      "NCB AMOUNT                 378\n",
      "COVERAGE_DEP-ODPremium    4483\n",
      "OD Premium                   1\n",
      "TP PREMIUM                1524\n",
      "IDV                          0\n",
      "Policy Term                  3\n",
      "Carrying Capacity            0\n",
      "Cubic Capacity               0\n",
      "Inceptionyr                  0\n",
      "Endorsement                  0\n",
      "Engine-Chassis               0\n",
      "Claim Count                  0\n",
      "Claim Cost                6822\n",
      "Vehicle Age                  0\n",
      "target                       0\n",
      "dtype: int64\n"
     ]
    }
   ],
   "source": [
    "print(df.isnull().sum())"
   ]
  },
  {
   "cell_type": "code",
   "execution_count": 130,
   "id": "d3cf1ff3",
   "metadata": {},
   "outputs": [],
   "source": [
    "df['Claim Cost'].fillna(0, inplace=True)"
   ]
  },
  {
   "cell_type": "code",
   "execution_count": 131,
   "id": "5d4a7ca2",
   "metadata": {},
   "outputs": [
    {
     "data": {
      "text/plain": [
       "PolicySubmissiondate         0\n",
       "PolicyID                     0\n",
       "Type Of Policy               3\n",
       "SBU                          0\n",
       "Inceptiondate                0\n",
       "Expirydate                   0\n",
       "TIEUPNUMBER                  0\n",
       "Sum Insured                  1\n",
       "PINCODE                      0\n",
       "STATE                        1\n",
       "Manufacturer                 3\n",
       "NET PREMIUM PAYABLE          0\n",
       "NCB                        348\n",
       "NCB AMOUNT                 378\n",
       "COVERAGE_DEP-ODPremium    4483\n",
       "OD Premium                   1\n",
       "TP PREMIUM                1524\n",
       "IDV                          0\n",
       "Policy Term                  3\n",
       "Carrying Capacity            0\n",
       "Cubic Capacity               0\n",
       "Inceptionyr                  0\n",
       "Endorsement                  0\n",
       "Engine-Chassis               0\n",
       "Claim Count                  0\n",
       "Claim Cost                   0\n",
       "Vehicle Age                  0\n",
       "target                       0\n",
       "dtype: int64"
      ]
     },
     "execution_count": 131,
     "metadata": {},
     "output_type": "execute_result"
    }
   ],
   "source": [
    "df.isna().sum()"
   ]
  },
  {
   "cell_type": "code",
   "execution_count": 132,
   "id": "798656f5",
   "metadata": {},
   "outputs": [
    {
     "data": {
      "text/plain": [
       "0       20.0\n",
       "1       50.0\n",
       "2       45.0\n",
       "3       50.0\n",
       "4       45.0\n",
       "        ... \n",
       "6995    25.0\n",
       "6996    50.0\n",
       "6997    50.0\n",
       "6998    20.0\n",
       "6999    20.0\n",
       "Name: NCB, Length: 7000, dtype: float64"
      ]
     },
     "execution_count": 132,
     "metadata": {},
     "output_type": "execute_result"
    }
   ],
   "source": [
    "df['NCB']"
   ]
  },
  {
   "cell_type": "code",
   "execution_count": 133,
   "id": "5604cbbd",
   "metadata": {},
   "outputs": [
    {
     "data": {
      "text/plain": [
       "PolicySubmissiondate         0\n",
       "PolicyID                     0\n",
       "Type Of Policy               3\n",
       "SBU                          0\n",
       "Inceptiondate                0\n",
       "Expirydate                   0\n",
       "TIEUPNUMBER                  0\n",
       "Sum Insured                  1\n",
       "PINCODE                      0\n",
       "STATE                        1\n",
       "Manufacturer                 3\n",
       "NET PREMIUM PAYABLE          0\n",
       "NCB                        348\n",
       "NCB AMOUNT                 378\n",
       "COVERAGE_DEP-ODPremium    4483\n",
       "OD Premium                   1\n",
       "TP PREMIUM                1524\n",
       "IDV                          0\n",
       "Policy Term                  3\n",
       "Carrying Capacity            0\n",
       "Cubic Capacity               0\n",
       "Inceptionyr                  0\n",
       "Endorsement                  0\n",
       "Engine-Chassis               0\n",
       "Claim Count                  0\n",
       "Claim Cost                   0\n",
       "Vehicle Age                  0\n",
       "target                       0\n",
       "dtype: int64"
      ]
     },
     "execution_count": 133,
     "metadata": {},
     "output_type": "execute_result"
    }
   ],
   "source": [
    "df.isna().sum()"
   ]
  },
  {
   "cell_type": "code",
   "execution_count": 134,
   "id": "8110be39",
   "metadata": {},
   "outputs": [
    {
     "data": {
      "text/plain": [
       "PolicySubmissiondate        0\n",
       "PolicyID                    0\n",
       "Type Of Policy              3\n",
       "SBU                         0\n",
       "Inceptiondate               0\n",
       "Expirydate                  0\n",
       "TIEUPNUMBER                 0\n",
       "Sum Insured                 1\n",
       "PINCODE                     0\n",
       "STATE                       1\n",
       "Manufacturer                3\n",
       "NET PREMIUM PAYABLE         0\n",
       "NCB                       348\n",
       "NCB AMOUNT                  0\n",
       "COVERAGE_DEP-ODPremium      0\n",
       "OD Premium                  0\n",
       "TP PREMIUM                  0\n",
       "IDV                         0\n",
       "Policy Term                 3\n",
       "Carrying Capacity           0\n",
       "Cubic Capacity              0\n",
       "Inceptionyr                 0\n",
       "Endorsement                 0\n",
       "Engine-Chassis              0\n",
       "Claim Count                 0\n",
       "Claim Cost                  0\n",
       "Vehicle Age                 0\n",
       "target                      0\n",
       "dtype: int64"
      ]
     },
     "execution_count": 134,
     "metadata": {},
     "output_type": "execute_result"
    }
   ],
   "source": [
    "# df[['NET PREMIUM PAYABLE', 'NCB AMOUNT','COVERAGE_DEP-ODPremium','OD Premium','TP PREMIUM']].fillna(df[['NET PREMIUM PAYABLE', 'NCB AMOUNT','COVERAGE_DEP-ODPremium','OD Premium','TP PREMIUM']].mean(), inplace=True)\n",
    "# df.isna().sum()\n",
    "\n",
    "cols = ['NET PREMIUM PAYABLE', 'NCB AMOUNT','COVERAGE_DEP-ODPremium','OD Premium','TP PREMIUM']\n",
    "\n",
    "for col in cols:\n",
    "    mean = df[col].mean()\n",
    "    df[col] = df[col].fillna(mean)\n",
    "\n",
    "df.isna().sum()"
   ]
  },
  {
   "cell_type": "code",
   "execution_count": 135,
   "id": "6607e109",
   "metadata": {},
   "outputs": [
    {
     "name": "stdout",
     "output_type": "stream",
     "text": [
      "PolicySubmissiondate        0\n",
      "PolicyID                    0\n",
      "Type Of Policy              3\n",
      "SBU                         0\n",
      "Inceptiondate               0\n",
      "Expirydate                  0\n",
      "TIEUPNUMBER                 0\n",
      "Sum Insured                 1\n",
      "PINCODE                     0\n",
      "STATE                       1\n",
      "Manufacturer                3\n",
      "NET PREMIUM PAYABLE         0\n",
      "NCB                       348\n",
      "NCB AMOUNT                  0\n",
      "COVERAGE_DEP-ODPremium      0\n",
      "OD Premium                  0\n",
      "TP PREMIUM                  0\n",
      "IDV                         0\n",
      "Policy Term                 3\n",
      "Carrying Capacity           0\n",
      "Cubic Capacity              0\n",
      "Inceptionyr                 0\n",
      "Endorsement                 0\n",
      "Engine-Chassis              0\n",
      "Claim Count                 0\n",
      "Claim Cost                  0\n",
      "Vehicle Age                 0\n",
      "target                      0\n",
      "dtype: int64\n"
     ]
    }
   ],
   "source": [
    "print(df.isnull().sum())"
   ]
  },
  {
   "cell_type": "code",
   "execution_count": 136,
   "id": "3be5819f",
   "metadata": {},
   "outputs": [],
   "source": [
    "df['Policy Term'].fillna(1, inplace=True)"
   ]
  },
  {
   "cell_type": "code",
   "execution_count": 137,
   "id": "f0643177",
   "metadata": {},
   "outputs": [
    {
     "name": "stdout",
     "output_type": "stream",
     "text": [
      "PolicySubmissiondate        0\n",
      "PolicyID                    0\n",
      "Type Of Policy              3\n",
      "SBU                         0\n",
      "Inceptiondate               0\n",
      "Expirydate                  0\n",
      "TIEUPNUMBER                 0\n",
      "Sum Insured                 1\n",
      "PINCODE                     0\n",
      "STATE                       1\n",
      "Manufacturer                3\n",
      "NET PREMIUM PAYABLE         0\n",
      "NCB                       348\n",
      "NCB AMOUNT                  0\n",
      "COVERAGE_DEP-ODPremium      0\n",
      "OD Premium                  0\n",
      "TP PREMIUM                  0\n",
      "IDV                         0\n",
      "Policy Term                 0\n",
      "Carrying Capacity           0\n",
      "Cubic Capacity              0\n",
      "Inceptionyr                 0\n",
      "Endorsement                 0\n",
      "Engine-Chassis              0\n",
      "Claim Count                 0\n",
      "Claim Cost                  0\n",
      "Vehicle Age                 0\n",
      "target                      0\n",
      "dtype: int64\n"
     ]
    }
   ],
   "source": [
    "print(df.isnull().sum())"
   ]
  },
  {
   "cell_type": "code",
   "execution_count": 138,
   "id": "3e75d005",
   "metadata": {},
   "outputs": [],
   "source": [
    "df['Sum Insured'].fillna(0, inplace=True)"
   ]
  },
  {
   "cell_type": "code",
   "execution_count": 139,
   "id": "6e270349",
   "metadata": {},
   "outputs": [
    {
     "name": "stdout",
     "output_type": "stream",
     "text": [
      "PolicySubmissiondate        0\n",
      "PolicyID                    0\n",
      "Type Of Policy              3\n",
      "SBU                         0\n",
      "Inceptiondate               0\n",
      "Expirydate                  0\n",
      "TIEUPNUMBER                 0\n",
      "Sum Insured                 0\n",
      "PINCODE                     0\n",
      "STATE                       1\n",
      "Manufacturer                3\n",
      "NET PREMIUM PAYABLE         0\n",
      "NCB                       348\n",
      "NCB AMOUNT                  0\n",
      "COVERAGE_DEP-ODPremium      0\n",
      "OD Premium                  0\n",
      "TP PREMIUM                  0\n",
      "IDV                         0\n",
      "Policy Term                 0\n",
      "Carrying Capacity           0\n",
      "Cubic Capacity              0\n",
      "Inceptionyr                 0\n",
      "Endorsement                 0\n",
      "Engine-Chassis              0\n",
      "Claim Count                 0\n",
      "Claim Cost                  0\n",
      "Vehicle Age                 0\n",
      "target                      0\n",
      "dtype: int64\n"
     ]
    }
   ],
   "source": [
    "print(df.isnull().sum())"
   ]
  },
  {
   "cell_type": "code",
   "execution_count": 140,
   "id": "88740200",
   "metadata": {},
   "outputs": [],
   "source": [
    "df.dropna(subset=['Type Of Policy', 'STATE', 'Manufacturer'], inplace=True)"
   ]
  },
  {
   "cell_type": "code",
   "execution_count": 141,
   "id": "4dd55332",
   "metadata": {},
   "outputs": [
    {
     "name": "stdout",
     "output_type": "stream",
     "text": [
      "PolicySubmissiondate        0\n",
      "PolicyID                    0\n",
      "Type Of Policy              0\n",
      "SBU                         0\n",
      "Inceptiondate               0\n",
      "Expirydate                  0\n",
      "TIEUPNUMBER                 0\n",
      "Sum Insured                 0\n",
      "PINCODE                     0\n",
      "STATE                       0\n",
      "Manufacturer                0\n",
      "NET PREMIUM PAYABLE         0\n",
      "NCB                       346\n",
      "NCB AMOUNT                  0\n",
      "COVERAGE_DEP-ODPremium      0\n",
      "OD Premium                  0\n",
      "TP PREMIUM                  0\n",
      "IDV                         0\n",
      "Policy Term                 0\n",
      "Carrying Capacity           0\n",
      "Cubic Capacity              0\n",
      "Inceptionyr                 0\n",
      "Endorsement                 0\n",
      "Engine-Chassis              0\n",
      "Claim Count                 0\n",
      "Claim Cost                  0\n",
      "Vehicle Age                 0\n",
      "target                      0\n",
      "dtype: int64\n"
     ]
    }
   ],
   "source": [
    "print(df.isnull().sum())"
   ]
  },
  {
   "cell_type": "code",
   "execution_count": 142,
   "id": "d05d35f9",
   "metadata": {},
   "outputs": [],
   "source": [
    "df.drop(columns=['PINCODE','NCB', 'Endorsement', 'Inceptionyr', 'Carrying Capacity', 'Cubic Capacity'],inplace=True)"
   ]
  },
  {
   "cell_type": "code",
   "execution_count": 143,
   "id": "99fa4f94",
   "metadata": {},
   "outputs": [
    {
     "name": "stdout",
     "output_type": "stream",
     "text": [
      "PolicySubmissiondate      0\n",
      "PolicyID                  0\n",
      "Type Of Policy            0\n",
      "SBU                       0\n",
      "Inceptiondate             0\n",
      "Expirydate                0\n",
      "TIEUPNUMBER               0\n",
      "Sum Insured               0\n",
      "STATE                     0\n",
      "Manufacturer              0\n",
      "NET PREMIUM PAYABLE       0\n",
      "NCB AMOUNT                0\n",
      "COVERAGE_DEP-ODPremium    0\n",
      "OD Premium                0\n",
      "TP PREMIUM                0\n",
      "IDV                       0\n",
      "Policy Term               0\n",
      "Engine-Chassis            0\n",
      "Claim Count               0\n",
      "Claim Cost                0\n",
      "Vehicle Age               0\n",
      "target                    0\n",
      "dtype: int64\n"
     ]
    }
   ],
   "source": [
    "print(df.isnull().sum())"
   ]
  },
  {
   "cell_type": "code",
   "execution_count": 144,
   "id": "161a527e",
   "metadata": {},
   "outputs": [
    {
     "data": {
      "text/plain": [
       "Index(['PolicySubmissiondate', 'PolicyID', 'Type Of Policy', 'SBU',\n",
       "       'Inceptiondate', 'Expirydate', 'TIEUPNUMBER', 'Sum Insured', 'STATE',\n",
       "       'Manufacturer', 'NET PREMIUM PAYABLE', 'NCB AMOUNT',\n",
       "       'COVERAGE_DEP-ODPremium', 'OD Premium', 'TP PREMIUM', 'IDV',\n",
       "       'Policy Term', 'Engine-Chassis', 'Claim Count', 'Claim Cost',\n",
       "       'Vehicle Age', 'target'],\n",
       "      dtype='object')"
      ]
     },
     "execution_count": 144,
     "metadata": {},
     "output_type": "execute_result"
    }
   ],
   "source": [
    "df.columns"
   ]
  },
  {
   "cell_type": "code",
   "execution_count": 145,
   "id": "b966e51a",
   "metadata": {},
   "outputs": [
    {
     "data": {
      "text/plain": [
       "(6996, 22)"
      ]
     },
     "execution_count": 145,
     "metadata": {},
     "output_type": "execute_result"
    }
   ],
   "source": [
    "df.shape"
   ]
  },
  {
   "cell_type": "code",
   "execution_count": 146,
   "id": "6f4d51f9",
   "metadata": {},
   "outputs": [
    {
     "data": {
      "image/png": "[encoded data removed]",
      "text/plain": [
       "<Figure size 2000x1400 with 1 Axes>"
      ]
     },
     "metadata": {},
     "output_type": "display_data"
    }
   ],
   "source": [
    "import matplotlib.pyplot as plt\n",
    "import seaborn as sns\n",
    "plt.figure(figsize=(20,14))\n",
    "\n",
    "plt.subplot(1,2,1)\n",
    "sns.boxplot(df['Sum Insured'])\n",
    "\n",
    "# plt.subplot(1,2,2)\n",
    "# sns.histplot(df.income)\n",
    "\n",
    "plt.tight_layout()"
   ]
  },
  {
   "cell_type": "code",
   "execution_count": 147,
   "id": "10c42c01",
   "metadata": {},
   "outputs": [
    {
     "data": {
      "image/png": "[encoded data removed]",
      "text/plain": [
       "<Figure size 800x400 with 1 Axes>"
      ]
     },
     "metadata": {},
     "output_type": "display_data"
    }
   ],
   "source": [
    "import numpy as np\n",
    "import seaborn as sns\n",
    "import matplotlib.pyplot as plt\n",
    "\n",
    "# Apply log transformation (add 1 to avoid log(0) issues)\n",
    "df['log_sum_insured'] = np.log(df['Sum Insured'] + 1)\n",
    "\n",
    "# Plot the transformed data\n",
    "plt.figure(figsize=(8, 4))\n",
    "sns.boxplot(x=df['log_sum_insured'])\n",
    "plt.title('Boxplot After Log Transformation of Sum Insured')\n",
    "plt.xlabel('Log(Sum Insured + 1)')\n",
    "plt.show()"
   ]
  },
  {
   "cell_type": "code",
   "execution_count": 148,
   "id": "1c6d5c8a",
   "metadata": {},
   "outputs": [
    {
     "data": {
      "text/plain": [
       "Index(['PolicySubmissiondate', 'PolicyID', 'Type Of Policy', 'SBU',\n",
       "       'Inceptiondate', 'Expirydate', 'TIEUPNUMBER', 'Sum Insured', 'STATE',\n",
       "       'Manufacturer', 'NET PREMIUM PAYABLE', 'NCB AMOUNT',\n",
       "       'COVERAGE_DEP-ODPremium', 'OD Premium', 'TP PREMIUM', 'IDV',\n",
       "       'Policy Term', 'Engine-Chassis', 'Claim Count', 'Claim Cost',\n",
       "       'Vehicle Age', 'target', 'log_sum_insured'],\n",
       "      dtype='object')"
      ]
     },
     "execution_count": 148,
     "metadata": {},
     "output_type": "execute_result"
    }
   ],
   "source": [
    "df.columns"
   ]
  },
  {
   "cell_type": "code",
   "execution_count": 149,
   "id": "81900e7a",
   "metadata": {},
   "outputs": [
    {
     "data": {
      "text/html": [
       "<div>\n",
       "<style scoped>\n",
       "    .dataframe tbody tr th:only-of-type {\n",
       "        vertical-align: middle;\n",
       "    }\n",
       "\n",
       "    .dataframe tbody tr th {\n",
       "        vertical-align: top;\n",
       "    }\n",
       "\n",
       "    .dataframe thead th {\n",
       "        text-align: right;\n",
       "    }\n",
       "</style>\n",
       "<table border=\"1\" class=\"dataframe\">\n",
       "  <thead>\n",
       "    <tr style=\"text-align: right;\">\n",
       "      <th></th>\n",
       "      <th>Sum Insured</th>\n",
       "      <th>NET PREMIUM PAYABLE</th>\n",
       "      <th>NCB AMOUNT</th>\n",
       "      <th>COVERAGE_DEP-ODPremium</th>\n",
       "      <th>OD Premium</th>\n",
       "      <th>TP PREMIUM</th>\n",
       "      <th>IDV</th>\n",
       "      <th>Policy Term</th>\n",
       "      <th>Claim Count</th>\n",
       "      <th>Claim Cost</th>\n",
       "      <th>Vehicle Age</th>\n",
       "      <th>target</th>\n",
       "      <th>log_sum_insured</th>\n",
       "    </tr>\n",
       "  </thead>\n",
       "  <tbody>\n",
       "    <tr>\n",
       "      <th>count</th>\n",
       "      <td>6.996000e+03</td>\n",
       "      <td>6996.000000</td>\n",
       "      <td>6996.000000</td>\n",
       "      <td>6996.000000</td>\n",
       "      <td>6996.000000</td>\n",
       "      <td>6996.000000</td>\n",
       "      <td>6.996000e+03</td>\n",
       "      <td>6996.000000</td>\n",
       "      <td>6996.000000</td>\n",
       "      <td>6996.000000</td>\n",
       "      <td>6996.000000</td>\n",
       "      <td>6996.000000</td>\n",
       "      <td>6996.000000</td>\n",
       "    </tr>\n",
       "    <tr>\n",
       "      <th>mean</th>\n",
       "      <td>3.378983e+04</td>\n",
       "      <td>1393.966186</td>\n",
       "      <td>-129.032760</td>\n",
       "      <td>165.616504</td>\n",
       "      <td>375.696607</td>\n",
       "      <td>795.904016</td>\n",
       "      <td>3.371598e+04</td>\n",
       "      <td>1.007719</td>\n",
       "      <td>0.028016</td>\n",
       "      <td>206.717539</td>\n",
       "      <td>9.995569</td>\n",
       "      <td>0.699828</td>\n",
       "      <td>10.207701</td>\n",
       "    </tr>\n",
       "    <tr>\n",
       "      <th>std</th>\n",
       "      <td>3.505581e+04</td>\n",
       "      <td>843.802864</td>\n",
       "      <td>108.299063</td>\n",
       "      <td>80.223698</td>\n",
       "      <td>571.700263</td>\n",
       "      <td>151.327896</td>\n",
       "      <td>3.480761e+04</td>\n",
       "      <td>0.114423</td>\n",
       "      <td>0.181531</td>\n",
       "      <td>1751.452013</td>\n",
       "      <td>3.716064</td>\n",
       "      <td>0.458365</td>\n",
       "      <td>0.649432</td>\n",
       "    </tr>\n",
       "    <tr>\n",
       "      <th>min</th>\n",
       "      <td>0.000000e+00</td>\n",
       "      <td>52.930000</td>\n",
       "      <td>-2549.150000</td>\n",
       "      <td>45.200000</td>\n",
       "      <td>12.860000</td>\n",
       "      <td>0.000000</td>\n",
       "      <td>1.400000e+03</td>\n",
       "      <td>1.000000</td>\n",
       "      <td>0.000000</td>\n",
       "      <td>0.000000</td>\n",
       "      <td>4.000000</td>\n",
       "      <td>0.000000</td>\n",
       "      <td>0.000000</td>\n",
       "    </tr>\n",
       "    <tr>\n",
       "      <th>25%</th>\n",
       "      <td>1.800000e+04</td>\n",
       "      <td>1080.015000</td>\n",
       "      <td>-148.702500</td>\n",
       "      <td>159.630000</td>\n",
       "      <td>185.420000</td>\n",
       "      <td>752.000000</td>\n",
       "      <td>1.800000e+04</td>\n",
       "      <td>1.000000</td>\n",
       "      <td>0.000000</td>\n",
       "      <td>0.000000</td>\n",
       "      <td>7.000000</td>\n",
       "      <td>0.000000</td>\n",
       "      <td>9.798183</td>\n",
       "    </tr>\n",
       "    <tr>\n",
       "      <th>50%</th>\n",
       "      <td>2.690500e+04</td>\n",
       "      <td>1420.600000</td>\n",
       "      <td>-115.920000</td>\n",
       "      <td>165.604982</td>\n",
       "      <td>288.395000</td>\n",
       "      <td>752.000000</td>\n",
       "      <td>2.690000e+04</td>\n",
       "      <td>1.000000</td>\n",
       "      <td>0.000000</td>\n",
       "      <td>0.000000</td>\n",
       "      <td>9.000000</td>\n",
       "      <td>1.000000</td>\n",
       "      <td>10.200105</td>\n",
       "    </tr>\n",
       "    <tr>\n",
       "      <th>75%</th>\n",
       "      <td>4.090000e+04</td>\n",
       "      <td>1593.657500</td>\n",
       "      <td>-73.920000</td>\n",
       "      <td>165.604982</td>\n",
       "      <td>432.960000</td>\n",
       "      <td>795.941928</td>\n",
       "      <td>4.078275e+04</td>\n",
       "      <td>1.000000</td>\n",
       "      <td>0.000000</td>\n",
       "      <td>0.000000</td>\n",
       "      <td>12.000000</td>\n",
       "      <td>1.000000</td>\n",
       "      <td>10.618910</td>\n",
       "    </tr>\n",
       "    <tr>\n",
       "      <th>max</th>\n",
       "      <td>1.800000e+06</td>\n",
       "      <td>45541.960000</td>\n",
       "      <td>-5.790000</td>\n",
       "      <td>3420.000000</td>\n",
       "      <td>35174.880000</td>\n",
       "      <td>2323.000000</td>\n",
       "      <td>1.800000e+06</td>\n",
       "      <td>3.000000</td>\n",
       "      <td>3.000000</td>\n",
       "      <td>47903.000000</td>\n",
       "      <td>34.000000</td>\n",
       "      <td>1.000000</td>\n",
       "      <td>14.403298</td>\n",
       "    </tr>\n",
       "  </tbody>\n",
       "</table>\n",
       "</div>"
      ],
      "text/plain": [
       "        Sum Insured  NET PREMIUM PAYABLE   NCB AMOUNT  COVERAGE_DEP-ODPremium  \\\n",
       "count  6.996000e+03          6996.000000  6996.000000             6996.000000   \n",
       "mean   3.378983e+04          1393.966186  -129.032760              165.616504   \n",
       "std    3.505581e+04           843.802864   108.299063               80.223698   \n",
       "min    0.000000e+00            52.930000 -2549.150000               45.200000   \n",
       "25%    1.800000e+04          1080.015000  -148.702500              159.630000   \n",
       "50%    2.690500e+04          1420.600000  -115.920000              165.604982   \n",
       "75%    4.090000e+04          1593.657500   -73.920000              165.604982   \n",
       "max    1.800000e+06         45541.960000    -5.790000             3420.000000   \n",
       "\n",
       "         OD Premium   TP PREMIUM           IDV  Policy Term  Claim Count  \\\n",
       "count   6996.000000  6996.000000  6.996000e+03  6996.000000  6996.000000   \n",
       "mean     375.696607   795.904016  3.371598e+04     1.007719     0.028016   \n",
       "std      571.700263   151.327896  3.480761e+04     0.114423     0.181531   \n",
       "min       12.860000     0.000000  1.400000e+03     1.000000     0.000000   \n",
       "25%      185.420000   752.000000  1.800000e+04     1.000000     0.000000   \n",
       "50%      288.395000   752.000000  2.690000e+04     1.000000     0.000000   \n",
       "75%      432.960000   795.941928  4.078275e+04     1.000000     0.000000   \n",
       "max    35174.880000  2323.000000  1.800000e+06     3.000000     3.000000   \n",
       "\n",
       "         Claim Cost  Vehicle Age       target  log_sum_insured  \n",
       "count   6996.000000  6996.000000  6996.000000      6996.000000  \n",
       "mean     206.717539     9.995569     0.699828        10.207701  \n",
       "std     1751.452013     3.716064     0.458365         0.649432  \n",
       "min        0.000000     4.000000     0.000000         0.000000  \n",
       "25%        0.000000     7.000000     0.000000         9.798183  \n",
       "50%        0.000000     9.000000     1.000000        10.200105  \n",
       "75%        0.000000    12.000000     1.000000        10.618910  \n",
       "max    47903.000000    34.000000     1.000000        14.403298  "
      ]
     },
     "execution_count": 149,
     "metadata": {},
     "output_type": "execute_result"
    }
   ],
   "source": [
    "df.describe()"
   ]
  },
  {
   "cell_type": "code",
   "execution_count": 150,
   "id": "ecc302f2",
   "metadata": {},
   "outputs": [
    {
     "data": {
      "image/png": "[encoded data removed]",
      "text/plain": [
       "<Figure size 2000x1400 with 1 Axes>"
      ]
     },
     "metadata": {},
     "output_type": "display_data"
    }
   ],
   "source": [
    "import matplotlib.pyplot as plt\n",
    "import seaborn as sns\n",
    "plt.figure(figsize=(20,14))\n",
    "\n",
    "plt.subplot(1,2,1)\n",
    "sns.boxplot(df['NET PREMIUM PAYABLE'])\n",
    "\n",
    "# plt.subplot(1,2,2)\n",
    "# sns.histplot(df.income)\n",
    "\n",
    "plt.tight_layout()"
   ]
  },
  {
   "cell_type": "code",
   "execution_count": 151,
   "id": "5c33f831",
   "metadata": {},
   "outputs": [
    {
     "data": {
      "image/png": "[encoded data removed]",
      "text/plain": [
       "<Figure size 800x400 with 1 Axes>"
      ]
     },
     "metadata": {},
     "output_type": "display_data"
    }
   ],
   "source": [
    "import numpy as np\n",
    "import seaborn as sns\n",
    "import matplotlib.pyplot as plt\n",
    "\n",
    "# Apply log transformation (add 1 to avoid log(0) issues)\n",
    "df['log_NET_PREMIUM_PAYABLE'] = np.log(df['NET PREMIUM PAYABLE'] + 1)\n",
    "\n",
    "# Plot the transformed data\n",
    "plt.figure(figsize=(8, 4))\n",
    "sns.boxplot(x=df['log_NET_PREMIUM_PAYABLE'])\n",
    "plt.title('Boxplot After Log Transformation of NET PREMIUM PAYABLE')\n",
    "plt.xlabel('Log(NET PREMIUM PAYABLE + 1)')\n",
    "plt.show()"
   ]
  },
  {
   "cell_type": "code",
   "execution_count": 152,
   "id": "91ec796a",
   "metadata": {},
   "outputs": [
    {
     "data": {
      "text/plain": [
       "Index(['PolicySubmissiondate', 'PolicyID', 'Type Of Policy', 'SBU',\n",
       "       'Inceptiondate', 'Expirydate', 'TIEUPNUMBER', 'Sum Insured', 'STATE',\n",
       "       'Manufacturer', 'NET PREMIUM PAYABLE', 'NCB AMOUNT',\n",
       "       'COVERAGE_DEP-ODPremium', 'OD Premium', 'TP PREMIUM', 'IDV',\n",
       "       'Policy Term', 'Engine-Chassis', 'Claim Count', 'Claim Cost',\n",
       "       'Vehicle Age', 'target', 'log_sum_insured', 'log_NET_PREMIUM_PAYABLE'],\n",
       "      dtype='object')"
      ]
     },
     "execution_count": 152,
     "metadata": {},
     "output_type": "execute_result"
    }
   ],
   "source": [
    "df.columns"
   ]
  },
  {
   "cell_type": "code",
   "execution_count": 153,
   "id": "29a8a586",
   "metadata": {},
   "outputs": [
    {
     "data": {
      "image/png": "[encoded data removed]",
      "text/plain": [
       "<Figure size 2000x1400 with 1 Axes>"
      ]
     },
     "metadata": {},
     "output_type": "display_data"
    }
   ],
   "source": [
    "import matplotlib.pyplot as plt\n",
    "import seaborn as sns\n",
    "plt.figure(figsize=(20,14))\n",
    "\n",
    "plt.subplot(1,2,1)\n",
    "sns.boxplot(df['NCB AMOUNT'])\n",
    "\n",
    "# plt.subplot(1,2,2)\n",
    "# sns.histplot(df.income)\n",
    "\n",
    "plt.tight_layout()"
   ]
  },
  {
   "cell_type": "code",
   "execution_count": 154,
   "id": "5c6569b7",
   "metadata": {},
   "outputs": [],
   "source": [
    "df['NCB AMOUNT'] = df['NCB AMOUNT'] * -1"
   ]
  },
  {
   "cell_type": "code",
   "execution_count": 155,
   "id": "0ab2f1ce",
   "metadata": {},
   "outputs": [
    {
     "data": {
      "text/plain": [
       "Index(['PolicySubmissiondate', 'PolicyID', 'Type Of Policy', 'SBU',\n",
       "       'Inceptiondate', 'Expirydate', 'TIEUPNUMBER', 'Sum Insured', 'STATE',\n",
       "       'Manufacturer', 'NET PREMIUM PAYABLE', 'NCB AMOUNT',\n",
       "       'COVERAGE_DEP-ODPremium', 'OD Premium', 'TP PREMIUM', 'IDV',\n",
       "       'Policy Term', 'Engine-Chassis', 'Claim Count', 'Claim Cost',\n",
       "       'Vehicle Age', 'target', 'log_sum_insured', 'log_NET_PREMIUM_PAYABLE'],\n",
       "      dtype='object')"
      ]
     },
     "execution_count": 155,
     "metadata": {},
     "output_type": "execute_result"
    }
   ],
   "source": [
    "df.columns"
   ]
  },
  {
   "cell_type": "code",
   "execution_count": 156,
   "id": "ceb130c3",
   "metadata": {},
   "outputs": [
    {
     "data": {
      "image/png": "[encoded data removed]",
      "text/plain": [
       "<Figure size 800x400 with 1 Axes>"
      ]
     },
     "metadata": {},
     "output_type": "display_data"
    }
   ],
   "source": [
    "import numpy as np\n",
    "import seaborn as sns\n",
    "import matplotlib.pyplot as plt\n",
    "\n",
    "# Apply log transformation (add 1 to avoid log(0) issues)\n",
    "df['log_NCB_AMOUNT'] = np.log(df['NCB AMOUNT'] + 1)\n",
    "\n",
    "# Plot the transformed data\n",
    "plt.figure(figsize=(8, 4))\n",
    "sns.boxplot(x=df['log_NCB_AMOUNT'])\n",
    "plt.title('Boxplot After Log Transformation of NCB AMOUNT')\n",
    "plt.xlabel('Log(NCB AMOUNT + 1)')\n",
    "plt.show()"
   ]
  },
  {
   "cell_type": "code",
   "execution_count": 157,
   "id": "8bbef072",
   "metadata": {},
   "outputs": [
    {
     "data": {
      "image/png": "[encoded data removed]",
      "text/plain": [
       "<Figure size 2000x1400 with 1 Axes>"
      ]
     },
     "metadata": {},
     "output_type": "display_data"
    }
   ],
   "source": [
    "import matplotlib.pyplot as plt\n",
    "import seaborn as sns\n",
    "plt.figure(figsize=(20,14))\n",
    "\n",
    "plt.subplot(1,2,1)\n",
    "sns.boxplot(df['COVERAGE_DEP-ODPremium'])\n",
    "\n",
    "# plt.subplot(1,2,2)\n",
    "# sns.histplot(df.income)\n",
    "\n",
    "plt.tight_layout()"
   ]
  },
  {
   "cell_type": "code",
   "execution_count": 158,
   "id": "ffff08ba",
   "metadata": {},
   "outputs": [
    {
     "data": {
      "image/png": "[encoded data removed]",
      "text/plain": [
       "<Figure size 800x400 with 1 Axes>"
      ]
     },
     "metadata": {},
     "output_type": "display_data"
    }
   ],
   "source": [
    "import numpy as np\n",
    "import seaborn as sns\n",
    "import matplotlib.pyplot as plt\n",
    "\n",
    "# Apply log transformation (add 1 to avoid log(0) issues)\n",
    "df['log_coverage_premium'] = np.log(df['COVERAGE_DEP-ODPremium'] + 1)\n",
    "\n",
    "# Plot the transformed data\n",
    "plt.figure(figsize=(8, 4))\n",
    "sns.boxplot(x=df['log_coverage_premium'])\n",
    "plt.title('Boxplot After Log Transformation of coverage premium')\n",
    "plt.xlabel('Log(COVERAGE_DEP-ODPremium + 1)')\n",
    "plt.show()"
   ]
  },
  {
   "cell_type": "code",
   "execution_count": 159,
   "id": "f148dd06",
   "metadata": {},
   "outputs": [
    {
     "data": {
      "image/png": "[encoded data removed]",
      "text/plain": [
       "<Figure size 2000x1400 with 1 Axes>"
      ]
     },
     "metadata": {},
     "output_type": "display_data"
    }
   ],
   "source": [
    "import matplotlib.pyplot as plt\n",
    "import seaborn as sns\n",
    "plt.figure(figsize=(20,14))\n",
    "\n",
    "plt.subplot(1,2,1)\n",
    "sns.boxplot(df['TP PREMIUM'])\n",
    "\n",
    "# plt.subplot(1,2,2)\n",
    "# sns.histplot(df.income)\n",
    "\n",
    "plt.tight_layout()"
   ]
  },
  {
   "cell_type": "code",
   "execution_count": 160,
   "id": "3a6fd824",
   "metadata": {},
   "outputs": [
    {
     "data": {
      "image/png": "[encoded data removed]",
      "text/plain": [
       "<Figure size 800x400 with 1 Axes>"
      ]
     },
     "metadata": {},
     "output_type": "display_data"
    }
   ],
   "source": [
    "import numpy as np\n",
    "import seaborn as sns\n",
    "import matplotlib.pyplot as plt\n",
    "\n",
    "# Apply log transformation (add 1 to avoid log(0) issues)\n",
    "df['log_tp_premium'] = np.log(df['TP PREMIUM'] + 1)\n",
    "\n",
    "# Plot the transformed data\n",
    "plt.figure(figsize=(8, 4))\n",
    "sns.boxplot(x=df['log_tp_premium'])\n",
    "plt.title('Boxplot After Log Transformation of TP PREMIUM')\n",
    "plt.xlabel('Log(TP PREMIUM + 1)')\n",
    "plt.show()"
   ]
  },
  {
   "cell_type": "code",
   "execution_count": 161,
   "id": "6f1d093c",
   "metadata": {},
   "outputs": [
    {
     "data": {
      "image/png": "[encoded data removed]",
      "text/plain": [
       "<Figure size 2000x1400 with 1 Axes>"
      ]
     },
     "metadata": {},
     "output_type": "display_data"
    }
   ],
   "source": [
    "import matplotlib.pyplot as plt\n",
    "import seaborn as sns\n",
    "plt.figure(figsize=(20,14))\n",
    "\n",
    "plt.subplot(1,2,1)\n",
    "sns.boxplot(df['Vehicle Age'])\n",
    "\n",
    "# plt.subplot(1,2,2)\n",
    "# sns.histplot(df.income)\n",
    "\n",
    "plt.tight_layout()"
   ]
  },
  {
   "cell_type": "code",
   "execution_count": 162,
   "id": "84eb815c",
   "metadata": {},
   "outputs": [
    {
     "data": {
      "image/png": "[encoded data removed]",
      "text/plain": [
       "<Figure size 800x400 with 1 Axes>"
      ]
     },
     "metadata": {},
     "output_type": "display_data"
    }
   ],
   "source": [
    "import numpy as np\n",
    "import seaborn as sns\n",
    "import matplotlib.pyplot as plt\n",
    "\n",
    "# Apply log transformation (add 1 to avoid log(0) issues)\n",
    "df['log_VehicleAge'] = np.log(df['Vehicle Age'] + 1)\n",
    "\n",
    "# Plot the transformed data\n",
    "plt.figure(figsize=(8, 4))\n",
    "sns.boxplot(x=df['log_VehicleAge'])\n",
    "plt.title('Boxplot After Log Transformation of Vehicle Age')\n",
    "plt.xlabel('Log(Vehicle Age + 1)')\n",
    "plt.show()\n"
   ]
  },
  {
   "cell_type": "code",
   "execution_count": 163,
   "id": "353996de",
   "metadata": {},
   "outputs": [
    {
     "data": {
      "image/png": "[encoded data removed]",
      "text/plain": [
       "<Figure size 2000x1400 with 1 Axes>"
      ]
     },
     "metadata": {},
     "output_type": "display_data"
    }
   ],
   "source": [
    "import matplotlib.pyplot as plt\n",
    "import seaborn as sns\n",
    "plt.figure(figsize=(20,14))\n",
    "\n",
    "plt.subplot(1,2,1)\n",
    "sns.boxplot(df['OD Premium'])\n",
    "\n",
    "# plt.subplot(1,2,2)\n",
    "# sns.histplot(df.income)\n",
    "\n",
    "plt.tight_layout()"
   ]
  },
  {
   "cell_type": "code",
   "execution_count": 164,
   "id": "41533b74",
   "metadata": {},
   "outputs": [
    {
     "data": {
      "text/plain": [
       "Index(['policysubmissiondate', 'policyid', 'type_of_policy', 'sbu',\n",
       "       'inceptiondate', 'expirydate', 'tieupnumber', 'sum_insured', 'state',\n",
       "       'manufacturer', 'net_premium_payable', 'ncb_amount',\n",
       "       'coverage_depodpremium', 'od_premium', 'tp_premium', 'idv',\n",
       "       'policy_term', 'enginechassis', 'claim_count', 'claim_cost',\n",
       "       'vehicle_age', 'target', 'log_sum_insured', 'log_net_premium_payable',\n",
       "       'log_ncb_amount', 'log_coverage_premium', 'log_tp_premium',\n",
       "       'log_vehicleage'],\n",
       "      dtype='object')"
      ]
     },
     "execution_count": 164,
     "metadata": {},
     "output_type": "execute_result"
    }
   ],
   "source": [
    "df.columns = df.columns.str.lower().str.replace(' ','_').str.replace(r'\\W', '', regex=True)\n",
    "df.columns"
   ]
  },
  {
   "cell_type": "code",
   "execution_count": 165,
   "id": "944b25e0",
   "metadata": {},
   "outputs": [
    {
     "data": {
      "text/plain": [
       "Index(['policysubmissiondate', 'policyid', 'type_of_policy', 'sbu',\n",
       "       'inceptiondate', 'expirydate', 'tieupnumber', 'sum_insured', 'state',\n",
       "       'manufacturer', 'net_premium_payable', 'ncb_amount',\n",
       "       'coverage_depodpremium', 'od_premium', 'tp_premium', 'idv',\n",
       "       'policy_term', 'enginechassis', 'claim_count', 'claim_cost',\n",
       "       'vehicle_age', 'target', 'log_sum_insured', 'log_net_premium_payable',\n",
       "       'log_ncb_amount', 'log_coverage_premium', 'log_tp_premium',\n",
       "       'log_vehicleage'],\n",
       "      dtype='object')"
      ]
     },
     "execution_count": 165,
     "metadata": {},
     "output_type": "execute_result"
    }
   ],
   "source": [
    "df.columns"
   ]
  },
  {
   "cell_type": "code",
   "execution_count": 166,
   "id": "78896331",
   "metadata": {},
   "outputs": [],
   "source": [
    "outlier_threshold=150000\n",
    "df=df.loc[df.sum_insured <= outlier_threshold]"
   ]
  },
  {
   "cell_type": "code",
   "execution_count": 167,
   "id": "ac0323e1",
   "metadata": {},
   "outputs": [],
   "source": [
    "# import matplotlib.pyplot as plt\n",
    "# import seaborn as sns\n",
    "# plt.figure(figsize=(20,14))\n",
    "\n",
    "# plt.subplot(1,2,1)\n",
    "# sns.boxplot(df['sum_insured'])\n",
    "\n",
    "# # plt.subplot(1,2,2)\n",
    "# # sns.histplot(df.income)\n",
    "\n",
    "# plt.tight_layout()"
   ]
  },
  {
   "cell_type": "code",
   "execution_count": 168,
   "id": "0a468880",
   "metadata": {},
   "outputs": [],
   "source": [
    "# import matplotlib.pyplot as plt\n",
    "# import seaborn as sns\n",
    "# plt.figure(figsize=(20,14))\n",
    "\n",
    "# plt.subplot(1,2,1)\n",
    "# sns.boxplot(df['od_premium'])\n",
    "\n",
    "# # plt.subplot(1,2,2)\n",
    "# # sns.histplot(df.income)\n",
    "\n",
    "# plt.tight_layout()"
   ]
  },
  {
   "cell_type": "code",
   "execution_count": 169,
   "id": "88a288c2",
   "metadata": {},
   "outputs": [],
   "source": [
    "# import numpy as np\n",
    "# import seaborn as sns\n",
    "# import matplotlib.pyplot as plt\n",
    "\n",
    "# # Apply log transformation (add 1 to avoid log(0) issues)\n",
    "# df['log_od_premium'] = np.log(df['od_premium'] + 1)\n",
    "\n",
    "# # Plot the transformed data\n",
    "# plt.figure(figsize=(8, 4))\n",
    "# sns.boxplot(x=df['log_od_premium'])\n",
    "# plt.title('Boxplot After Log Transformation of od_premium')\n",
    "# plt.xlabel('Log(od_premium + 1)')\n",
    "# plt.show()\n"
   ]
  },
  {
   "cell_type": "code",
   "execution_count": 170,
   "id": "f3392b66",
   "metadata": {},
   "outputs": [],
   "source": [
    "# df[df['log_od_premium'] == 0]['od_premium']"
   ]
  },
  {
   "cell_type": "code",
   "execution_count": 171,
   "id": "497b2029",
   "metadata": {},
   "outputs": [],
   "source": [
    "# import matplotlib.pyplot as plt\n",
    "# import seaborn as sns\n",
    "# plt.figure(figsize=(20,14))\n",
    "\n",
    "# plt.subplot(1,2,1)\n",
    "# sns.boxplot(df['claim_cost'])\n",
    "\n",
    "# # plt.subplot(1,2,2)\n",
    "# # sns.histplot(df.income)\n",
    "\n",
    "# plt.tight_layout()"
   ]
  },
  {
   "cell_type": "code",
   "execution_count": 172,
   "id": "7e17efe1",
   "metadata": {},
   "outputs": [],
   "source": [
    "# import numpy as np\n",
    "# import seaborn as sns\n",
    "# import matplotlib.pyplot as plt\n",
    "\n",
    "# # Apply log transformation (add 1 to avoid log(0) issues)\n",
    "# df['log_claim_cost'] = np.log(df['claim_cost'] + 1)\n",
    "\n",
    "# # Plot the transformed data\n",
    "# plt.figure(figsize=(8, 4))\n",
    "# sns.boxplot(x=df['log_claim_cost'])\n",
    "# plt.title('Boxplot After Log Transformation of claim_cost')\n",
    "# plt.xlabel('Log(claim_cost + 1)')\n",
    "# plt.show()"
   ]
  },
  {
   "cell_type": "code",
   "execution_count": 173,
   "id": "dea87313",
   "metadata": {},
   "outputs": [],
   "source": [
    "# import matplotlib.pyplot as plt\n",
    "# import seaborn as sns\n",
    "# plt.figure(figsize=(20,14))\n",
    "\n",
    "# plt.subplot(1,2,1)\n",
    "# sns.boxplot(df['claim_count'])\n",
    "\n",
    "# # plt.subplot(1,2,2)\n",
    "# # sns.histplot(df.income)\n",
    "\n",
    "# plt.tight_layout()"
   ]
  },
  {
   "cell_type": "code",
   "execution_count": 174,
   "id": "07bc3751",
   "metadata": {},
   "outputs": [],
   "source": [
    "# import numpy as np\n",
    "# import seaborn as sns\n",
    "# import matplotlib.pyplot as plt\n",
    "\n",
    "# # Apply log transformation (add 1 to avoid log(0) issues)\n",
    "# df['log_claim_count'] = np.log(df['claim_count'] + 1)\n",
    "\n",
    "# # Plot the transformed data\n",
    "# plt.figure(figsize=(8, 4))\n",
    "# sns.boxplot(x=df['log_claim_count'])\n",
    "# plt.title('Boxplot After Log Transformation of claim_count')\n",
    "# plt.xlabel('Log(od_premium + 1)')\n",
    "# plt.show()"
   ]
  },
  {
   "cell_type": "code",
   "execution_count": 175,
   "id": "5d81fa98",
   "metadata": {},
   "outputs": [
    {
     "name": "stdout",
     "output_type": "stream",
     "text": [
      "No of duplicate rows: 0\n"
     ]
    }
   ],
   "source": [
    "duplicate_mask = df.duplicated()\n",
    "print(f'No of duplicate rows: {duplicate_mask.sum()}')"
   ]
  },
  {
   "cell_type": "code",
   "execution_count": 176,
   "id": "10c2098f",
   "metadata": {},
   "outputs": [],
   "source": [
    "df['policysubmissiondate'] = pd.to_datetime(df['policysubmissiondate'], format='%Y-%m-%d')"
   ]
  },
  {
   "cell_type": "code",
   "execution_count": 177,
   "id": "906b9144",
   "metadata": {},
   "outputs": [],
   "source": [
    "df['inceptiondate'] = pd.to_datetime(df['inceptiondate'], format='%Y-%m-%d')"
   ]
  },
  {
   "cell_type": "code",
   "execution_count": 178,
   "id": "a83b7f7e",
   "metadata": {},
   "outputs": [],
   "source": [
    "df['expirydate'] = pd.to_datetime(df['expirydate'], format='%Y-%m-%d')"
   ]
  },
  {
   "cell_type": "code",
   "execution_count": 179,
   "id": "f035655b",
   "metadata": {},
   "outputs": [
    {
     "data": {
      "text/plain": [
       "<bound method NDFrame.describe of      policysubmissiondate  policyid          type_of_policy sbu inceptiondate  \\\n",
       "0              2021-12-25  f12a6079        Our Own Renewals  D7    2022-01-01   \n",
       "1              2021-12-22  f8f90d19  Other Company Renewals  F5    2022-01-01   \n",
       "2              2021-12-25  743b937e        Our Own Renewals  27    2022-01-01   \n",
       "3              2021-12-09  447ce90f        Our Own Renewals  A6    2022-01-01   \n",
       "4              2021-12-27  6ae1e696        Our Own Renewals  74    2022-01-16   \n",
       "...                   ...       ...                     ...  ..           ...   \n",
       "6995           2021-12-21  9772e102        Our Own Renewals  96    2022-01-04   \n",
       "6996           2021-12-29  45c5ce89        Our Own Renewals  51    2022-01-02   \n",
       "6997           2022-01-02  8e0d8f07        Our Own Renewals  74    2022-01-03   \n",
       "6998           2021-12-31  ede9e5b9        Our Own Renewals  K2    2022-01-04   \n",
       "6999           2022-01-03  65e277eb  Other Company Renewals  A6    2022-01-04   \n",
       "\n",
       "     expirydate tieupnumber  sum_insured           state   manufacturer  ...  \\\n",
       "0    2022-12-31    30344113      57335.0  MADHYA PRADESH          HONDA  ...   \n",
       "1    2022-12-31    9d41fa3e      10000.0       KARNATAKA           HERO  ...   \n",
       "2    2022-12-31    8c8bb2c1      30870.0         HARYANA            TVS  ...   \n",
       "3    2022-12-31    fffcb05a      23980.0       KARNATAKA          HONDA  ...   \n",
       "4    2023-01-15    4c2e4e96      38518.0   UTTAR PRADESH            TVS  ...   \n",
       "...         ...         ...          ...             ...            ...  ...   \n",
       "6995 2023-01-03    34a0fb5f      13100.0      TAMIL NADU            TVS  ...   \n",
       "6996 2023-01-01    c410f386      13900.0         GUJARAT          HONDA  ...   \n",
       "6997 2023-01-02    9fd4aaf1      31080.0     MAHARASHTRA          HONDA  ...   \n",
       "6998 2023-01-03    85cb4f16      75000.0      TAMIL NADU          BAJAJ  ...   \n",
       "6999 2023-01-03    d77fc345     150000.0       KARNATAKA  ROYAL ENFIELD  ...   \n",
       "\n",
       "      claim_count  claim_cost  vehicle_age  target  log_sum_insured  \\\n",
       "0             0.0         0.0          5.0       0        10.956684   \n",
       "1             0.0         0.0         18.0       0         9.210440   \n",
       "2             0.0         0.0          8.0       0        10.337573   \n",
       "3             0.0         0.0         10.0       0        10.085017   \n",
       "4             0.0         0.0          8.0       0        10.558907   \n",
       "...           ...         ...          ...     ...              ...   \n",
       "6995          0.0         0.0          9.0       1         9.480444   \n",
       "6996          0.0         0.0         13.0       1         9.539716   \n",
       "6997          0.0         0.0          9.0       1        10.344352   \n",
       "6998          0.0         0.0          6.0       1        11.225257   \n",
       "6999          0.0         0.0          4.0       1        11.918397   \n",
       "\n",
       "      log_net_premium_payable  log_ncb_amount log_coverage_premium  \\\n",
       "0                    6.792670        5.035588             4.972172   \n",
       "1                    6.887991        4.369828             5.115626   \n",
       "2                    7.344848        5.148308             5.115626   \n",
       "3                    7.313594        5.134739             5.115626   \n",
       "4                    7.292371        5.368496             5.447211   \n",
       "...                       ...             ...                  ...   \n",
       "6995                 7.275297        3.722072             5.115626   \n",
       "6996                 7.345662        4.327702             4.460029   \n",
       "6997                 7.320044        4.419443             5.115626   \n",
       "6998                 6.493179        4.204693             5.278115   \n",
       "6999                 7.598259        6.048317             5.115626   \n",
       "\n",
       "      log_tp_premium  log_vehicleage  \n",
       "0           6.680782        1.791759  \n",
       "1           6.624065        2.944439  \n",
       "2           6.624065        2.197225  \n",
       "3           6.624065        2.397895  \n",
       "4           6.624065        2.197225  \n",
       "...              ...             ...  \n",
       "6995        6.624065        2.302585  \n",
       "6996        6.624065        2.639057  \n",
       "6997        6.624065        2.302585  \n",
       "6998        6.680782        1.945910  \n",
       "6999        6.680782        1.609438  \n",
       "\n",
       "[6937 rows x 28 columns]>"
      ]
     },
     "execution_count": 179,
     "metadata": {},
     "output_type": "execute_result"
    }
   ],
   "source": [
    "df.describe"
   ]
  },
  {
   "cell_type": "code",
   "execution_count": 180,
   "id": "272922f8",
   "metadata": {},
   "outputs": [
    {
     "data": {
      "text/plain": [
       "(6937, 28)"
      ]
     },
     "execution_count": 180,
     "metadata": {},
     "output_type": "execute_result"
    }
   ],
   "source": [
    "df.shape"
   ]
  },
  {
   "cell_type": "code",
   "execution_count": 181,
   "id": "babebee0",
   "metadata": {},
   "outputs": [
    {
     "data": {
      "image/png": "[encoded data removed]",
      "text/plain": [
       "<Figure size 640x480 with 1 Axes>"
      ]
     },
     "metadata": {},
     "output_type": "display_data"
    }
   ],
   "source": [
    "import pandas as pd\n",
    "import seaborn as sns\n",
    "import matplotlib.pyplot as plt\n",
    "\n",
    "sns.stripplot(data=df['claim_count'], jitter=True)\n",
    "\n",
    "# 3. Show the plot\n",
    "plt.title('Univariate Scatter Plot of Petal Length')\n",
    "plt.ylabel('Claim Count')\n",
    "plt.show()\n"
   ]
  },
  {
   "cell_type": "code",
   "execution_count": 182,
   "id": "f1071146",
   "metadata": {},
   "outputs": [
    {
     "name": "stdout",
     "output_type": "stream",
     "text": [
      "<class 'pandas.core.frame.DataFrame'>\n",
      "Index: 6937 entries, 0 to 6999\n",
      "Data columns (total 28 columns):\n",
      " #   Column                   Non-Null Count  Dtype         \n",
      "---  ------                   --------------  -----         \n",
      " 0   policysubmissiondate     6937 non-null   datetime64[ns]\n",
      " 1   policyid                 6937 non-null   object        \n",
      " 2   type_of_policy           6937 non-null   object        \n",
      " 3   sbu                      6937 non-null   object        \n",
      " 4   inceptiondate            6937 non-null   datetime64[ns]\n",
      " 5   expirydate               6937 non-null   datetime64[ns]\n",
      " 6   tieupnumber              6937 non-null   object        \n",
      " 7   sum_insured              6937 non-null   float64       \n",
      " 8   state                    6937 non-null   object        \n",
      " 9   manufacturer             6937 non-null   object        \n",
      " 10  net_premium_payable      6937 non-null   float64       \n",
      " 11  ncb_amount               6937 non-null   float64       \n",
      " 12  coverage_depodpremium    6937 non-null   float64       \n",
      " 13  od_premium               6937 non-null   float64       \n",
      " 14  tp_premium               6937 non-null   float64       \n",
      " 15  idv                      6937 non-null   float64       \n",
      " 16  policy_term              6937 non-null   float64       \n",
      " 17  enginechassis            6937 non-null   object        \n",
      " 18  claim_count              6937 non-null   float64       \n",
      " 19  claim_cost               6937 non-null   float64       \n",
      " 20  vehicle_age              6937 non-null   float64       \n",
      " 21  target                   6937 non-null   int64         \n",
      " 22  log_sum_insured          6937 non-null   float64       \n",
      " 23  log_net_premium_payable  6937 non-null   float64       \n",
      " 24  log_ncb_amount           6937 non-null   float64       \n",
      " 25  log_coverage_premium     6937 non-null   float64       \n",
      " 26  log_tp_premium           6937 non-null   float64       \n",
      " 27  log_vehicleage           6937 non-null   float64       \n",
      "dtypes: datetime64[ns](3), float64(17), int64(1), object(7)\n",
      "memory usage: 1.5+ MB\n"
     ]
    }
   ],
   "source": [
    "df.info()\n",
    "\n",
    "\n"
   ]
  },
  {
   "cell_type": "code",
   "execution_count": 183,
   "id": "ee2c1417",
   "metadata": {},
   "outputs": [
    {
     "name": "stdout",
     "output_type": "stream",
     "text": [
      "<class 'pandas.core.frame.DataFrame'>\n",
      "Index: 6937 entries, 0 to 6999\n",
      "Data columns (total 28 columns):\n",
      " #   Column                   Non-Null Count  Dtype         \n",
      "---  ------                   --------------  -----         \n",
      " 0   policysubmissiondate     6937 non-null   datetime64[ns]\n",
      " 1   policyid                 6937 non-null   object        \n",
      " 2   type_of_policy           6937 non-null   object        \n",
      " 3   sbu                      6937 non-null   object        \n",
      " 4   inceptiondate            6937 non-null   datetime64[ns]\n",
      " 5   expirydate               6937 non-null   datetime64[ns]\n",
      " 6   tieupnumber              6937 non-null   object        \n",
      " 7   sum_insured              6937 non-null   float64       \n",
      " 8   state                    6937 non-null   object        \n",
      " 9   manufacturer             6937 non-null   object        \n",
      " 10  net_premium_payable      6937 non-null   float64       \n",
      " 11  ncb_amount               6937 non-null   float64       \n",
      " 12  coverage_depodpremium    6937 non-null   float64       \n",
      " 13  od_premium               6937 non-null   float64       \n",
      " 14  tp_premium               6937 non-null   float64       \n",
      " 15  idv                      6937 non-null   float64       \n",
      " 16  policy_term              6937 non-null   float64       \n",
      " 17  enginechassis            6937 non-null   object        \n",
      " 18  claim_count              6937 non-null   float64       \n",
      " 19  claim_cost               6937 non-null   float64       \n",
      " 20  vehicle_age              6937 non-null   float64       \n",
      " 21  target                   6937 non-null   int64         \n",
      " 22  log_sum_insured          6937 non-null   float64       \n",
      " 23  log_net_premium_payable  6937 non-null   float64       \n",
      " 24  log_ncb_amount           6937 non-null   float64       \n",
      " 25  log_coverage_premium     6937 non-null   float64       \n",
      " 26  log_tp_premium           6937 non-null   float64       \n",
      " 27  log_vehicleage           6937 non-null   float64       \n",
      "dtypes: datetime64[ns](3), float64(17), int64(1), object(7)\n",
      "memory usage: 1.5+ MB\n"
     ]
    }
   ],
   "source": [
    "df.info()"
   ]
  },
  {
   "cell_type": "code",
   "execution_count": 184,
   "id": "14620465",
   "metadata": {},
   "outputs": [
    {
     "data": {
      "text/plain": [
       "Index(['policysubmissiondate', 'policyid', 'type_of_policy', 'sbu',\n",
       "       'inceptiondate', 'expirydate', 'tieupnumber', 'sum_insured', 'state',\n",
       "       'manufacturer', 'net_premium_payable', 'ncb_amount',\n",
       "       'coverage_depodpremium', 'od_premium', 'tp_premium', 'idv',\n",
       "       'policy_term', 'enginechassis', 'claim_count', 'claim_cost',\n",
       "       'vehicle_age', 'target', 'log_sum_insured', 'log_net_premium_payable',\n",
       "       'log_ncb_amount', 'log_coverage_premium', 'log_tp_premium',\n",
       "       'log_vehicleage'],\n",
       "      dtype='object')"
      ]
     },
     "execution_count": 184,
     "metadata": {},
     "output_type": "execute_result"
    }
   ],
   "source": [
    "df.columns"
   ]
  },
  {
   "cell_type": "markdown",
   "id": "36f906a0",
   "metadata": {},
   "source": [
    "delete pincode, ncb, endorsement, inceptionyr, 'carrying_capacity', 'cubic_capacity'"
   ]
  },
  {
   "cell_type": "code",
   "execution_count": 185,
   "id": "6d47ff07",
   "metadata": {},
   "outputs": [],
   "source": [
    "# import matplotlib.pyplot as plt \n",
    "# import pandas as pd \n",
    "# import numpy as np\n",
    "\n",
    "\n",
    "# columns=[col for col in df.columns if col!='target']\n",
    "\n",
    "# for col in columns:\n",
    "#     y = df[col]\n",
    "#     x = np.random.normal(1, 0.01, size=len(y))\n",
    "#     plt.figure(figsize=(10, 14))\n",
    "#     plt.scatter(x,y, marker='o', s=50, alpha=0.7)\n",
    "#     plt.title(f'Univariate Scatter Plots')\n",
    "#     plt.ylabel(col)\n",
    "#     # plt.xticks([])  # Hide x-axis since x is artificial\n",
    "#     plt.show()\n"
   ]
  },
  {
   "cell_type": "code",
   "execution_count": 186,
   "id": "a9c27be7",
   "metadata": {},
   "outputs": [],
   "source": [
    "# import pandas as pd\n",
    "# import seaborn as sns\n",
    "# import matplotlib.pyplot as plt\n",
    "\n",
    "# df=pd.read_csv('train.csv')\n",
    "\n",
    "# sns.stripplot(y='Claim Count', data=df, jitter=True)\n",
    "\n",
    "# # 3. Show the plot\n",
    "# plt.title('Univariate Scatter Plot of Petal Length')\n",
    "# plt.ylabel('Claim Count')\n",
    "# plt.show()\n"
   ]
  },
  {
   "cell_type": "markdown",
   "id": "1b85984e",
   "metadata": {},
   "source": [
    "using log transformation for od_premium since it is right skewed"
   ]
  },
  {
   "cell_type": "code",
   "execution_count": 187,
   "id": "984bd827",
   "metadata": {},
   "outputs": [
    {
     "data": {
      "text/plain": [
       "(6937, 28)"
      ]
     },
     "execution_count": 187,
     "metadata": {},
     "output_type": "execute_result"
    }
   ],
   "source": [
    "df.shape "
   ]
  },
  {
   "cell_type": "code",
   "execution_count": 188,
   "id": "2d69e3dd",
   "metadata": {},
   "outputs": [
    {
     "data": {
      "text/plain": [
       "Index(['policysubmissiondate', 'policyid', 'type_of_policy', 'sbu',\n",
       "       'inceptiondate', 'expirydate', 'tieupnumber', 'sum_insured', 'state',\n",
       "       'manufacturer', 'net_premium_payable', 'ncb_amount',\n",
       "       'coverage_depodpremium', 'od_premium', 'tp_premium', 'idv',\n",
       "       'policy_term', 'enginechassis', 'claim_count', 'claim_cost',\n",
       "       'vehicle_age', 'target', 'log_sum_insured', 'log_net_premium_payable',\n",
       "       'log_ncb_amount', 'log_coverage_premium', 'log_tp_premium',\n",
       "       'log_vehicleage'],\n",
       "      dtype='object')"
      ]
     },
     "execution_count": 188,
     "metadata": {},
     "output_type": "execute_result"
    }
   ],
   "source": [
    "df.columns"
   ]
  },
  {
   "cell_type": "code",
   "execution_count": 189,
   "id": "5bbb1b8e",
   "metadata": {},
   "outputs": [
    {
     "data": {
      "text/plain": [
       "Index(['policysubmissiondate', 'policyid', 'type_of_policy', 'sbu',\n",
       "       'inceptiondate', 'expirydate', 'tieupnumber', 'sum_insured', 'state',\n",
       "       'manufacturer', 'net_premium_payable', 'ncb_amount',\n",
       "       'coverage_depodpremium', 'od_premium', 'tp_premium', 'idv',\n",
       "       'policy_term', 'enginechassis', 'claim_count', 'claim_cost',\n",
       "       'vehicle_age', 'target', 'log_sum_insured', 'log_net_premium_payable',\n",
       "       'log_ncb_amount', 'log_coverage_premium', 'log_tp_premium',\n",
       "       'log_vehicleage'],\n",
       "      dtype='object')"
      ]
     },
     "execution_count": 189,
     "metadata": {},
     "output_type": "execute_result"
    }
   ],
   "source": [
    "df.columns"
   ]
  },
  {
   "cell_type": "code",
   "execution_count": 190,
   "id": "5ffc7b29",
   "metadata": {},
   "outputs": [
    {
     "data": {
      "image/png": "[encoded data removed]",
      "text/plain": [
       "<Figure size 800x600 with 2 Axes>"
      ]
     },
     "metadata": {},
     "output_type": "display_data"
    }
   ],
   "source": [
    " import pandas as pd \n",
    " import matplotlib.pyplot as plt \n",
    " import seaborn as sns \n",
    "\n",
    " cols=['log_sum_insured','log_net_premium_payable','log_ncb_amount','log_coverage_premium','log_tp_premium','vehicle_age','claim_count','claim_cost']\n",
    "\n",
    " corr_matrix=df[cols].corr()\n",
    " plt.figure(figsize=(8, 6))\n",
    " sns.heatmap(corr_matrix, annot=True, cmap='coolwarm', linewidths=0.5)\n",
    " plt.title('Correlation Matrix for Selected Columns')\n",
    " plt.show()\n"
   ]
  },
  {
   "cell_type": "markdown",
   "id": "248c5dfd",
   "metadata": {},
   "source": [
    "In this correlation matrix "
   ]
  },
  {
   "cell_type": "code",
   "execution_count": 191,
   "id": "bccf8290",
   "metadata": {},
   "outputs": [
    {
     "data": {
      "text/plain": [
       "Index(['policysubmissiondate', 'policyid', 'type_of_policy', 'sbu',\n",
       "       'inceptiondate', 'expirydate', 'tieupnumber', 'sum_insured', 'state',\n",
       "       'manufacturer', 'net_premium_payable', 'ncb_amount',\n",
       "       'coverage_depodpremium', 'od_premium', 'tp_premium', 'idv',\n",
       "       'policy_term', 'enginechassis', 'claim_count', 'claim_cost',\n",
       "       'vehicle_age', 'target', 'log_sum_insured', 'log_net_premium_payable',\n",
       "       'log_ncb_amount', 'log_coverage_premium', 'log_tp_premium',\n",
       "       'log_vehicleage'],\n",
       "      dtype='object')"
      ]
     },
     "execution_count": 191,
     "metadata": {},
     "output_type": "execute_result"
    }
   ],
   "source": [
    "df.columns"
   ]
  },
  {
   "cell_type": "code",
   "execution_count": 192,
   "id": "8a14227b",
   "metadata": {},
   "outputs": [],
   "source": [
    "df.reset_index(inplace=True, drop=True)"
   ]
  },
  {
   "cell_type": "code",
   "execution_count": 193,
   "id": "f9adafe1",
   "metadata": {},
   "outputs": [
    {
     "data": {
      "text/html": [
       "<div>\n",
       "<style scoped>\n",
       "    .dataframe tbody tr th:only-of-type {\n",
       "        vertical-align: middle;\n",
       "    }\n",
       "\n",
       "    .dataframe tbody tr th {\n",
       "        vertical-align: top;\n",
       "    }\n",
       "\n",
       "    .dataframe thead th {\n",
       "        text-align: right;\n",
       "    }\n",
       "</style>\n",
       "<table border=\"1\" class=\"dataframe\">\n",
       "  <thead>\n",
       "    <tr style=\"text-align: right;\">\n",
       "      <th></th>\n",
       "      <th>policysubmissiondate</th>\n",
       "      <th>policyid</th>\n",
       "      <th>type_of_policy</th>\n",
       "      <th>sbu</th>\n",
       "      <th>inceptiondate</th>\n",
       "      <th>expirydate</th>\n",
       "      <th>tieupnumber</th>\n",
       "      <th>sum_insured</th>\n",
       "      <th>state</th>\n",
       "      <th>manufacturer</th>\n",
       "      <th>...</th>\n",
       "      <th>claim_count</th>\n",
       "      <th>claim_cost</th>\n",
       "      <th>vehicle_age</th>\n",
       "      <th>target</th>\n",
       "      <th>log_sum_insured</th>\n",
       "      <th>log_net_premium_payable</th>\n",
       "      <th>log_ncb_amount</th>\n",
       "      <th>log_coverage_premium</th>\n",
       "      <th>log_tp_premium</th>\n",
       "      <th>log_vehicleage</th>\n",
       "    </tr>\n",
       "  </thead>\n",
       "  <tbody>\n",
       "    <tr>\n",
       "      <th>0</th>\n",
       "      <td>2021-12-25</td>\n",
       "      <td>f12a6079</td>\n",
       "      <td>Our Own Renewals</td>\n",
       "      <td>D7</td>\n",
       "      <td>2022-01-01</td>\n",
       "      <td>2022-12-31</td>\n",
       "      <td>30344113</td>\n",
       "      <td>57335.0</td>\n",
       "      <td>MADHYA PRADESH</td>\n",
       "      <td>HONDA</td>\n",
       "      <td>...</td>\n",
       "      <td>0.0</td>\n",
       "      <td>0.0</td>\n",
       "      <td>5.0</td>\n",
       "      <td>0</td>\n",
       "      <td>10.956684</td>\n",
       "      <td>6.792670</td>\n",
       "      <td>5.035588</td>\n",
       "      <td>4.972172</td>\n",
       "      <td>6.680782</td>\n",
       "      <td>1.791759</td>\n",
       "    </tr>\n",
       "    <tr>\n",
       "      <th>1</th>\n",
       "      <td>2021-12-22</td>\n",
       "      <td>f8f90d19</td>\n",
       "      <td>Other Company Renewals</td>\n",
       "      <td>F5</td>\n",
       "      <td>2022-01-01</td>\n",
       "      <td>2022-12-31</td>\n",
       "      <td>9d41fa3e</td>\n",
       "      <td>10000.0</td>\n",
       "      <td>KARNATAKA</td>\n",
       "      <td>HERO</td>\n",
       "      <td>...</td>\n",
       "      <td>0.0</td>\n",
       "      <td>0.0</td>\n",
       "      <td>18.0</td>\n",
       "      <td>0</td>\n",
       "      <td>9.210440</td>\n",
       "      <td>6.887991</td>\n",
       "      <td>4.369828</td>\n",
       "      <td>5.115626</td>\n",
       "      <td>6.624065</td>\n",
       "      <td>2.944439</td>\n",
       "    </tr>\n",
       "    <tr>\n",
       "      <th>2</th>\n",
       "      <td>2021-12-25</td>\n",
       "      <td>743b937e</td>\n",
       "      <td>Our Own Renewals</td>\n",
       "      <td>27</td>\n",
       "      <td>2022-01-01</td>\n",
       "      <td>2022-12-31</td>\n",
       "      <td>8c8bb2c1</td>\n",
       "      <td>30870.0</td>\n",
       "      <td>HARYANA</td>\n",
       "      <td>TVS</td>\n",
       "      <td>...</td>\n",
       "      <td>0.0</td>\n",
       "      <td>0.0</td>\n",
       "      <td>8.0</td>\n",
       "      <td>0</td>\n",
       "      <td>10.337573</td>\n",
       "      <td>7.344848</td>\n",
       "      <td>5.148308</td>\n",
       "      <td>5.115626</td>\n",
       "      <td>6.624065</td>\n",
       "      <td>2.197225</td>\n",
       "    </tr>\n",
       "    <tr>\n",
       "      <th>3</th>\n",
       "      <td>2021-12-09</td>\n",
       "      <td>447ce90f</td>\n",
       "      <td>Our Own Renewals</td>\n",
       "      <td>A6</td>\n",
       "      <td>2022-01-01</td>\n",
       "      <td>2022-12-31</td>\n",
       "      <td>fffcb05a</td>\n",
       "      <td>23980.0</td>\n",
       "      <td>KARNATAKA</td>\n",
       "      <td>HONDA</td>\n",
       "      <td>...</td>\n",
       "      <td>0.0</td>\n",
       "      <td>0.0</td>\n",
       "      <td>10.0</td>\n",
       "      <td>0</td>\n",
       "      <td>10.085017</td>\n",
       "      <td>7.313594</td>\n",
       "      <td>5.134739</td>\n",
       "      <td>5.115626</td>\n",
       "      <td>6.624065</td>\n",
       "      <td>2.397895</td>\n",
       "    </tr>\n",
       "    <tr>\n",
       "      <th>4</th>\n",
       "      <td>2021-12-27</td>\n",
       "      <td>6ae1e696</td>\n",
       "      <td>Our Own Renewals</td>\n",
       "      <td>74</td>\n",
       "      <td>2022-01-16</td>\n",
       "      <td>2023-01-15</td>\n",
       "      <td>4c2e4e96</td>\n",
       "      <td>38518.0</td>\n",
       "      <td>UTTAR PRADESH</td>\n",
       "      <td>TVS</td>\n",
       "      <td>...</td>\n",
       "      <td>0.0</td>\n",
       "      <td>0.0</td>\n",
       "      <td>8.0</td>\n",
       "      <td>0</td>\n",
       "      <td>10.558907</td>\n",
       "      <td>7.292371</td>\n",
       "      <td>5.368496</td>\n",
       "      <td>5.447211</td>\n",
       "      <td>6.624065</td>\n",
       "      <td>2.197225</td>\n",
       "    </tr>\n",
       "    <tr>\n",
       "      <th>...</th>\n",
       "      <td>...</td>\n",
       "      <td>...</td>\n",
       "      <td>...</td>\n",
       "      <td>...</td>\n",
       "      <td>...</td>\n",
       "      <td>...</td>\n",
       "      <td>...</td>\n",
       "      <td>...</td>\n",
       "      <td>...</td>\n",
       "      <td>...</td>\n",
       "      <td>...</td>\n",
       "      <td>...</td>\n",
       "      <td>...</td>\n",
       "      <td>...</td>\n",
       "      <td>...</td>\n",
       "      <td>...</td>\n",
       "      <td>...</td>\n",
       "      <td>...</td>\n",
       "      <td>...</td>\n",
       "      <td>...</td>\n",
       "      <td>...</td>\n",
       "    </tr>\n",
       "    <tr>\n",
       "      <th>6932</th>\n",
       "      <td>2021-12-21</td>\n",
       "      <td>9772e102</td>\n",
       "      <td>Our Own Renewals</td>\n",
       "      <td>96</td>\n",
       "      <td>2022-01-04</td>\n",
       "      <td>2023-01-03</td>\n",
       "      <td>34a0fb5f</td>\n",
       "      <td>13100.0</td>\n",
       "      <td>TAMIL NADU</td>\n",
       "      <td>TVS</td>\n",
       "      <td>...</td>\n",
       "      <td>0.0</td>\n",
       "      <td>0.0</td>\n",
       "      <td>9.0</td>\n",
       "      <td>1</td>\n",
       "      <td>9.480444</td>\n",
       "      <td>7.275297</td>\n",
       "      <td>3.722072</td>\n",
       "      <td>5.115626</td>\n",
       "      <td>6.624065</td>\n",
       "      <td>2.302585</td>\n",
       "    </tr>\n",
       "    <tr>\n",
       "      <th>6933</th>\n",
       "      <td>2021-12-29</td>\n",
       "      <td>45c5ce89</td>\n",
       "      <td>Our Own Renewals</td>\n",
       "      <td>51</td>\n",
       "      <td>2022-01-02</td>\n",
       "      <td>2023-01-01</td>\n",
       "      <td>c410f386</td>\n",
       "      <td>13900.0</td>\n",
       "      <td>GUJARAT</td>\n",
       "      <td>HONDA</td>\n",
       "      <td>...</td>\n",
       "      <td>0.0</td>\n",
       "      <td>0.0</td>\n",
       "      <td>13.0</td>\n",
       "      <td>1</td>\n",
       "      <td>9.539716</td>\n",
       "      <td>7.345662</td>\n",
       "      <td>4.327702</td>\n",
       "      <td>4.460029</td>\n",
       "      <td>6.624065</td>\n",
       "      <td>2.639057</td>\n",
       "    </tr>\n",
       "    <tr>\n",
       "      <th>6934</th>\n",
       "      <td>2022-01-02</td>\n",
       "      <td>8e0d8f07</td>\n",
       "      <td>Our Own Renewals</td>\n",
       "      <td>74</td>\n",
       "      <td>2022-01-03</td>\n",
       "      <td>2023-01-02</td>\n",
       "      <td>9fd4aaf1</td>\n",
       "      <td>31080.0</td>\n",
       "      <td>MAHARASHTRA</td>\n",
       "      <td>HONDA</td>\n",
       "      <td>...</td>\n",
       "      <td>0.0</td>\n",
       "      <td>0.0</td>\n",
       "      <td>9.0</td>\n",
       "      <td>1</td>\n",
       "      <td>10.344352</td>\n",
       "      <td>7.320044</td>\n",
       "      <td>4.419443</td>\n",
       "      <td>5.115626</td>\n",
       "      <td>6.624065</td>\n",
       "      <td>2.302585</td>\n",
       "    </tr>\n",
       "    <tr>\n",
       "      <th>6935</th>\n",
       "      <td>2021-12-31</td>\n",
       "      <td>ede9e5b9</td>\n",
       "      <td>Our Own Renewals</td>\n",
       "      <td>K2</td>\n",
       "      <td>2022-01-04</td>\n",
       "      <td>2023-01-03</td>\n",
       "      <td>85cb4f16</td>\n",
       "      <td>75000.0</td>\n",
       "      <td>TAMIL NADU</td>\n",
       "      <td>BAJAJ</td>\n",
       "      <td>...</td>\n",
       "      <td>0.0</td>\n",
       "      <td>0.0</td>\n",
       "      <td>6.0</td>\n",
       "      <td>1</td>\n",
       "      <td>11.225257</td>\n",
       "      <td>6.493179</td>\n",
       "      <td>4.204693</td>\n",
       "      <td>5.278115</td>\n",
       "      <td>6.680782</td>\n",
       "      <td>1.945910</td>\n",
       "    </tr>\n",
       "    <tr>\n",
       "      <th>6936</th>\n",
       "      <td>2022-01-03</td>\n",
       "      <td>65e277eb</td>\n",
       "      <td>Other Company Renewals</td>\n",
       "      <td>A6</td>\n",
       "      <td>2022-01-04</td>\n",
       "      <td>2023-01-03</td>\n",
       "      <td>d77fc345</td>\n",
       "      <td>150000.0</td>\n",
       "      <td>KARNATAKA</td>\n",
       "      <td>ROYAL ENFIELD</td>\n",
       "      <td>...</td>\n",
       "      <td>0.0</td>\n",
       "      <td>0.0</td>\n",
       "      <td>4.0</td>\n",
       "      <td>1</td>\n",
       "      <td>11.918397</td>\n",
       "      <td>7.598259</td>\n",
       "      <td>6.048317</td>\n",
       "      <td>5.115626</td>\n",
       "      <td>6.680782</td>\n",
       "      <td>1.609438</td>\n",
       "    </tr>\n",
       "  </tbody>\n",
       "</table>\n",
       "<p>6937 rows × 28 columns</p>\n",
       "</div>"
      ],
      "text/plain": [
       "     policysubmissiondate  policyid          type_of_policy sbu inceptiondate  \\\n",
       "0              2021-12-25  f12a6079        Our Own Renewals  D7    2022-01-01   \n",
       "1              2021-12-22  f8f90d19  Other Company Renewals  F5    2022-01-01   \n",
       "2              2021-12-25  743b937e        Our Own Renewals  27    2022-01-01   \n",
       "3              2021-12-09  447ce90f        Our Own Renewals  A6    2022-01-01   \n",
       "4              2021-12-27  6ae1e696        Our Own Renewals  74    2022-01-16   \n",
       "...                   ...       ...                     ...  ..           ...   \n",
       "6932           2021-12-21  9772e102        Our Own Renewals  96    2022-01-04   \n",
       "6933           2021-12-29  45c5ce89        Our Own Renewals  51    2022-01-02   \n",
       "6934           2022-01-02  8e0d8f07        Our Own Renewals  74    2022-01-03   \n",
       "6935           2021-12-31  ede9e5b9        Our Own Renewals  K2    2022-01-04   \n",
       "6936           2022-01-03  65e277eb  Other Company Renewals  A6    2022-01-04   \n",
       "\n",
       "     expirydate tieupnumber  sum_insured           state   manufacturer  ...  \\\n",
       "0    2022-12-31    30344113      57335.0  MADHYA PRADESH          HONDA  ...   \n",
       "1    2022-12-31    9d41fa3e      10000.0       KARNATAKA           HERO  ...   \n",
       "2    2022-12-31    8c8bb2c1      30870.0         HARYANA            TVS  ...   \n",
       "3    2022-12-31    fffcb05a      23980.0       KARNATAKA          HONDA  ...   \n",
       "4    2023-01-15    4c2e4e96      38518.0   UTTAR PRADESH            TVS  ...   \n",
       "...         ...         ...          ...             ...            ...  ...   \n",
       "6932 2023-01-03    34a0fb5f      13100.0      TAMIL NADU            TVS  ...   \n",
       "6933 2023-01-01    c410f386      13900.0         GUJARAT          HONDA  ...   \n",
       "6934 2023-01-02    9fd4aaf1      31080.0     MAHARASHTRA          HONDA  ...   \n",
       "6935 2023-01-03    85cb4f16      75000.0      TAMIL NADU          BAJAJ  ...   \n",
       "6936 2023-01-03    d77fc345     150000.0       KARNATAKA  ROYAL ENFIELD  ...   \n",
       "\n",
       "      claim_count  claim_cost  vehicle_age  target  log_sum_insured  \\\n",
       "0             0.0         0.0          5.0       0        10.956684   \n",
       "1             0.0         0.0         18.0       0         9.210440   \n",
       "2             0.0         0.0          8.0       0        10.337573   \n",
       "3             0.0         0.0         10.0       0        10.085017   \n",
       "4             0.0         0.0          8.0       0        10.558907   \n",
       "...           ...         ...          ...     ...              ...   \n",
       "6932          0.0         0.0          9.0       1         9.480444   \n",
       "6933          0.0         0.0         13.0       1         9.539716   \n",
       "6934          0.0         0.0          9.0       1        10.344352   \n",
       "6935          0.0         0.0          6.0       1        11.225257   \n",
       "6936          0.0         0.0          4.0       1        11.918397   \n",
       "\n",
       "      log_net_premium_payable  log_ncb_amount log_coverage_premium  \\\n",
       "0                    6.792670        5.035588             4.972172   \n",
       "1                    6.887991        4.369828             5.115626   \n",
       "2                    7.344848        5.148308             5.115626   \n",
       "3                    7.313594        5.134739             5.115626   \n",
       "4                    7.292371        5.368496             5.447211   \n",
       "...                       ...             ...                  ...   \n",
       "6932                 7.275297        3.722072             5.115626   \n",
       "6933                 7.345662        4.327702             4.460029   \n",
       "6934                 7.320044        4.419443             5.115626   \n",
       "6935                 6.493179        4.204693             5.278115   \n",
       "6936                 7.598259        6.048317             5.115626   \n",
       "\n",
       "      log_tp_premium  log_vehicleage  \n",
       "0           6.680782        1.791759  \n",
       "1           6.624065        2.944439  \n",
       "2           6.624065        2.197225  \n",
       "3           6.624065        2.397895  \n",
       "4           6.624065        2.197225  \n",
       "...              ...             ...  \n",
       "6932        6.624065        2.302585  \n",
       "6933        6.624065        2.639057  \n",
       "6934        6.624065        2.302585  \n",
       "6935        6.680782        1.945910  \n",
       "6936        6.680782        1.609438  \n",
       "\n",
       "[6937 rows x 28 columns]"
      ]
     },
     "execution_count": 193,
     "metadata": {},
     "output_type": "execute_result"
    }
   ],
   "source": [
    "df"
   ]
  },
  {
   "cell_type": "code",
   "execution_count": 194,
   "id": "b93f1508",
   "metadata": {},
   "outputs": [
    {
     "data": {
      "text/plain": [
       "(6937, 28)"
      ]
     },
     "execution_count": 194,
     "metadata": {},
     "output_type": "execute_result"
    }
   ],
   "source": [
    "df.shape"
   ]
  },
  {
   "cell_type": "code",
   "execution_count": 195,
   "id": "d8fe62cf",
   "metadata": {},
   "outputs": [
    {
     "data": {
      "text/plain": [
       "type_of_policy\n",
       "Our Own Renewals             5727\n",
       "Other Company Renewals       1145\n",
       "Old vehicle/ SaleTransfer      65\n",
       "Name: count, dtype: int64"
      ]
     },
     "execution_count": 195,
     "metadata": {},
     "output_type": "execute_result"
    }
   ],
   "source": [
    "df['type_of_policy'].value_counts()"
   ]
  },
  {
   "cell_type": "code",
   "execution_count": 196,
   "id": "f485abec",
   "metadata": {},
   "outputs": [
    {
     "name": "stdout",
     "output_type": "stream",
     "text": [
      "<class 'pandas.core.frame.DataFrame'>\n",
      "RangeIndex: 6937 entries, 0 to 6936\n",
      "Data columns (total 28 columns):\n",
      " #   Column                   Non-Null Count  Dtype         \n",
      "---  ------                   --------------  -----         \n",
      " 0   policysubmissiondate     6937 non-null   datetime64[ns]\n",
      " 1   policyid                 6937 non-null   object        \n",
      " 2   type_of_policy           6937 non-null   object        \n",
      " 3   sbu                      6937 non-null   object        \n",
      " 4   inceptiondate            6937 non-null   datetime64[ns]\n",
      " 5   expirydate               6937 non-null   datetime64[ns]\n",
      " 6   tieupnumber              6937 non-null   object        \n",
      " 7   sum_insured              6937 non-null   float64       \n",
      " 8   state                    6937 non-null   object        \n",
      " 9   manufacturer             6937 non-null   object        \n",
      " 10  net_premium_payable      6937 non-null   float64       \n",
      " 11  ncb_amount               6937 non-null   float64       \n",
      " 12  coverage_depodpremium    6937 non-null   float64       \n",
      " 13  od_premium               6937 non-null   float64       \n",
      " 14  tp_premium               6937 non-null   float64       \n",
      " 15  idv                      6937 non-null   float64       \n",
      " 16  policy_term              6937 non-null   float64       \n",
      " 17  enginechassis            6937 non-null   object        \n",
      " 18  claim_count              6937 non-null   float64       \n",
      " 19  claim_cost               6937 non-null   float64       \n",
      " 20  vehicle_age              6937 non-null   float64       \n",
      " 21  target                   6937 non-null   int64         \n",
      " 22  log_sum_insured          6937 non-null   float64       \n",
      " 23  log_net_premium_payable  6937 non-null   float64       \n",
      " 24  log_ncb_amount           6937 non-null   float64       \n",
      " 25  log_coverage_premium     6937 non-null   float64       \n",
      " 26  log_tp_premium           6937 non-null   float64       \n",
      " 27  log_vehicleage           6937 non-null   float64       \n",
      "dtypes: datetime64[ns](3), float64(17), int64(1), object(7)\n",
      "memory usage: 1.5+ MB\n"
     ]
    }
   ],
   "source": [
    "df.info()"
   ]
  },
  {
   "cell_type": "code",
   "execution_count": 197,
   "id": "c22db30e",
   "metadata": {},
   "outputs": [
    {
     "data": {
      "text/plain": [
       "np.int64(463)"
      ]
     },
     "execution_count": 197,
     "metadata": {},
     "output_type": "execute_result"
    }
   ],
   "source": [
    "df['sbu'].value_counts().count()"
   ]
  },
  {
   "cell_type": "code",
   "execution_count": 198,
   "id": "749c22c1",
   "metadata": {},
   "outputs": [
    {
     "name": "stdout",
     "output_type": "stream",
     "text": [
      "0             Our Own Renewals\n",
      "1       Other Company Renewals\n",
      "2             Our Own Renewals\n",
      "3             Our Own Renewals\n",
      "4             Our Own Renewals\n",
      "                 ...          \n",
      "6932          Our Own Renewals\n",
      "6933          Our Own Renewals\n",
      "6934          Our Own Renewals\n",
      "6935          Our Own Renewals\n",
      "6936    Other Company Renewals\n",
      "Name: type_of_policy, Length: 6937, dtype: object\n"
     ]
    }
   ],
   "source": [
    "df['type_of_policy']\n",
    "print(df['type_of_policy'])"
   ]
  },
  {
   "cell_type": "code",
   "execution_count": 199,
   "id": "977e988a",
   "metadata": {},
   "outputs": [],
   "source": [
    "from sklearn.preprocessing import OneHotEncoder\n",
    "df_onehot=pd.get_dummies(df,columns=['state','manufacturer','type_of_policy'])"
   ]
  },
  {
   "cell_type": "code",
   "execution_count": 200,
   "id": "7d6fc287",
   "metadata": {},
   "outputs": [
    {
     "name": "stdout",
     "output_type": "stream",
     "text": [
      "<class 'pandas.core.frame.DataFrame'>\n",
      "RangeIndex: 6937 entries, 0 to 6936\n",
      "Data columns (total 28 columns):\n",
      " #   Column                   Non-Null Count  Dtype         \n",
      "---  ------                   --------------  -----         \n",
      " 0   policysubmissiondate     6937 non-null   datetime64[ns]\n",
      " 1   policyid                 6937 non-null   object        \n",
      " 2   type_of_policy           6937 non-null   object        \n",
      " 3   sbu                      6937 non-null   object        \n",
      " 4   inceptiondate            6937 non-null   datetime64[ns]\n",
      " 5   expirydate               6937 non-null   datetime64[ns]\n",
      " 6   tieupnumber              6937 non-null   object        \n",
      " 7   sum_insured              6937 non-null   float64       \n",
      " 8   state                    6937 non-null   object        \n",
      " 9   manufacturer             6937 non-null   object        \n",
      " 10  net_premium_payable      6937 non-null   float64       \n",
      " 11  ncb_amount               6937 non-null   float64       \n",
      " 12  coverage_depodpremium    6937 non-null   float64       \n",
      " 13  od_premium               6937 non-null   float64       \n",
      " 14  tp_premium               6937 non-null   float64       \n",
      " 15  idv                      6937 non-null   float64       \n",
      " 16  policy_term              6937 non-null   float64       \n",
      " 17  enginechassis            6937 non-null   object        \n",
      " 18  claim_count              6937 non-null   float64       \n",
      " 19  claim_cost               6937 non-null   float64       \n",
      " 20  vehicle_age              6937 non-null   float64       \n",
      " 21  target                   6937 non-null   int64         \n",
      " 22  log_sum_insured          6937 non-null   float64       \n",
      " 23  log_net_premium_payable  6937 non-null   float64       \n",
      " 24  log_ncb_amount           6937 non-null   float64       \n",
      " 25  log_coverage_premium     6937 non-null   float64       \n",
      " 26  log_tp_premium           6937 non-null   float64       \n",
      " 27  log_vehicleage           6937 non-null   float64       \n",
      "dtypes: datetime64[ns](3), float64(17), int64(1), object(7)\n",
      "memory usage: 1.5+ MB\n"
     ]
    }
   ],
   "source": [
    "df.info()"
   ]
  },
  {
   "cell_type": "code",
   "execution_count": 201,
   "id": "58c4f0a2",
   "metadata": {},
   "outputs": [
    {
     "data": {
      "text/plain": [
       "Index(['policysubmissiondate', 'policyid', 'sbu', 'inceptiondate',\n",
       "       'expirydate', 'tieupnumber', 'sum_insured', 'net_premium_payable',\n",
       "       'ncb_amount', 'coverage_depodpremium', 'od_premium', 'tp_premium',\n",
       "       'idv', 'policy_term', 'enginechassis', 'claim_count', 'claim_cost',\n",
       "       'vehicle_age', 'target', 'log_sum_insured', 'log_net_premium_payable',\n",
       "       'log_ncb_amount', 'log_coverage_premium', 'log_tp_premium',\n",
       "       'log_vehicleage', 'state_ANDAMAN & NICOBAR', 'state_ANDHRA PRADESH',\n",
       "       'state_ASSAM', 'state_BIHAR', 'state_CHANDIGARH', 'state_CHHATTISGARH',\n",
       "       'state_DADRA & NAGAR HAVELI', 'state_DAMAN AND DIU', 'state_GOA',\n",
       "       'state_GUJARAT', 'state_HARYANA', 'state_HIMACHAL PRADESH',\n",
       "       'state_JAMMU & KASHMIR', 'state_JHARKHAND', 'state_KARNATAKA',\n",
       "       'state_KERALA', 'state_MADHYA PRADESH', 'state_MAHARASHTRA',\n",
       "       'state_NEW DELHI', 'state_ODISHA', 'state_PUDUCHERRY', 'state_PUNJAB',\n",
       "       'state_RAJASTHAN', 'state_TAMIL NADU', 'state_TELANGANA',\n",
       "       'state_TRIPURA', 'state_UTTAR PRADESH', 'state_UTTARAKHAND',\n",
       "       'state_WEST BENGAL', 'manufacturer_APRILIA', 'manufacturer_ATHER',\n",
       "       'manufacturer_BAJAJ', 'manufacturer_BENELLI', 'manufacturer_HERO',\n",
       "       'manufacturer_HERO HONDA', 'manufacturer_HONDA', 'manufacturer_JAWA',\n",
       "       'manufacturer_KTM', 'manufacturer_LML', 'manufacturer_MAHINDRA',\n",
       "       'manufacturer_OKINAWA', 'manufacturer_PIAGGIO',\n",
       "       'manufacturer_ROYAL ENFIELD', 'manufacturer_SUZUKI', 'manufacturer_TVS',\n",
       "       'manufacturer_VESPA', 'manufacturer_YAMAHA', 'manufacturer_YEZDI',\n",
       "       'type_of_policy_Old vehicle/ SaleTransfer',\n",
       "       'type_of_policy_Other Company Renewals',\n",
       "       'type_of_policy_Our Own Renewals'],\n",
       "      dtype='object')"
      ]
     },
     "execution_count": 201,
     "metadata": {},
     "output_type": "execute_result"
    }
   ],
   "source": [
    "df_onehot.columns"
   ]
  },
  {
   "cell_type": "code",
   "execution_count": 202,
   "id": "87e6f21c",
   "metadata": {},
   "outputs": [
    {
     "name": "stdout",
     "output_type": "stream",
     "text": [
      "<class 'pandas.core.frame.DataFrame'>\n",
      "RangeIndex: 6937 entries, 0 to 6936\n",
      "Data columns (total 76 columns):\n",
      " #   Column                                    Non-Null Count  Dtype         \n",
      "---  ------                                    --------------  -----         \n",
      " 0   policysubmissiondate                      6937 non-null   datetime64[ns]\n",
      " 1   policyid                                  6937 non-null   object        \n",
      " 2   sbu                                       6937 non-null   object        \n",
      " 3   inceptiondate                             6937 non-null   datetime64[ns]\n",
      " 4   expirydate                                6937 non-null   datetime64[ns]\n",
      " 5   tieupnumber                               6937 non-null   object        \n",
      " 6   sum_insured                               6937 non-null   float64       \n",
      " 7   net_premium_payable                       6937 non-null   float64       \n",
      " 8   ncb_amount                                6937 non-null   float64       \n",
      " 9   coverage_depodpremium                     6937 non-null   float64       \n",
      " 10  od_premium                                6937 non-null   float64       \n",
      " 11  tp_premium                                6937 non-null   float64       \n",
      " 12  idv                                       6937 non-null   float64       \n",
      " 13  policy_term                               6937 non-null   float64       \n",
      " 14  enginechassis                             6937 non-null   object        \n",
      " 15  claim_count                               6937 non-null   float64       \n",
      " 16  claim_cost                                6937 non-null   float64       \n",
      " 17  vehicle_age                               6937 non-null   float64       \n",
      " 18  target                                    6937 non-null   int64         \n",
      " 19  log_sum_insured                           6937 non-null   float64       \n",
      " 20  log_net_premium_payable                   6937 non-null   float64       \n",
      " 21  log_ncb_amount                            6937 non-null   float64       \n",
      " 22  log_coverage_premium                      6937 non-null   float64       \n",
      " 23  log_tp_premium                            6937 non-null   float64       \n",
      " 24  log_vehicleage                            6937 non-null   float64       \n",
      " 25  state_ANDAMAN & NICOBAR                   6937 non-null   bool          \n",
      " 26  state_ANDHRA PRADESH                      6937 non-null   bool          \n",
      " 27  state_ASSAM                               6937 non-null   bool          \n",
      " 28  state_BIHAR                               6937 non-null   bool          \n",
      " 29  state_CHANDIGARH                          6937 non-null   bool          \n",
      " 30  state_CHHATTISGARH                        6937 non-null   bool          \n",
      " 31  state_DADRA & NAGAR HAVELI                6937 non-null   bool          \n",
      " 32  state_DAMAN AND DIU                       6937 non-null   bool          \n",
      " 33  state_GOA                                 6937 non-null   bool          \n",
      " 34  state_GUJARAT                             6937 non-null   bool          \n",
      " 35  state_HARYANA                             6937 non-null   bool          \n",
      " 36  state_HIMACHAL PRADESH                    6937 non-null   bool          \n",
      " 37  state_JAMMU & KASHMIR                     6937 non-null   bool          \n",
      " 38  state_JHARKHAND                           6937 non-null   bool          \n",
      " 39  state_KARNATAKA                           6937 non-null   bool          \n",
      " 40  state_KERALA                              6937 non-null   bool          \n",
      " 41  state_MADHYA PRADESH                      6937 non-null   bool          \n",
      " 42  state_MAHARASHTRA                         6937 non-null   bool          \n",
      " 43  state_NEW DELHI                           6937 non-null   bool          \n",
      " 44  state_ODISHA                              6937 non-null   bool          \n",
      " 45  state_PUDUCHERRY                          6937 non-null   bool          \n",
      " 46  state_PUNJAB                              6937 non-null   bool          \n",
      " 47  state_RAJASTHAN                           6937 non-null   bool          \n",
      " 48  state_TAMIL NADU                          6937 non-null   bool          \n",
      " 49  state_TELANGANA                           6937 non-null   bool          \n",
      " 50  state_TRIPURA                             6937 non-null   bool          \n",
      " 51  state_UTTAR PRADESH                       6937 non-null   bool          \n",
      " 52  state_UTTARAKHAND                         6937 non-null   bool          \n",
      " 53  state_WEST BENGAL                         6937 non-null   bool          \n",
      " 54  manufacturer_APRILIA                      6937 non-null   bool          \n",
      " 55  manufacturer_ATHER                        6937 non-null   bool          \n",
      " 56  manufacturer_BAJAJ                        6937 non-null   bool          \n",
      " 57  manufacturer_BENELLI                      6937 non-null   bool          \n",
      " 58  manufacturer_HERO                         6937 non-null   bool          \n",
      " 59  manufacturer_HERO HONDA                   6937 non-null   bool          \n",
      " 60  manufacturer_HONDA                        6937 non-null   bool          \n",
      " 61  manufacturer_JAWA                         6937 non-null   bool          \n",
      " 62  manufacturer_KTM                          6937 non-null   bool          \n",
      " 63  manufacturer_LML                          6937 non-null   bool          \n",
      " 64  manufacturer_MAHINDRA                     6937 non-null   bool          \n",
      " 65  manufacturer_OKINAWA                      6937 non-null   bool          \n",
      " 66  manufacturer_PIAGGIO                      6937 non-null   bool          \n",
      " 67  manufacturer_ROYAL ENFIELD                6937 non-null   bool          \n",
      " 68  manufacturer_SUZUKI                       6937 non-null   bool          \n",
      " 69  manufacturer_TVS                          6937 non-null   bool          \n",
      " 70  manufacturer_VESPA                        6937 non-null   bool          \n",
      " 71  manufacturer_YAMAHA                       6937 non-null   bool          \n",
      " 72  manufacturer_YEZDI                        6937 non-null   bool          \n",
      " 73  type_of_policy_Old vehicle/ SaleTransfer  6937 non-null   bool          \n",
      " 74  type_of_policy_Other Company Renewals     6937 non-null   bool          \n",
      " 75  type_of_policy_Our Own Renewals           6937 non-null   bool          \n",
      "dtypes: bool(51), datetime64[ns](3), float64(17), int64(1), object(4)\n",
      "memory usage: 1.7+ MB\n"
     ]
    }
   ],
   "source": [
    "df_onehot.info()"
   ]
  },
  {
   "cell_type": "code",
   "execution_count": 203,
   "id": "b3ba375a",
   "metadata": {},
   "outputs": [],
   "source": [
    "df_onehot.drop(columns=['sbu', 'tieupnumber', 'enginechassis'], inplace=True)"
   ]
  },
  {
   "cell_type": "code",
   "execution_count": 204,
   "id": "990c81ce",
   "metadata": {},
   "outputs": [],
   "source": [
    "df_onehot['Year'] = df_onehot['inceptiondate'].dt.year       \n",
    "df_onehot['Month'] = df_onehot['inceptiondate'].dt.month     \n",
    "df_onehot['Day'] = df_onehot['inceptiondate'].dt.day   "
   ]
  },
  {
   "cell_type": "code",
   "execution_count": 205,
   "id": "4d4c69b5",
   "metadata": {},
   "outputs": [
    {
     "data": {
      "text/plain": [
       "Index(['policysubmissiondate', 'policyid', 'inceptiondate', 'expirydate',\n",
       "       'sum_insured', 'net_premium_payable', 'ncb_amount',\n",
       "       'coverage_depodpremium', 'od_premium', 'tp_premium', 'idv',\n",
       "       'policy_term', 'claim_count', 'claim_cost', 'vehicle_age', 'target',\n",
       "       'log_sum_insured', 'log_net_premium_payable', 'log_ncb_amount',\n",
       "       'log_coverage_premium', 'log_tp_premium', 'log_vehicleage',\n",
       "       'state_ANDAMAN & NICOBAR', 'state_ANDHRA PRADESH', 'state_ASSAM',\n",
       "       'state_BIHAR', 'state_CHANDIGARH', 'state_CHHATTISGARH',\n",
       "       'state_DADRA & NAGAR HAVELI', 'state_DAMAN AND DIU', 'state_GOA',\n",
       "       'state_GUJARAT', 'state_HARYANA', 'state_HIMACHAL PRADESH',\n",
       "       'state_JAMMU & KASHMIR', 'state_JHARKHAND', 'state_KARNATAKA',\n",
       "       'state_KERALA', 'state_MADHYA PRADESH', 'state_MAHARASHTRA',\n",
       "       'state_NEW DELHI', 'state_ODISHA', 'state_PUDUCHERRY', 'state_PUNJAB',\n",
       "       'state_RAJASTHAN', 'state_TAMIL NADU', 'state_TELANGANA',\n",
       "       'state_TRIPURA', 'state_UTTAR PRADESH', 'state_UTTARAKHAND',\n",
       "       'state_WEST BENGAL', 'manufacturer_APRILIA', 'manufacturer_ATHER',\n",
       "       'manufacturer_BAJAJ', 'manufacturer_BENELLI', 'manufacturer_HERO',\n",
       "       'manufacturer_HERO HONDA', 'manufacturer_HONDA', 'manufacturer_JAWA',\n",
       "       'manufacturer_KTM', 'manufacturer_LML', 'manufacturer_MAHINDRA',\n",
       "       'manufacturer_OKINAWA', 'manufacturer_PIAGGIO',\n",
       "       'manufacturer_ROYAL ENFIELD', 'manufacturer_SUZUKI', 'manufacturer_TVS',\n",
       "       'manufacturer_VESPA', 'manufacturer_YAMAHA', 'manufacturer_YEZDI',\n",
       "       'type_of_policy_Old vehicle/ SaleTransfer',\n",
       "       'type_of_policy_Other Company Renewals',\n",
       "       'type_of_policy_Our Own Renewals', 'Year', 'Month', 'Day'],\n",
       "      dtype='object')"
      ]
     },
     "execution_count": 205,
     "metadata": {},
     "output_type": "execute_result"
    }
   ],
   "source": [
    "df_onehot.columns"
   ]
  },
  {
   "cell_type": "code",
   "execution_count": 206,
   "id": "135a0ab1",
   "metadata": {},
   "outputs": [],
   "source": [
    "df = df_onehot[['idv', 'policy_term', 'claim_count', 'claim_cost', 'vehicle_age', \n",
    "       'log_sum_insured', 'log_net_premium_payable', 'log_ncb_amount',\n",
    "       'log_coverage_premium', 'log_tp_premium', 'log_vehicleage',\n",
    "       'state_ANDAMAN & NICOBAR', 'state_ANDHRA PRADESH', 'state_ASSAM',\n",
    "       'state_BIHAR', 'state_CHANDIGARH', 'state_CHHATTISGARH',\n",
    "       'state_DADRA & NAGAR HAVELI', 'state_DAMAN AND DIU', 'state_GOA',\n",
    "       'state_GUJARAT', 'state_HARYANA', 'state_HIMACHAL PRADESH',\n",
    "       'state_JAMMU & KASHMIR', 'state_JHARKHAND', 'state_KARNATAKA',\n",
    "       'state_KERALA', 'state_MADHYA PRADESH', 'state_MAHARASHTRA',\n",
    "       'state_NEW DELHI', 'state_ODISHA', 'state_PUDUCHERRY', 'state_PUNJAB',\n",
    "       'state_RAJASTHAN', 'state_TAMIL NADU', 'state_TELANGANA',\n",
    "       'state_TRIPURA', 'state_UTTAR PRADESH', 'state_UTTARAKHAND',\n",
    "       'state_WEST BENGAL', 'manufacturer_APRILIA', 'manufacturer_ATHER',\n",
    "       'manufacturer_BAJAJ', 'manufacturer_BENELLI', 'manufacturer_HERO',\n",
    "       'manufacturer_HERO HONDA', 'manufacturer_HONDA', 'manufacturer_JAWA',\n",
    "       'manufacturer_KTM', 'manufacturer_LML', 'manufacturer_MAHINDRA',\n",
    "       'manufacturer_OKINAWA', 'manufacturer_PIAGGIO',\n",
    "       'manufacturer_ROYAL ENFIELD', 'manufacturer_SUZUKI', 'manufacturer_TVS',\n",
    "       'manufacturer_VESPA', 'manufacturer_YAMAHA', 'manufacturer_YEZDI',\n",
    "       'type_of_policy_Old vehicle/ SaleTransfer',\n",
    "       'type_of_policy_Other Company Renewals',\n",
    "       'type_of_policy_Our Own Renewals', 'Day', 'target',]]"
   ]
  },
  {
   "cell_type": "code",
   "execution_count": 207,
   "id": "c6f2770b",
   "metadata": {},
   "outputs": [
    {
     "data": {
      "text/plain": [
       "(6937, 64)"
      ]
     },
     "execution_count": 207,
     "metadata": {},
     "output_type": "execute_result"
    }
   ],
   "source": [
    "df.shape"
   ]
  },
  {
   "cell_type": "code",
   "execution_count": 208,
   "id": "74d309de",
   "metadata": {},
   "outputs": [
    {
     "data": {
      "text/plain": [
       "Index(['idv', 'policy_term', 'claim_count', 'claim_cost', 'vehicle_age',\n",
       "       'log_sum_insured', 'log_net_premium_payable', 'log_ncb_amount',\n",
       "       'log_coverage_premium', 'log_tp_premium', 'log_vehicleage',\n",
       "       'state_ANDAMAN & NICOBAR', 'state_ANDHRA PRADESH', 'state_ASSAM',\n",
       "       'state_BIHAR', 'state_CHANDIGARH', 'state_CHHATTISGARH',\n",
       "       'state_DADRA & NAGAR HAVELI', 'state_DAMAN AND DIU', 'state_GOA',\n",
       "       'state_GUJARAT', 'state_HARYANA', 'state_HIMACHAL PRADESH',\n",
       "       'state_JAMMU & KASHMIR', 'state_JHARKHAND', 'state_KARNATAKA',\n",
       "       'state_KERALA', 'state_MADHYA PRADESH', 'state_MAHARASHTRA',\n",
       "       'state_NEW DELHI', 'state_ODISHA', 'state_PUDUCHERRY', 'state_PUNJAB',\n",
       "       'state_RAJASTHAN', 'state_TAMIL NADU', 'state_TELANGANA',\n",
       "       'state_TRIPURA', 'state_UTTAR PRADESH', 'state_UTTARAKHAND',\n",
       "       'state_WEST BENGAL', 'manufacturer_APRILIA', 'manufacturer_ATHER',\n",
       "       'manufacturer_BAJAJ', 'manufacturer_BENELLI', 'manufacturer_HERO',\n",
       "       'manufacturer_HERO HONDA', 'manufacturer_HONDA', 'manufacturer_JAWA',\n",
       "       'manufacturer_KTM', 'manufacturer_LML', 'manufacturer_MAHINDRA',\n",
       "       'manufacturer_OKINAWA', 'manufacturer_PIAGGIO',\n",
       "       'manufacturer_ROYAL ENFIELD', 'manufacturer_SUZUKI', 'manufacturer_TVS',\n",
       "       'manufacturer_VESPA', 'manufacturer_YAMAHA', 'manufacturer_YEZDI',\n",
       "       'type_of_policy_Old vehicle/ SaleTransfer',\n",
       "       'type_of_policy_Other Company Renewals',\n",
       "       'type_of_policy_Our Own Renewals', 'Day', 'target'],\n",
       "      dtype='object')"
      ]
     },
     "execution_count": 208,
     "metadata": {},
     "output_type": "execute_result"
    }
   ],
   "source": [
    "df.columns"
   ]
  },
  {
   "cell_type": "code",
   "execution_count": 209,
   "id": "2e018b71",
   "metadata": {},
   "outputs": [
    {
     "data": {
      "text/html": [
       "<div>\n",
       "<style scoped>\n",
       "    .dataframe tbody tr th:only-of-type {\n",
       "        vertical-align: middle;\n",
       "    }\n",
       "\n",
       "    .dataframe tbody tr th {\n",
       "        vertical-align: top;\n",
       "    }\n",
       "\n",
       "    .dataframe thead th {\n",
       "        text-align: right;\n",
       "    }\n",
       "</style>\n",
       "<table border=\"1\" class=\"dataframe\">\n",
       "  <thead>\n",
       "    <tr style=\"text-align: right;\">\n",
       "      <th></th>\n",
       "      <th>idv</th>\n",
       "      <th>policy_term</th>\n",
       "      <th>claim_count</th>\n",
       "      <th>claim_cost</th>\n",
       "      <th>vehicle_age</th>\n",
       "      <th>log_sum_insured</th>\n",
       "      <th>log_net_premium_payable</th>\n",
       "      <th>log_ncb_amount</th>\n",
       "      <th>log_coverage_premium</th>\n",
       "      <th>log_tp_premium</th>\n",
       "      <th>...</th>\n",
       "      <th>manufacturer_SUZUKI</th>\n",
       "      <th>manufacturer_TVS</th>\n",
       "      <th>manufacturer_VESPA</th>\n",
       "      <th>manufacturer_YAMAHA</th>\n",
       "      <th>manufacturer_YEZDI</th>\n",
       "      <th>type_of_policy_Old vehicle/ SaleTransfer</th>\n",
       "      <th>type_of_policy_Other Company Renewals</th>\n",
       "      <th>type_of_policy_Our Own Renewals</th>\n",
       "      <th>Day</th>\n",
       "      <th>target</th>\n",
       "    </tr>\n",
       "  </thead>\n",
       "  <tbody>\n",
       "    <tr>\n",
       "      <th>0</th>\n",
       "      <td>57335.0</td>\n",
       "      <td>1.0</td>\n",
       "      <td>0.0</td>\n",
       "      <td>0.0</td>\n",
       "      <td>5.0</td>\n",
       "      <td>10.956684</td>\n",
       "      <td>6.792670</td>\n",
       "      <td>5.035588</td>\n",
       "      <td>4.972172</td>\n",
       "      <td>6.680782</td>\n",
       "      <td>...</td>\n",
       "      <td>False</td>\n",
       "      <td>False</td>\n",
       "      <td>False</td>\n",
       "      <td>False</td>\n",
       "      <td>False</td>\n",
       "      <td>False</td>\n",
       "      <td>False</td>\n",
       "      <td>True</td>\n",
       "      <td>1</td>\n",
       "      <td>0</td>\n",
       "    </tr>\n",
       "    <tr>\n",
       "      <th>1</th>\n",
       "      <td>10000.0</td>\n",
       "      <td>1.0</td>\n",
       "      <td>0.0</td>\n",
       "      <td>0.0</td>\n",
       "      <td>18.0</td>\n",
       "      <td>9.210440</td>\n",
       "      <td>6.887991</td>\n",
       "      <td>4.369828</td>\n",
       "      <td>5.115626</td>\n",
       "      <td>6.624065</td>\n",
       "      <td>...</td>\n",
       "      <td>False</td>\n",
       "      <td>False</td>\n",
       "      <td>False</td>\n",
       "      <td>False</td>\n",
       "      <td>False</td>\n",
       "      <td>False</td>\n",
       "      <td>True</td>\n",
       "      <td>False</td>\n",
       "      <td>1</td>\n",
       "      <td>0</td>\n",
       "    </tr>\n",
       "    <tr>\n",
       "      <th>2</th>\n",
       "      <td>30870.0</td>\n",
       "      <td>1.0</td>\n",
       "      <td>0.0</td>\n",
       "      <td>0.0</td>\n",
       "      <td>8.0</td>\n",
       "      <td>10.337573</td>\n",
       "      <td>7.344848</td>\n",
       "      <td>5.148308</td>\n",
       "      <td>5.115626</td>\n",
       "      <td>6.624065</td>\n",
       "      <td>...</td>\n",
       "      <td>False</td>\n",
       "      <td>True</td>\n",
       "      <td>False</td>\n",
       "      <td>False</td>\n",
       "      <td>False</td>\n",
       "      <td>False</td>\n",
       "      <td>False</td>\n",
       "      <td>True</td>\n",
       "      <td>1</td>\n",
       "      <td>0</td>\n",
       "    </tr>\n",
       "    <tr>\n",
       "      <th>3</th>\n",
       "      <td>23980.0</td>\n",
       "      <td>1.0</td>\n",
       "      <td>0.0</td>\n",
       "      <td>0.0</td>\n",
       "      <td>10.0</td>\n",
       "      <td>10.085017</td>\n",
       "      <td>7.313594</td>\n",
       "      <td>5.134739</td>\n",
       "      <td>5.115626</td>\n",
       "      <td>6.624065</td>\n",
       "      <td>...</td>\n",
       "      <td>False</td>\n",
       "      <td>False</td>\n",
       "      <td>False</td>\n",
       "      <td>False</td>\n",
       "      <td>False</td>\n",
       "      <td>False</td>\n",
       "      <td>False</td>\n",
       "      <td>True</td>\n",
       "      <td>1</td>\n",
       "      <td>0</td>\n",
       "    </tr>\n",
       "    <tr>\n",
       "      <th>4</th>\n",
       "      <td>38518.0</td>\n",
       "      <td>1.0</td>\n",
       "      <td>0.0</td>\n",
       "      <td>0.0</td>\n",
       "      <td>8.0</td>\n",
       "      <td>10.558907</td>\n",
       "      <td>7.292371</td>\n",
       "      <td>5.368496</td>\n",
       "      <td>5.447211</td>\n",
       "      <td>6.624065</td>\n",
       "      <td>...</td>\n",
       "      <td>False</td>\n",
       "      <td>True</td>\n",
       "      <td>False</td>\n",
       "      <td>False</td>\n",
       "      <td>False</td>\n",
       "      <td>False</td>\n",
       "      <td>False</td>\n",
       "      <td>True</td>\n",
       "      <td>16</td>\n",
       "      <td>0</td>\n",
       "    </tr>\n",
       "    <tr>\n",
       "      <th>...</th>\n",
       "      <td>...</td>\n",
       "      <td>...</td>\n",
       "      <td>...</td>\n",
       "      <td>...</td>\n",
       "      <td>...</td>\n",
       "      <td>...</td>\n",
       "      <td>...</td>\n",
       "      <td>...</td>\n",
       "      <td>...</td>\n",
       "      <td>...</td>\n",
       "      <td>...</td>\n",
       "      <td>...</td>\n",
       "      <td>...</td>\n",
       "      <td>...</td>\n",
       "      <td>...</td>\n",
       "      <td>...</td>\n",
       "      <td>...</td>\n",
       "      <td>...</td>\n",
       "      <td>...</td>\n",
       "      <td>...</td>\n",
       "      <td>...</td>\n",
       "    </tr>\n",
       "    <tr>\n",
       "      <th>6932</th>\n",
       "      <td>13100.0</td>\n",
       "      <td>1.0</td>\n",
       "      <td>0.0</td>\n",
       "      <td>0.0</td>\n",
       "      <td>9.0</td>\n",
       "      <td>9.480444</td>\n",
       "      <td>7.275297</td>\n",
       "      <td>3.722072</td>\n",
       "      <td>5.115626</td>\n",
       "      <td>6.624065</td>\n",
       "      <td>...</td>\n",
       "      <td>False</td>\n",
       "      <td>True</td>\n",
       "      <td>False</td>\n",
       "      <td>False</td>\n",
       "      <td>False</td>\n",
       "      <td>False</td>\n",
       "      <td>False</td>\n",
       "      <td>True</td>\n",
       "      <td>4</td>\n",
       "      <td>1</td>\n",
       "    </tr>\n",
       "    <tr>\n",
       "      <th>6933</th>\n",
       "      <td>13900.0</td>\n",
       "      <td>1.0</td>\n",
       "      <td>0.0</td>\n",
       "      <td>0.0</td>\n",
       "      <td>13.0</td>\n",
       "      <td>9.539716</td>\n",
       "      <td>7.345662</td>\n",
       "      <td>4.327702</td>\n",
       "      <td>4.460029</td>\n",
       "      <td>6.624065</td>\n",
       "      <td>...</td>\n",
       "      <td>False</td>\n",
       "      <td>False</td>\n",
       "      <td>False</td>\n",
       "      <td>False</td>\n",
       "      <td>False</td>\n",
       "      <td>False</td>\n",
       "      <td>False</td>\n",
       "      <td>True</td>\n",
       "      <td>2</td>\n",
       "      <td>1</td>\n",
       "    </tr>\n",
       "    <tr>\n",
       "      <th>6934</th>\n",
       "      <td>31080.0</td>\n",
       "      <td>1.0</td>\n",
       "      <td>0.0</td>\n",
       "      <td>0.0</td>\n",
       "      <td>9.0</td>\n",
       "      <td>10.344352</td>\n",
       "      <td>7.320044</td>\n",
       "      <td>4.419443</td>\n",
       "      <td>5.115626</td>\n",
       "      <td>6.624065</td>\n",
       "      <td>...</td>\n",
       "      <td>False</td>\n",
       "      <td>False</td>\n",
       "      <td>False</td>\n",
       "      <td>False</td>\n",
       "      <td>False</td>\n",
       "      <td>False</td>\n",
       "      <td>False</td>\n",
       "      <td>True</td>\n",
       "      <td>3</td>\n",
       "      <td>1</td>\n",
       "    </tr>\n",
       "    <tr>\n",
       "      <th>6935</th>\n",
       "      <td>75000.0</td>\n",
       "      <td>1.0</td>\n",
       "      <td>0.0</td>\n",
       "      <td>0.0</td>\n",
       "      <td>6.0</td>\n",
       "      <td>11.225257</td>\n",
       "      <td>6.493179</td>\n",
       "      <td>4.204693</td>\n",
       "      <td>5.278115</td>\n",
       "      <td>6.680782</td>\n",
       "      <td>...</td>\n",
       "      <td>False</td>\n",
       "      <td>False</td>\n",
       "      <td>False</td>\n",
       "      <td>False</td>\n",
       "      <td>False</td>\n",
       "      <td>False</td>\n",
       "      <td>False</td>\n",
       "      <td>True</td>\n",
       "      <td>4</td>\n",
       "      <td>1</td>\n",
       "    </tr>\n",
       "    <tr>\n",
       "      <th>6936</th>\n",
       "      <td>150000.0</td>\n",
       "      <td>1.0</td>\n",
       "      <td>0.0</td>\n",
       "      <td>0.0</td>\n",
       "      <td>4.0</td>\n",
       "      <td>11.918397</td>\n",
       "      <td>7.598259</td>\n",
       "      <td>6.048317</td>\n",
       "      <td>5.115626</td>\n",
       "      <td>6.680782</td>\n",
       "      <td>...</td>\n",
       "      <td>False</td>\n",
       "      <td>False</td>\n",
       "      <td>False</td>\n",
       "      <td>False</td>\n",
       "      <td>False</td>\n",
       "      <td>False</td>\n",
       "      <td>True</td>\n",
       "      <td>False</td>\n",
       "      <td>4</td>\n",
       "      <td>1</td>\n",
       "    </tr>\n",
       "  </tbody>\n",
       "</table>\n",
       "<p>6937 rows × 64 columns</p>\n",
       "</div>"
      ],
      "text/plain": [
       "           idv  policy_term  claim_count  claim_cost  vehicle_age  \\\n",
       "0      57335.0          1.0          0.0         0.0          5.0   \n",
       "1      10000.0          1.0          0.0         0.0         18.0   \n",
       "2      30870.0          1.0          0.0         0.0          8.0   \n",
       "3      23980.0          1.0          0.0         0.0         10.0   \n",
       "4      38518.0          1.0          0.0         0.0          8.0   \n",
       "...        ...          ...          ...         ...          ...   \n",
       "6932   13100.0          1.0          0.0         0.0          9.0   \n",
       "6933   13900.0          1.0          0.0         0.0         13.0   \n",
       "6934   31080.0          1.0          0.0         0.0          9.0   \n",
       "6935   75000.0          1.0          0.0         0.0          6.0   \n",
       "6936  150000.0          1.0          0.0         0.0          4.0   \n",
       "\n",
       "      log_sum_insured  log_net_premium_payable  log_ncb_amount  \\\n",
       "0           10.956684                 6.792670        5.035588   \n",
       "1            9.210440                 6.887991        4.369828   \n",
       "2           10.337573                 7.344848        5.148308   \n",
       "3           10.085017                 7.313594        5.134739   \n",
       "4           10.558907                 7.292371        5.368496   \n",
       "...               ...                      ...             ...   \n",
       "6932         9.480444                 7.275297        3.722072   \n",
       "6933         9.539716                 7.345662        4.327702   \n",
       "6934        10.344352                 7.320044        4.419443   \n",
       "6935        11.225257                 6.493179        4.204693   \n",
       "6936        11.918397                 7.598259        6.048317   \n",
       "\n",
       "      log_coverage_premium  log_tp_premium  ...  manufacturer_SUZUKI  \\\n",
       "0                 4.972172        6.680782  ...                False   \n",
       "1                 5.115626        6.624065  ...                False   \n",
       "2                 5.115626        6.624065  ...                False   \n",
       "3                 5.115626        6.624065  ...                False   \n",
       "4                 5.447211        6.624065  ...                False   \n",
       "...                    ...             ...  ...                  ...   \n",
       "6932              5.115626        6.624065  ...                False   \n",
       "6933              4.460029        6.624065  ...                False   \n",
       "6934              5.115626        6.624065  ...                False   \n",
       "6935              5.278115        6.680782  ...                False   \n",
       "6936              5.115626        6.680782  ...                False   \n",
       "\n",
       "      manufacturer_TVS  manufacturer_VESPA  manufacturer_YAMAHA  \\\n",
       "0                False               False                False   \n",
       "1                False               False                False   \n",
       "2                 True               False                False   \n",
       "3                False               False                False   \n",
       "4                 True               False                False   \n",
       "...                ...                 ...                  ...   \n",
       "6932              True               False                False   \n",
       "6933             False               False                False   \n",
       "6934             False               False                False   \n",
       "6935             False               False                False   \n",
       "6936             False               False                False   \n",
       "\n",
       "      manufacturer_YEZDI  type_of_policy_Old vehicle/ SaleTransfer  \\\n",
       "0                  False                                     False   \n",
       "1                  False                                     False   \n",
       "2                  False                                     False   \n",
       "3                  False                                     False   \n",
       "4                  False                                     False   \n",
       "...                  ...                                       ...   \n",
       "6932               False                                     False   \n",
       "6933               False                                     False   \n",
       "6934               False                                     False   \n",
       "6935               False                                     False   \n",
       "6936               False                                     False   \n",
       "\n",
       "      type_of_policy_Other Company Renewals  type_of_policy_Our Own Renewals  \\\n",
       "0                                     False                             True   \n",
       "1                                      True                            False   \n",
       "2                                     False                             True   \n",
       "3                                     False                             True   \n",
       "4                                     False                             True   \n",
       "...                                     ...                              ...   \n",
       "6932                                  False                             True   \n",
       "6933                                  False                             True   \n",
       "6934                                  False                             True   \n",
       "6935                                  False                             True   \n",
       "6936                                   True                            False   \n",
       "\n",
       "      Day  target  \n",
       "0       1       0  \n",
       "1       1       0  \n",
       "2       1       0  \n",
       "3       1       0  \n",
       "4      16       0  \n",
       "...   ...     ...  \n",
       "6932    4       1  \n",
       "6933    2       1  \n",
       "6934    3       1  \n",
       "6935    4       1  \n",
       "6936    4       1  \n",
       "\n",
       "[6937 rows x 64 columns]"
      ]
     },
     "execution_count": 209,
     "metadata": {},
     "output_type": "execute_result"
    }
   ],
   "source": [
    "df"
   ]
  },
  {
   "cell_type": "code",
   "execution_count": 210,
   "id": "5643377f",
   "metadata": {},
   "outputs": [
    {
     "data": {
      "text/plain": [
       "Index(['idv', 'policy_term', 'claim_count', 'claim_cost', 'vehicle_age',\n",
       "       'log_sum_insured', 'log_net_premium_payable', 'log_ncb_amount',\n",
       "       'log_coverage_premium', 'log_tp_premium', 'log_vehicleage',\n",
       "       'state_ANDAMAN & NICOBAR', 'state_ANDHRA PRADESH', 'state_ASSAM',\n",
       "       'state_BIHAR', 'state_CHANDIGARH', 'state_CHHATTISGARH',\n",
       "       'state_DADRA & NAGAR HAVELI', 'state_DAMAN AND DIU', 'state_GOA',\n",
       "       'state_GUJARAT', 'state_HARYANA', 'state_HIMACHAL PRADESH',\n",
       "       'state_JAMMU & KASHMIR', 'state_JHARKHAND', 'state_KARNATAKA',\n",
       "       'state_KERALA', 'state_MADHYA PRADESH', 'state_MAHARASHTRA',\n",
       "       'state_NEW DELHI', 'state_ODISHA', 'state_PUDUCHERRY', 'state_PUNJAB',\n",
       "       'state_RAJASTHAN', 'state_TAMIL NADU', 'state_TELANGANA',\n",
       "       'state_TRIPURA', 'state_UTTAR PRADESH', 'state_UTTARAKHAND',\n",
       "       'state_WEST BENGAL', 'manufacturer_APRILIA', 'manufacturer_ATHER',\n",
       "       'manufacturer_BAJAJ', 'manufacturer_BENELLI', 'manufacturer_HERO',\n",
       "       'manufacturer_HERO HONDA', 'manufacturer_HONDA', 'manufacturer_JAWA',\n",
       "       'manufacturer_KTM', 'manufacturer_LML', 'manufacturer_MAHINDRA',\n",
       "       'manufacturer_OKINAWA', 'manufacturer_PIAGGIO',\n",
       "       'manufacturer_ROYAL ENFIELD', 'manufacturer_SUZUKI', 'manufacturer_TVS',\n",
       "       'manufacturer_VESPA', 'manufacturer_YAMAHA', 'manufacturer_YEZDI',\n",
       "       'type_of_policy_Old vehicle/ SaleTransfer',\n",
       "       'type_of_policy_Other Company Renewals',\n",
       "       'type_of_policy_Our Own Renewals', 'Day', 'target'],\n",
       "      dtype='object')"
      ]
     },
     "execution_count": 210,
     "metadata": {},
     "output_type": "execute_result"
    }
   ],
   "source": [
    "df.columns"
   ]
  },
  {
   "cell_type": "code",
   "execution_count": 211,
   "id": "38bea84d",
   "metadata": {},
   "outputs": [
    {
     "data": {
      "text/plain": [
       "target\n",
       "1    4857\n",
       "0    2080\n",
       "Name: count, dtype: int64"
      ]
     },
     "execution_count": 211,
     "metadata": {},
     "output_type": "execute_result"
    }
   ],
   "source": [
    "df['target'].value_counts()"
   ]
  },
  {
   "cell_type": "code",
   "execution_count": 212,
   "id": "631eb1cb",
   "metadata": {},
   "outputs": [
    {
     "name": "stdout",
     "output_type": "stream",
     "text": [
      "Accuracy: 0.82\n"
     ]
    }
   ],
   "source": [
    "from sklearn.tree import DecisionTreeClassifier\n",
    "from sklearn.model_selection import train_test_split\n",
    "from sklearn.metrics import accuracy_score\n",
    "\n",
    "X=df[['idv', 'policy_term', 'claim_count', 'claim_cost', 'vehicle_age',\n",
    "       'log_sum_insured', 'log_net_premium_payable', 'log_ncb_amount',\n",
    "       'log_coverage_premium', 'log_tp_premium', 'log_vehicleage',\n",
    "       'state_ANDAMAN & NICOBAR', 'state_ANDHRA PRADESH', 'state_ASSAM',\n",
    "       'state_BIHAR', 'state_CHANDIGARH', 'state_CHHATTISGARH',\n",
    "       'state_DADRA & NAGAR HAVELI', 'state_DAMAN AND DIU', 'state_GOA',\n",
    "       'state_GUJARAT', 'state_HARYANA', 'state_HIMACHAL PRADESH',\n",
    "       'state_JAMMU & KASHMIR', 'state_JHARKHAND', 'state_KARNATAKA',\n",
    "       'state_KERALA', 'state_MADHYA PRADESH', 'state_MAHARASHTRA',\n",
    "       'state_NEW DELHI', 'state_ODISHA', 'state_PUDUCHERRY', 'state_PUNJAB',\n",
    "       'state_RAJASTHAN', 'state_TAMIL NADU', 'state_TELANGANA',\n",
    "       'state_TRIPURA', 'state_UTTAR PRADESH', 'state_UTTARAKHAND',\n",
    "       'state_WEST BENGAL', 'manufacturer_APRILIA', 'manufacturer_ATHER',\n",
    "       'manufacturer_BAJAJ', 'manufacturer_BENELLI', 'manufacturer_HERO',\n",
    "       'manufacturer_HERO HONDA', 'manufacturer_HONDA', 'manufacturer_JAWA',\n",
    "       'manufacturer_KTM', 'manufacturer_LML', 'manufacturer_MAHINDRA',\n",
    "       'manufacturer_OKINAWA', 'manufacturer_PIAGGIO',\n",
    "       'manufacturer_ROYAL ENFIELD', 'manufacturer_SUZUKI', 'manufacturer_TVS',\n",
    "       'manufacturer_VESPA', 'manufacturer_YAMAHA', 'manufacturer_YEZDI',\n",
    "       'type_of_policy_Old vehicle/ SaleTransfer',\n",
    "       'type_of_policy_Other Company Renewals',\n",
    "       'type_of_policy_Our Own Renewals', 'Day']]\n",
    "Y=df[['target']]\n",
    "\n",
    "X_train,X_test,Y_train,Y_test=train_test_split(X,Y,test_size=0.2,random_state=42)\n",
    "clf=DecisionTreeClassifier(criterion='entropy', max_depth=10, random_state=42)\n",
    "\n",
    "clf.fit(X_train,Y_train)\n",
    "Y_pred=clf.predict(X_test)\n",
    "\n",
    "accuracy=accuracy_score(Y_test,Y_pred)\n",
    "print(f\"Accuracy: {accuracy:.2f}\")\n"
   ]
  },
  {
   "cell_type": "code",
   "execution_count": 213,
   "id": "f16cdd8e",
   "metadata": {},
   "outputs": [
    {
     "name": "stdout",
     "output_type": "stream",
     "text": [
      "Confusion Matrix:\n",
      " [[  0 431]\n",
      " [  0 957]]\n",
      "\n",
      "Classification Report:\n",
      "               precision    recall  f1-score   support\n",
      "\n",
      "           0       0.00      0.00      0.00       431\n",
      "           1       0.69      1.00      0.82       957\n",
      "\n",
      "    accuracy                           0.69      1388\n",
      "   macro avg       0.34      0.50      0.41      1388\n",
      "weighted avg       0.48      0.69      0.56      1388\n",
      "\n"
     ]
    },
    {
     "data": {
      "image/png": "[encoded data removed]",
      "text/plain": [
       "<Figure size 640x480 with 2 Axes>"
      ]
     },
     "metadata": {},
     "output_type": "display_data"
    }
   ],
   "source": [
    "import pandas as pd\n",
    "import numpy as np\n",
    "import matplotlib.pyplot as plt\n",
    "import seaborn as sns\n",
    "\n",
    "from sklearn.model_selection import train_test_split \n",
    "from sklearn.linear_model import LogisticRegression\n",
    "from sklearn.metrics import confusion_matrix,classification_report\n",
    "\n",
    "X=df[['idv', 'policy_term', 'claim_count', 'claim_cost', 'vehicle_age',\n",
    "       'log_sum_insured', 'log_net_premium_payable', 'log_ncb_amount',\n",
    "       'log_coverage_premium', 'log_tp_premium', 'log_vehicleage',\n",
    "       'state_ANDAMAN & NICOBAR', 'state_ANDHRA PRADESH', 'state_ASSAM',\n",
    "       'state_BIHAR', 'state_CHANDIGARH', 'state_CHHATTISGARH',\n",
    "       'state_DADRA & NAGAR HAVELI', 'state_DAMAN AND DIU', 'state_GOA',\n",
    "       'state_GUJARAT', 'state_HARYANA', 'state_HIMACHAL PRADESH',\n",
    "       'state_JAMMU & KASHMIR', 'state_JHARKHAND', 'state_KARNATAKA',\n",
    "       'state_KERALA', 'state_MADHYA PRADESH', 'state_MAHARASHTRA',\n",
    "       'state_NEW DELHI', 'state_ODISHA', 'state_PUDUCHERRY', 'state_PUNJAB',\n",
    "       'state_RAJASTHAN', 'state_TAMIL NADU', 'state_TELANGANA',\n",
    "       'state_TRIPURA', 'state_UTTAR PRADESH', 'state_UTTARAKHAND',\n",
    "       'state_WEST BENGAL', 'manufacturer_APRILIA', 'manufacturer_ATHER',\n",
    "       'manufacturer_BAJAJ', 'manufacturer_BENELLI', 'manufacturer_HERO',\n",
    "       'manufacturer_HERO HONDA', 'manufacturer_HONDA', 'manufacturer_JAWA',\n",
    "       'manufacturer_KTM', 'manufacturer_LML', 'manufacturer_MAHINDRA',\n",
    "       'manufacturer_OKINAWA', 'manufacturer_PIAGGIO',\n",
    "       'manufacturer_ROYAL ENFIELD', 'manufacturer_SUZUKI', 'manufacturer_TVS',\n",
    "       'manufacturer_VESPA', 'manufacturer_YAMAHA', 'manufacturer_YEZDI',\n",
    "       'type_of_policy_Old vehicle/ SaleTransfer',\n",
    "       'type_of_policy_Other Company Renewals',\n",
    "       'type_of_policy_Our Own Renewals', 'Day']]\n",
    "\n",
    "Y=df[['target']]\n",
    "\n",
    "X_train,X_test,Y_train,Y_test=train_test_split(X,Y,test_size=0.2,random_state=42)\n",
    "\n",
    "model=LogisticRegression()\n",
    "model.fit(X_train,Y_train)\n",
    "\n",
    "Y_pred=model.predict(X_test)\n",
    "print(\"Confusion Matrix:\\n\", confusion_matrix(Y_test, Y_pred))\n",
    "print(\"\\nClassification Report:\\n\", classification_report(Y_test, Y_pred))\n",
    "\n",
    "conf_matrix = confusion_matrix(Y_test, Y_pred)\n",
    "sns.heatmap(conf_matrix, annot=True, fmt='d', cmap='Blues')\n",
    "plt.title('Confusion Matrix')\n",
    "plt.xlabel('Predicted')\n",
    "plt.ylabel('Actual')\n",
    "plt.show()\n"
   ]
  },
  {
   "cell_type": "code",
   "execution_count": 214,
   "id": "178decc1",
   "metadata": {},
   "outputs": [
    {
     "data": {
      "text/html": [
       "<div>\n",
       "<style scoped>\n",
       "    .dataframe tbody tr th:only-of-type {\n",
       "        vertical-align: middle;\n",
       "    }\n",
       "\n",
       "    .dataframe tbody tr th {\n",
       "        vertical-align: top;\n",
       "    }\n",
       "\n",
       "    .dataframe thead th {\n",
       "        text-align: right;\n",
       "    }\n",
       "</style>\n",
       "<table border=\"1\" class=\"dataframe\">\n",
       "  <thead>\n",
       "    <tr style=\"text-align: right;\">\n",
       "      <th></th>\n",
       "      <th>target</th>\n",
       "    </tr>\n",
       "  </thead>\n",
       "  <tbody>\n",
       "    <tr>\n",
       "      <th>2252</th>\n",
       "      <td>1</td>\n",
       "    </tr>\n",
       "    <tr>\n",
       "      <th>5338</th>\n",
       "      <td>1</td>\n",
       "    </tr>\n",
       "    <tr>\n",
       "      <th>2789</th>\n",
       "      <td>1</td>\n",
       "    </tr>\n",
       "    <tr>\n",
       "      <th>2678</th>\n",
       "      <td>1</td>\n",
       "    </tr>\n",
       "    <tr>\n",
       "      <th>6369</th>\n",
       "      <td>1</td>\n",
       "    </tr>\n",
       "    <tr>\n",
       "      <th>...</th>\n",
       "      <td>...</td>\n",
       "    </tr>\n",
       "    <tr>\n",
       "      <th>652</th>\n",
       "      <td>0</td>\n",
       "    </tr>\n",
       "    <tr>\n",
       "      <th>33</th>\n",
       "      <td>0</td>\n",
       "    </tr>\n",
       "    <tr>\n",
       "      <th>5495</th>\n",
       "      <td>1</td>\n",
       "    </tr>\n",
       "    <tr>\n",
       "      <th>44</th>\n",
       "      <td>0</td>\n",
       "    </tr>\n",
       "    <tr>\n",
       "      <th>3305</th>\n",
       "      <td>1</td>\n",
       "    </tr>\n",
       "  </tbody>\n",
       "</table>\n",
       "<p>1388 rows × 1 columns</p>\n",
       "</div>"
      ],
      "text/plain": [
       "      target\n",
       "2252       1\n",
       "5338       1\n",
       "2789       1\n",
       "2678       1\n",
       "6369       1\n",
       "...      ...\n",
       "652        0\n",
       "33         0\n",
       "5495       1\n",
       "44         0\n",
       "3305       1\n",
       "\n",
       "[1388 rows x 1 columns]"
      ]
     },
     "execution_count": 214,
     "metadata": {},
     "output_type": "execute_result"
    }
   ],
   "source": [
    "Y_test"
   ]
  },
  {
   "cell_type": "code",
   "execution_count": 215,
   "id": "a09ce4a0",
   "metadata": {},
   "outputs": [
    {
     "name": "stdout",
     "output_type": "stream",
     "text": [
      "Confusion Matrix:\n",
      " [[183 248]\n",
      " [258 699]]\n",
      "\n",
      "Classification Report:\n",
      "               precision    recall  f1-score   support\n",
      "\n",
      "           0       0.41      0.42      0.42       431\n",
      "           1       0.74      0.73      0.73       957\n",
      "\n",
      "    accuracy                           0.64      1388\n",
      "   macro avg       0.58      0.58      0.58      1388\n",
      "weighted avg       0.64      0.64      0.64      1388\n",
      "\n"
     ]
    },
    {
     "data": {
      "image/png": "[encoded data removed]",
      "text/plain": [
       "<Figure size 640x480 with 2 Axes>"
      ]
     },
     "metadata": {},
     "output_type": "display_data"
    }
   ],
   "source": [
    "from sklearn.model_selection import train_test_split \n",
    "from sklearn.linear_model import LogisticRegression\n",
    "from sklearn.metrics import confusion_matrix,classification_report\n",
    "from imblearn.over_sampling import SMOTE\n",
    "\n",
    "smote = SMOTE(random_state=42)\n",
    "X_resampled, Y_resampled = smote.fit_resample(X_train, Y_train)\n",
    "\n",
    "model=LogisticRegression()\n",
    "model.fit(X_resampled, Y_resampled)\n",
    "\n",
    "Y_pred=model.predict(X_test)\n",
    "print(\"Confusion Matrix:\\n\", confusion_matrix(Y_test, Y_pred))\n",
    "print(\"\\nClassification Report:\\n\", classification_report(Y_test, Y_pred))\n",
    "\n",
    "conf_matrix = confusion_matrix(Y_test, Y_pred)\n",
    "sns.heatmap(conf_matrix, annot=True, fmt='d', cmap='Blues')\n",
    "plt.title('Confusion Matrix')\n",
    "plt.xlabel('Predicted')\n",
    "plt.ylabel('Actual')\n",
    "plt.show()"
   ]
  },
  {
   "cell_type": "code",
   "execution_count": 216,
   "id": "ede2a406",
   "metadata": {},
   "outputs": [
    {
     "name": "stdout",
     "output_type": "stream",
     "text": [
      "Accuracy: 0.6354466858789626\n",
      "Confusion Matrix:\n",
      " [[183 248]\n",
      " [258 699]]\n",
      "Classification Report:\n",
      "               precision    recall  f1-score   support\n",
      "\n",
      "           0       0.41      0.42      0.42       431\n",
      "           1       0.74      0.73      0.73       957\n",
      "\n",
      "    accuracy                           0.64      1388\n",
      "   macro avg       0.58      0.58      0.58      1388\n",
      "weighted avg       0.64      0.64      0.64      1388\n",
      "\n"
     ]
    }
   ],
   "source": [
    "from sklearn.model_selection import train_test_split\n",
    "from sklearn.ensemble import RandomForestClassifier\n",
    "from sklearn.metrics import classification_report, confusion_matrix, accuracy_score\n",
    "\n",
    "rf = RandomForestClassifier(n_estimators=100, random_state=42)\n",
    "rf.fit(X_resampled, Y_resampled)\n",
    "\n",
    "# Evaluate\n",
    "y_pred = rf.predict(X_test)\n",
    "print(\"Accuracy:\", accuracy_score(Y_test, Y_pred))\n",
    "print(\"Confusion Matrix:\\n\", confusion_matrix(Y_test, Y_pred))\n",
    "print(\"Classification Report:\\n\", classification_report(Y_test, Y_pred))"
   ]
  },
  {
   "cell_type": "code",
   "execution_count": 217,
   "id": "5c523966",
   "metadata": {},
   "outputs": [
    {
     "name": "stdout",
     "output_type": "stream",
     "text": [
      "Accuracy: 0.6354466858789626\n",
      "Confusion Matrix:\n",
      " [[183 248]\n",
      " [258 699]]\n",
      "Classification Report:\n",
      "               precision    recall  f1-score   support\n",
      "\n",
      "           0       0.41      0.42      0.42       431\n",
      "           1       0.74      0.73      0.73       957\n",
      "\n",
      "    accuracy                           0.64      1388\n",
      "   macro avg       0.58      0.58      0.58      1388\n",
      "weighted avg       0.64      0.64      0.64      1388\n",
      "\n"
     ]
    }
   ],
   "source": [
    "from sklearn.model_selection import train_test_split\n",
    "from xgboost import XGBClassifier\n",
    "from sklearn.metrics import classification_report, confusion_matrix, accuracy_score\n",
    "\n",
    "xgb_model = XGBClassifier(\n",
    "    n_estimators=100,\n",
    "    learning_rate=0.1,\n",
    "    max_depth=3,\n",
    "    random_state=42,\n",
    "    use_label_encoder=False,\n",
    "    eval_metric='logloss'\n",
    ")\n",
    "xgb_model.fit(X_resampled, Y_resampled)\n",
    "\n",
    "y_pred = xgb_model.predict(X_test)\n",
    "\n",
    "print(\"Accuracy:\", accuracy_score(Y_test, Y_pred))\n",
    "print(\"Confusion Matrix:\\n\", confusion_matrix(Y_test, Y_pred))\n",
    "print(\"Classification Report:\\n\", classification_report(Y_test, Y_pred))"
   ]
  },
  {
   "cell_type": "code",
   "execution_count": 218,
   "id": "10cdae3e",
   "metadata": {},
   "outputs": [
    {
     "name": "stdout",
     "output_type": "stream",
     "text": [
      "Fitting 3 folds for each of 20 candidates, totalling 60 fits\n",
      "Best Parameters: {'colsample_bytree': np.float64(0.7541666010159664), 'gamma': np.float64(0.007983126110107097), 'learning_rate': np.float64(0.0792681476866447), 'max_depth': 6, 'n_estimators': 160, 'subsample': np.float64(0.8733054075301833)}\n",
      "Accuracy: 0.8256484149855908\n",
      "Confusion Matrix:\n",
      " [[247 184]\n",
      " [ 58 899]]\n",
      "Classification Report:\n",
      "               precision    recall  f1-score   support\n",
      "\n",
      "           0       0.81      0.57      0.67       431\n",
      "           1       0.83      0.94      0.88       957\n",
      "\n",
      "    accuracy                           0.83      1388\n",
      "   macro avg       0.82      0.76      0.78      1388\n",
      "weighted avg       0.82      0.83      0.82      1388\n",
      "\n"
     ]
    }
   ],
   "source": [
    "from sklearn.model_selection import RandomizedSearchCV\n",
    "from scipy.stats import randint, uniform\n",
    "\n",
    "param_dist = {\n",
    "    'n_estimators': randint(50, 300),\n",
    "    'learning_rate': uniform(0.01, 0.3),\n",
    "    'max_depth': randint(3, 10),\n",
    "    'subsample': uniform(0.6, 0.4),\n",
    "    'colsample_bytree': uniform(0.6, 0.4),\n",
    "    'gamma': uniform(0, 0.5)\n",
    "}\n",
    "\n",
    "xgb_model = XGBClassifier(\n",
    "    random_state=42,\n",
    "    use_label_encoder=False,\n",
    "    eval_metric='logloss'\n",
    ")\n",
    "\n",
    "random_search = RandomizedSearchCV(\n",
    "    estimator=xgb_model,\n",
    "    param_distributions=param_dist,\n",
    "    n_iter=20,              \n",
    "    scoring='f1_macro',     \n",
    "    cv=3,\n",
    "    verbose=1,\n",
    "    random_state=42,\n",
    "    n_jobs=-1\n",
    ")\n",
    "\n",
    "random_search.fit(X_resampled, Y_resampled)\n",
    "\n",
    "\n",
    "best_model = random_search.best_estimator_\n",
    "\n",
    "\n",
    "y_pred = best_model.predict(X_test)\n",
    "\n",
    "\n",
    "from sklearn.metrics import classification_report, confusion_matrix, accuracy_score\n",
    "\n",
    "print(\"Best Parameters:\", random_search.best_params_)\n",
    "print(\"Accuracy:\", accuracy_score(Y_test, y_pred))\n",
    "print(\"Confusion Matrix:\\n\", confusion_matrix(Y_test, y_pred))\n",
    "print(\"Classification Report:\\n\", classification_report(Y_test, y_pred))"
   ]
  },
  {
   "cell_type": "code",
   "execution_count": 219,
   "id": "29433c9a",
   "metadata": {},
   "outputs": [
    {
     "data": {
      "text/plain": [
       "Index(['idv', 'policy_term', 'claim_count', 'claim_cost', 'vehicle_age',\n",
       "       'log_sum_insured', 'log_net_premium_payable', 'log_ncb_amount',\n",
       "       'log_coverage_premium', 'log_tp_premium', 'log_vehicleage',\n",
       "       'state_ANDAMAN & NICOBAR', 'state_ANDHRA PRADESH', 'state_ASSAM',\n",
       "       'state_BIHAR', 'state_CHANDIGARH', 'state_CHHATTISGARH',\n",
       "       'state_DADRA & NAGAR HAVELI', 'state_DAMAN AND DIU', 'state_GOA',\n",
       "       'state_GUJARAT', 'state_HARYANA', 'state_HIMACHAL PRADESH',\n",
       "       'state_JAMMU & KASHMIR', 'state_JHARKHAND', 'state_KARNATAKA',\n",
       "       'state_KERALA', 'state_MADHYA PRADESH', 'state_MAHARASHTRA',\n",
       "       'state_NEW DELHI', 'state_ODISHA', 'state_PUDUCHERRY', 'state_PUNJAB',\n",
       "       'state_RAJASTHAN', 'state_TAMIL NADU', 'state_TELANGANA',\n",
       "       'state_TRIPURA', 'state_UTTAR PRADESH', 'state_UTTARAKHAND',\n",
       "       'state_WEST BENGAL', 'manufacturer_APRILIA', 'manufacturer_ATHER',\n",
       "       'manufacturer_BAJAJ', 'manufacturer_BENELLI', 'manufacturer_HERO',\n",
       "       'manufacturer_HERO HONDA', 'manufacturer_HONDA', 'manufacturer_JAWA',\n",
       "       'manufacturer_KTM', 'manufacturer_LML', 'manufacturer_MAHINDRA',\n",
       "       'manufacturer_OKINAWA', 'manufacturer_PIAGGIO',\n",
       "       'manufacturer_ROYAL ENFIELD', 'manufacturer_SUZUKI', 'manufacturer_TVS',\n",
       "       'manufacturer_VESPA', 'manufacturer_YAMAHA', 'manufacturer_YEZDI',\n",
       "       'type_of_policy_Old vehicle/ SaleTransfer',\n",
       "       'type_of_policy_Other Company Renewals',\n",
       "       'type_of_policy_Our Own Renewals', 'Day', 'target'],\n",
       "      dtype='object')"
      ]
     },
     "execution_count": 219,
     "metadata": {},
     "output_type": "execute_result"
    }
   ],
   "source": [
    "df.columns"
   ]
  },
  {
   "cell_type": "code",
   "execution_count": 220,
   "id": "bbee9ab4",
   "metadata": {},
   "outputs": [],
   "source": [
    "import pickle \n",
    "with open('best_model.pkl','wb') as file:\n",
    "    pickle.dump(best_model,file)"
   ]
  },
  {
   "cell_type": "code",
   "execution_count": 221,
   "id": "6c057a09",
   "metadata": {},
   "outputs": [],
   "source": [
    "with open('best_model.pkl','rb') as file:\n",
    "    loaded_model=pickle.load(file)"
   ]
  },
  {
   "cell_type": "code",
   "execution_count": 222,
   "id": "b165c10f",
   "metadata": {},
   "outputs": [
    {
     "data": {
      "text/plain": [
       "Index(['idv', 'policy_term', 'claim_count', 'claim_cost', 'vehicle_age',\n",
       "       'log_sum_insured', 'log_net_premium_payable', 'log_ncb_amount',\n",
       "       'log_coverage_premium', 'log_tp_premium', 'log_vehicleage',\n",
       "       'state_ANDAMAN & NICOBAR', 'state_ANDHRA PRADESH', 'state_ASSAM',\n",
       "       'state_BIHAR', 'state_CHANDIGARH', 'state_CHHATTISGARH',\n",
       "       'state_DADRA & NAGAR HAVELI', 'state_DAMAN AND DIU', 'state_GOA',\n",
       "       'state_GUJARAT', 'state_HARYANA', 'state_HIMACHAL PRADESH',\n",
       "       'state_JAMMU & KASHMIR', 'state_JHARKHAND', 'state_KARNATAKA',\n",
       "       'state_KERALA', 'state_MADHYA PRADESH', 'state_MAHARASHTRA',\n",
       "       'state_NEW DELHI', 'state_ODISHA', 'state_PUDUCHERRY', 'state_PUNJAB',\n",
       "       'state_RAJASTHAN', 'state_TAMIL NADU', 'state_TELANGANA',\n",
       "       'state_TRIPURA', 'state_UTTAR PRADESH', 'state_UTTARAKHAND',\n",
       "       'state_WEST BENGAL', 'manufacturer_APRILIA', 'manufacturer_ATHER',\n",
       "       'manufacturer_BAJAJ', 'manufacturer_BENELLI', 'manufacturer_HERO',\n",
       "       'manufacturer_HERO HONDA', 'manufacturer_HONDA', 'manufacturer_JAWA',\n",
       "       'manufacturer_KTM', 'manufacturer_LML', 'manufacturer_MAHINDRA',\n",
       "       'manufacturer_OKINAWA', 'manufacturer_PIAGGIO',\n",
       "       'manufacturer_ROYAL ENFIELD', 'manufacturer_SUZUKI', 'manufacturer_TVS',\n",
       "       'manufacturer_VESPA', 'manufacturer_YAMAHA', 'manufacturer_YEZDI',\n",
       "       'type_of_policy_Old vehicle/ SaleTransfer',\n",
       "       'type_of_policy_Other Company Renewals',\n",
       "       'type_of_policy_Our Own Renewals', 'Day', 'target'],\n",
       "      dtype='object')"
      ]
     },
     "execution_count": 222,
     "metadata": {},
     "output_type": "execute_result"
    }
   ],
   "source": [
    "df.columns"
   ]
  },
  {
   "cell_type": "code",
   "execution_count": 223,
   "id": "1929c85b",
   "metadata": {},
   "outputs": [
    {
     "data": {
      "text/plain": [
       "Index(['idv', 'policy_term', 'claim_count', 'claim_cost', 'vehicle_age',\n",
       "       'log_sum_insured', 'log_net_premium_payable', 'log_ncb_amount',\n",
       "       'log_coverage_premium', 'log_tp_premium', 'log_vehicleage',\n",
       "       'state_ANDAMAN & NICOBAR', 'state_ANDHRA PRADESH', 'state_ASSAM',\n",
       "       'state_BIHAR', 'state_CHANDIGARH', 'state_CHHATTISGARH',\n",
       "       'state_DADRA & NAGAR HAVELI', 'state_DAMAN AND DIU', 'state_GOA',\n",
       "       'state_GUJARAT', 'state_HARYANA', 'state_HIMACHAL PRADESH',\n",
       "       'state_JAMMU & KASHMIR', 'state_JHARKHAND', 'state_KARNATAKA',\n",
       "       'state_KERALA', 'state_MADHYA PRADESH', 'state_MAHARASHTRA',\n",
       "       'state_NEW DELHI', 'state_ODISHA', 'state_PUDUCHERRY', 'state_PUNJAB',\n",
       "       'state_RAJASTHAN', 'state_TAMIL NADU', 'state_TELANGANA',\n",
       "       'state_TRIPURA', 'state_UTTAR PRADESH', 'state_UTTARAKHAND',\n",
       "       'state_WEST BENGAL', 'manufacturer_APRILIA', 'manufacturer_ATHER',\n",
       "       'manufacturer_BAJAJ', 'manufacturer_BENELLI', 'manufacturer_HERO',\n",
       "       'manufacturer_HERO HONDA', 'manufacturer_HONDA', 'manufacturer_JAWA',\n",
       "       'manufacturer_KTM', 'manufacturer_LML', 'manufacturer_MAHINDRA',\n",
       "       'manufacturer_OKINAWA', 'manufacturer_PIAGGIO',\n",
       "       'manufacturer_ROYAL ENFIELD', 'manufacturer_SUZUKI', 'manufacturer_TVS',\n",
       "       'manufacturer_VESPA', 'manufacturer_YAMAHA', 'manufacturer_YEZDI',\n",
       "       'type_of_policy_Old vehicle/ SaleTransfer',\n",
       "       'type_of_policy_Other Company Renewals',\n",
       "       'type_of_policy_Our Own Renewals', 'Day'],\n",
       "      dtype='object')"
      ]
     },
     "execution_count": 223,
     "metadata": {},
     "output_type": "execute_result"
    }
   ],
   "source": [
    "X_test.columns"
   ]
  },
  {
   "cell_type": "code",
   "execution_count": 224,
   "id": "de8d5b19",
   "metadata": {},
   "outputs": [
    {
     "name": "stdout",
     "output_type": "stream",
     "text": [
      "Top 10 Important Features by Permutation:\n",
      "                                  Feature  Importance\n",
      "0                                     idv    0.059222\n",
      "60  type_of_policy_Other Company Renewals    0.041210\n",
      "46                     manufacturer_HONDA    0.020821\n",
      "4                             vehicle_age    0.020677\n",
      "62                                    Day    0.017579\n",
      "44                      manufacturer_HERO    0.007997\n",
      "6                 log_net_premium_payable    0.007277\n",
      "61        type_of_policy_Our Own Renewals    0.004179\n",
      "55                       manufacturer_TVS    0.003890\n",
      "20                          state_GUJARAT    0.003746\n"
     ]
    }
   ],
   "source": [
    "from sklearn.inspection import permutation_importance\n",
    "\n",
    "# Evaluate importance on test data\n",
    "result = permutation_importance(model, X_test, Y_test, n_repeats=10, random_state=42, n_jobs=-1)\n",
    "\n",
    "# Display top features\n",
    "perm_importance = pd.DataFrame({\n",
    "    \"Feature\": X_test.columns,\n",
    "    \"Importance\": result.importances_mean\n",
    "}).sort_values(by=\"Importance\", ascending=False)\n",
    "\n",
    "print(\"Top 10 Important Features by Permutation:\")\n",
    "print(perm_importance.head(10))\n"
   ]
  },
  {
   "cell_type": "markdown",
   "id": "7ff57ce8",
   "metadata": {},
   "source": [
    "The permutation feature importance technique helps identify which individual features in the dataset contribute most to the model’s predictive performance.\n",
    "\n",
    "It works by randomly shuffling the values of each feature and observing how much the model's performance metric (e.g., F1-score or accuracy) drops.\n",
    "\n",
    "A higher drop in score means that the feature is more important — its presence significantly influences the model’s predictions.\n",
    "\n",
    "A smaller or no drop indicates the feature has less impact on prediction and may be redundant or less informative.\n",
    "\n",
    "\n",
    "We gain insights into feature relevance, guiding potential feature selection or engineering.\n",
    "\n",
    "It helps improve model interpretability, and potentially boost performance on larger datasets by focusing on top-performing features.\n",
    "\n",
    "\n",
    "This technique identifies the most influential features by measuring the decrease in model performance (e.g., F1-score) when a feature's values are randomly shuffled.\n",
    "A higher importance score indicates the feature plays a significant role in accurate predictions, helping guide both interpretability and model optimization."
   ]
  },
  {
   "cell_type": "code",
   "execution_count": 225,
   "id": "a5f4bdb4",
   "metadata": {},
   "outputs": [
    {
     "data": {
      "image/png": "[encoded data removed]",
      "text/plain": [
       "<Figure size 1000x500 with 1 Axes>"
      ]
     },
     "metadata": {},
     "output_type": "display_data"
    }
   ],
   "source": [
    "from lime.lime_tabular import LimeTabularExplainer\n",
    "\n",
    "explainer = LimeTabularExplainer(\n",
    "    training_data=X_train.values,\n",
    "    feature_names=X_train.columns.tolist(),\n",
    "    class_names=['Not Interested', 'Interested'],\n",
    "    mode='classification'\n",
    ")\n",
    "\n",
    "# Pick an instance to explain\n",
    "i = 3  # any test row index\n",
    "exp = explainer.explain_instance(X_test.values[i], model.predict_proba, num_features=10)\n",
    "\n",
    "fig = exp.as_pyplot_figure()\n",
    "fig.set_size_inches(10, 5)\n",
    "plt.tight_layout()\n",
    "plt.show()\n"
   ]
  },
  {
   "cell_type": "markdown",
   "id": "97f2dad8",
   "metadata": {},
   "source": [
    "The LIME plot shown above provides a local explanation for a single prediction where the model classified the user as \"Interested\".\n",
    "\n",
    "Green bars represent features that positively contributed to the model predicting the \"Interested\" class.\n",
    "\n",
    "Red bars represent features that negatively contributed, i.e., they pushed the model away from predicting \"Interested\".\n",
    "\n",
    "For this particular instance:\n",
    "\n",
    "type_of_policy_Other Company Renewals, vehicle_age <= 7, and state_CHANDIGARH had strong positive contributions toward the prediction.\n",
    "\n",
    "On the other hand, idv > 40200 and state_TRIPURA had negative impacts, pushing the prediction away from \"Interested\".\n",
    "\n",
    "This local interpretability helps us understand which features influenced a single decision, making the model more explainable and trustworthy. Such visual diagnostics are crucial when deploying models in real-world applications like insurance where decision accountability matters. "
   ]
  },
  {
   "cell_type": "code",
   "execution_count": 226,
   "id": "49ae3846",
   "metadata": {},
   "outputs": [
    {
     "data": {
      "image/png": "[encoded data removed]",
      "text/plain": [
       "<Figure size 640x480 with 1 Axes>"
      ]
     },
     "metadata": {},
     "output_type": "display_data"
    }
   ],
   "source": [
    "from sklearn.inspection import permutation_importance\n",
    "\n",
    "result = permutation_importance(model, X_test, Y_test, n_repeats=10, scoring='f1', random_state=42)\n",
    "\n",
    "# Plot\n",
    "import matplotlib.pyplot as plt\n",
    "import numpy as np\n",
    "\n",
    "sorted_idx = result.importances_mean.argsort()\n",
    "plt.barh(range(len(sorted_idx)), result.importances_mean[sorted_idx])\n",
    "plt.yticks(range(len(sorted_idx)), np.array(X_test.columns)[sorted_idx])\n",
    "plt.xlabel(\"Permutation Importance (F1 impact)\")\n",
    "plt.title(\"Permutation Importance of Features\")\n",
    "plt.show()\n"
   ]
  },
  {
   "cell_type": "code",
   "execution_count": 227,
   "id": "6f2aa65a",
   "metadata": {},
   "outputs": [
    {
     "name": "stdout",
     "output_type": "stream",
     "text": [
      "Cross-Validation F1 Scores: [0.82484076 0.82108626 0.82932049 0.81939265 0.82302772]\n",
      "Mean F1 Score: 0.8235335769892579\n"
     ]
    }
   ],
   "source": [
    "from sklearn.model_selection import cross_val_score\n",
    "import numpy as np\n",
    "\n",
    "scores = cross_val_score(model, X_train, Y_train, cv=5, scoring='f1')\n",
    "print(\"Cross-Validation F1 Scores:\", scores)\n",
    "print(\"Mean F1 Score:\", np.mean(scores))\n"
   ]
  },
  {
   "cell_type": "code",
   "execution_count": 228,
   "id": "fc775236",
   "metadata": {},
   "outputs": [
    {
     "name": "stdout",
     "output_type": "stream",
     "text": [
      "              precision    recall  f1-score   support\n",
      "\n",
      "           0       0.41      0.42      0.42       431\n",
      "           1       0.74      0.73      0.73       957\n",
      "\n",
      "    accuracy                           0.64      1388\n",
      "   macro avg       0.58      0.58      0.58      1388\n",
      "weighted avg       0.64      0.64      0.64      1388\n",
      "\n"
     ]
    },
    {
     "data": {
      "image/png": "[encoded data removed]",
      "text/plain": [
       "<Figure size 640x480 with 2 Axes>"
      ]
     },
     "metadata": {},
     "output_type": "display_data"
    }
   ],
   "source": [
    "from sklearn.metrics import classification_report, confusion_matrix, ConfusionMatrixDisplay\n",
    "\n",
    "y_pred = model.predict(X_test)\n",
    "print(classification_report(Y_test, y_pred))\n",
    "\n",
    "ConfusionMatrixDisplay.from_estimator(model, X_test, Y_test)\n",
    "plt.title(\"Confusion Matrix\")\n",
    "plt.show()\n"
   ]
  },
  {
   "cell_type": "code",
   "execution_count": 229,
   "id": "12b549ab",
   "metadata": {},
   "outputs": [
    {
     "name": "stderr",
     "output_type": "stream",
     "text": [
      "[I 2025-09-06 17:04:00,209] A new study created in memory with name: no-name-bd3fca19-6912-47d1-be8f-ded8d7b1da4c\n",
      "[I 2025-09-06 17:04:00,379] Trial 0 finished with value: 0.8854519091348477 and parameters: {'max_depth': 6, 'learning_rate': 0.0352345402522923, 'n_estimators': 187, 'subsample': 0.5945392718835512, 'colsample_bytree': 0.5372324919135483, 'gamma': 3.770482261273514}. Best is trial 0 with value: 0.8854519091348477.\n",
      "[I 2025-09-06 17:04:00,526] Trial 1 finished with value: 0.885024154589372 and parameters: {'max_depth': 9, 'learning_rate': 0.17074798517610779, 'n_estimators': 229, 'subsample': 0.8494973581116722, 'colsample_bytree': 0.50356302559155, 'gamma': 2.9991058012292457}. Best is trial 0 with value: 0.8854519091348477.\n",
      "[I 2025-09-06 17:04:00,708] Trial 2 finished with value: 0.8826382153249273 and parameters: {'max_depth': 10, 'learning_rate': 0.08466800768491493, 'n_estimators': 213, 'subsample': 0.784860178490542, 'colsample_bytree': 0.8615619226346789, 'gamma': 2.39542560259269}. Best is trial 0 with value: 0.8854519091348477.\n",
      "[I 2025-09-06 17:04:00,830] Trial 3 finished with value: 0.8813559322033898 and parameters: {'max_depth': 7, 'learning_rate': 0.13466774114089072, 'n_estimators': 144, 'subsample': 0.7570300631693573, 'colsample_bytree': 0.5702504241477513, 'gamma': 2.6185619811138903}. Best is trial 0 with value: 0.8854519091348477.\n",
      "[I 2025-09-06 17:04:00,936] Trial 4 finished with value: 0.8777398928397467 and parameters: {'max_depth': 5, 'learning_rate': 0.2680092563829111, 'n_estimators': 121, 'subsample': 0.7237514747011711, 'colsample_bytree': 0.6258840625596068, 'gamma': 2.817484337747447}. Best is trial 0 with value: 0.8854519091348477.\n",
      "[I 2025-09-06 17:04:01,080] Trial 5 finished with value: 0.8840579710144928 and parameters: {'max_depth': 9, 'learning_rate': 0.2215185605393424, 'n_estimators': 262, 'subsample': 0.9799371039692231, 'colsample_bytree': 0.5285969260654488, 'gamma': 2.5730641674650494}. Best is trial 0 with value: 0.8854519091348477.\n",
      "[I 2025-09-06 17:04:01,597] Trial 6 finished with value: 0.884765625 and parameters: {'max_depth': 7, 'learning_rate': 0.023328903338340482, 'n_estimators': 390, 'subsample': 0.508787824892834, 'colsample_bytree': 0.9474332017805502, 'gamma': 0.45804521929356246}. Best is trial 0 with value: 0.8854519091348477.\n",
      "[I 2025-09-06 17:04:01,787] Trial 7 finished with value: 0.8878189696677901 and parameters: {'max_depth': 3, 'learning_rate': 0.02237655845431402, 'n_estimators': 304, 'subsample': 0.8348618570637147, 'colsample_bytree': 0.5000866841404766, 'gamma': 2.610478778972813}. Best is trial 7 with value: 0.8878189696677901.\n",
      "[I 2025-09-06 17:04:02,201] Trial 8 finished with value: 0.857429718875502 and parameters: {'max_depth': 7, 'learning_rate': 0.2040166085073655, 'n_estimators': 341, 'subsample': 0.5980981720041401, 'colsample_bytree': 0.8212879407584565, 'gamma': 0.03730794637667123}. Best is trial 7 with value: 0.8878189696677901.\n",
      "[I 2025-09-06 17:04:02,516] Trial 9 finished with value: 0.8729769494850417 and parameters: {'max_depth': 7, 'learning_rate': 0.12205934214533928, 'n_estimators': 306, 'subsample': 0.8362190244376355, 'colsample_bytree': 0.8516423545646841, 'gamma': 0.6247964050193711}. Best is trial 7 with value: 0.8878189696677901.\n",
      "[I 2025-09-06 17:04:02,759] Trial 10 finished with value: 0.8879268879268879 and parameters: {'max_depth': 3, 'learning_rate': 0.0781969092530058, 'n_estimators': 450, 'subsample': 0.987295363533454, 'colsample_bytree': 0.664050576898777, 'gamma': 4.936779262915875}. Best is trial 10 with value: 0.8879268879268879.\n",
      "[I 2025-09-06 17:04:03,002] Trial 11 finished with value: 0.8884615384615384 and parameters: {'max_depth': 3, 'learning_rate': 0.06699504139684129, 'n_estimators': 492, 'subsample': 0.9914055593033041, 'colsample_bytree': 0.6878198799291316, 'gamma': 4.937122602929735}. Best is trial 11 with value: 0.8884615384615384.\n",
      "[I 2025-09-06 17:04:03,259] Trial 12 finished with value: 0.8896353166986565 and parameters: {'max_depth': 3, 'learning_rate': 0.07949486443987452, 'n_estimators': 491, 'subsample': 0.9989455581300483, 'colsample_bytree': 0.6786704899216118, 'gamma': 4.82349690234433}. Best is trial 12 with value: 0.8896353166986565.\n",
      "[I 2025-09-06 17:04:03,521] Trial 13 finished with value: 0.8867469879518072 and parameters: {'max_depth': 4, 'learning_rate': 0.07930452097857822, 'n_estimators': 494, 'subsample': 0.930625488465423, 'colsample_bytree': 0.7290893418653962, 'gamma': 4.960040325563297}. Best is trial 12 with value: 0.8896353166986565.\n",
      "[I 2025-09-06 17:04:03,736] Trial 14 finished with value: 0.8865282472235635 and parameters: {'max_depth': 4, 'learning_rate': 0.1018576033087875, 'n_estimators': 413, 'subsample': 0.9171470080300088, 'colsample_bytree': 0.709103220765535, 'gamma': 3.9961205898122296}. Best is trial 12 with value: 0.8896353166986565.\n",
      "[I 2025-09-06 17:04:03,998] Trial 15 finished with value: 0.8869565217391304 and parameters: {'max_depth': 5, 'learning_rate': 0.05567569676584712, 'n_estimators': 500, 'subsample': 0.9151804328190287, 'colsample_bytree': 0.7930656967745384, 'gamma': 4.1725453431313}. Best is trial 12 with value: 0.8896353166986565.\n",
      "[I 2025-09-06 17:04:04,098] Trial 16 finished with value: 0.8881388621022179 and parameters: {'max_depth': 3, 'learning_rate': 0.16103723586036084, 'n_estimators': 66, 'subsample': 0.9964705444047242, 'colsample_bytree': 0.6234262759143001, 'gamma': 1.6190586650285184}. Best is trial 12 with value: 0.8896353166986565.\n",
      "[I 2025-09-06 17:04:04,315] Trial 17 finished with value: 0.8853410740203193 and parameters: {'max_depth': 4, 'learning_rate': 0.05761013719272936, 'n_estimators': 367, 'subsample': 0.6871496334674619, 'colsample_bytree': 0.6888177451604861, 'gamma': 4.301266291194163}. Best is trial 12 with value: 0.8896353166986565.\n",
      "[I 2025-09-06 17:04:04,548] Trial 18 finished with value: 0.8860882210373243 and parameters: {'max_depth': 5, 'learning_rate': 0.2989986894120473, 'n_estimators': 442, 'subsample': 0.8950214916904269, 'colsample_bytree': 0.7632617328720191, 'gamma': 3.5232388177807383}. Best is trial 12 with value: 0.8896353166986565.\n",
      "[I 2025-09-06 17:04:04,769] Trial 19 finished with value: 0.8868560423688011 and parameters: {'max_depth': 3, 'learning_rate': 0.12464417057907716, 'n_estimators': 455, 'subsample': 0.9541940973754872, 'colsample_bytree': 0.609290671526825, 'gamma': 4.510078977957842}. Best is trial 12 with value: 0.8896353166986565.\n",
      "[I 2025-09-06 17:04:05,049] Trial 20 finished with value: 0.888243831640058 and parameters: {'max_depth': 6, 'learning_rate': 0.05097324087833706, 'n_estimators': 412, 'subsample': 0.873732986193415, 'colsample_bytree': 0.9444355324454456, 'gamma': 3.3836354491540077}. Best is trial 12 with value: 0.8896353166986565.\n",
      "[I 2025-09-06 17:04:05,328] Trial 21 finished with value: 0.8861985472154964 and parameters: {'max_depth': 6, 'learning_rate': 0.046092928615501676, 'n_estimators': 467, 'subsample': 0.8706898745828172, 'colsample_bytree': 0.9809146926021797, 'gamma': 3.361151294998071}. Best is trial 12 with value: 0.8896353166986565.\n",
      "[I 2025-09-06 17:04:05,635] Trial 22 finished with value: 0.8872832369942196 and parameters: {'max_depth': 4, 'learning_rate': 0.011756815564524077, 'n_estimators': 410, 'subsample': 0.9508540151577329, 'colsample_bytree': 0.8852664589197278, 'gamma': 4.599569155930647}. Best is trial 12 with value: 0.8896353166986565.\n",
      "[I 2025-09-06 17:04:05,861] Trial 23 finished with value: 0.8842615012106537 and parameters: {'max_depth': 8, 'learning_rate': 0.09643216389027315, 'n_estimators': 356, 'subsample': 0.9975225747117081, 'colsample_bytree': 0.7597568759899952, 'gamma': 1.934781348606821}. Best is trial 12 with value: 0.8896353166986565.\n",
      "[I 2025-09-06 17:04:06,118] Trial 24 finished with value: 0.8869565217391304 and parameters: {'max_depth': 5, 'learning_rate': 0.06181091712480825, 'n_estimators': 419, 'subsample': 0.8793146986931861, 'colsample_bytree': 0.9175061773339221, 'gamma': 4.6367077162378765}. Best is trial 12 with value: 0.8896353166986565.\n",
      "[I 2025-09-06 17:04:06,381] Trial 25 finished with value: 0.8848015488867377 and parameters: {'max_depth': 4, 'learning_rate': 0.10288234230429291, 'n_estimators': 500, 'subsample': 0.8064575032121571, 'colsample_bytree': 0.6786162752270288, 'gamma': 3.21374468600116}. Best is trial 12 with value: 0.8896353166986565.\n",
      "[I 2025-09-06 17:04:06,640] Trial 26 finished with value: 0.885024154589372 and parameters: {'max_depth': 6, 'learning_rate': 0.06887878134630021, 'n_estimators': 464, 'subsample': 0.9570970314965, 'colsample_bytree': 0.6571505460218474, 'gamma': 3.621594823382141}. Best is trial 12 with value: 0.8896353166986565.\n",
      "[I 2025-09-06 17:04:06,885] Trial 27 finished with value: 0.8868560423688011 and parameters: {'max_depth': 3, 'learning_rate': 0.03924799384810841, 'n_estimators': 384, 'subsample': 0.9094672268508182, 'colsample_bytree': 0.8085830982044715, 'gamma': 4.152200051458914}. Best is trial 12 with value: 0.8896353166986565.\n",
      "[I 2025-09-06 17:04:07,101] Trial 28 finished with value: 0.882295719844358 and parameters: {'max_depth': 8, 'learning_rate': 0.14306998481342675, 'n_estimators': 330, 'subsample': 0.949241726409588, 'colsample_bytree': 0.7276637986477016, 'gamma': 1.592674476873974}. Best is trial 12 with value: 0.8896353166986565.\n",
      "[I 2025-09-06 17:04:07,375] Trial 29 finished with value: 0.8857696030977735 and parameters: {'max_depth': 5, 'learning_rate': 0.03425354264693965, 'n_estimators': 431, 'subsample': 0.8025509312225723, 'colsample_bytree': 0.597889012642068, 'gamma': 3.768350266343587}. Best is trial 12 with value: 0.8896353166986565.\n"
     ]
    },
    {
     "name": "stdout",
     "output_type": "stream",
     "text": [
      "Best Hyperparameters: {'max_depth': 3, 'learning_rate': 0.07949486443987452, 'n_estimators': 491, 'subsample': 0.9989455581300483, 'colsample_bytree': 0.6786704899216118, 'gamma': 4.82349690234433}\n"
     ]
    }
   ],
   "source": [
    "import optuna\n",
    "from sklearn.metrics import f1_score\n",
    "\n",
    "def objective(trial):\n",
    "    params = {\n",
    "        'max_depth': trial.suggest_int('max_depth', 3, 10),\n",
    "        'learning_rate': trial.suggest_float('learning_rate', 0.01, 0.3),\n",
    "        'n_estimators': trial.suggest_int('n_estimators', 50, 500),\n",
    "        'subsample': trial.suggest_float('subsample', 0.5, 1.0),\n",
    "        'colsample_bytree': trial.suggest_float('colsample_bytree', 0.5, 1.0),\n",
    "        'gamma': trial.suggest_float('gamma', 0, 5),\n",
    "    }\n",
    "\n",
    "    model = XGBClassifier(**params)\n",
    "    model.fit(X_train, Y_train)\n",
    "    preds = model.predict(X_test)\n",
    "    return f1_score(Y_test, preds)\n",
    "\n",
    "study = optuna.create_study(direction='maximize')\n",
    "study.optimize(objective, n_trials=30)\n",
    "\n",
    "print(\"Best Hyperparameters:\", study.best_params)\n"
   ]
  },
  {
   "cell_type": "code",
   "execution_count": 230,
   "id": "5fad7aae",
   "metadata": {},
   "outputs": [
    {
     "name": "stdout",
     "output_type": "stream",
     "text": [
      "F1 Score: 0.8826653790439402\n",
      "Classification Report:\n",
      "               precision    recall  f1-score   support\n",
      "\n",
      "           0       0.41      0.42      0.42       431\n",
      "           1       0.74      0.73      0.73       957\n",
      "\n",
      "    accuracy                           0.64      1388\n",
      "   macro avg       0.58      0.58      0.58      1388\n",
      "weighted avg       0.64      0.64      0.64      1388\n",
      "\n"
     ]
    }
   ],
   "source": [
    "from sklearn.ensemble import VotingClassifier\n",
    "from sklearn.linear_model import LogisticRegression\n",
    "from sklearn.ensemble import RandomForestClassifier\n",
    "from xgboost import XGBClassifier\n",
    "from sklearn.metrics import f1_score, classification_report\n",
    "\n",
    "# Optional: If you tuned XGBoost earlier with Optuna\n",
    "best_params = {\n",
    "    'max_depth': 6,\n",
    "    'learning_rate': 0.1,\n",
    "    'n_estimators': 200,\n",
    "    'subsample': 0.8,\n",
    "    'colsample_bytree': 0.8,\n",
    "    'gamma': 1\n",
    "}\n",
    "\n",
    "# Define individual models\n",
    "xgb_clf = XGBClassifier(**best_params)\n",
    "rf_clf = RandomForestClassifier(n_estimators=100, random_state=42)\n",
    "lr_clf = LogisticRegression(max_iter=1000)\n",
    "\n",
    "# Create Voting Classifier\n",
    "voting_model = VotingClassifier(estimators=[\n",
    "    ('xgb', xgb_clf),\n",
    "    ('rf', rf_clf),\n",
    "    ('lr', lr_clf)\n",
    "], voting='soft')\n",
    "\n",
    "# Train ensemble\n",
    "voting_model.fit(X_train, Y_train)\n",
    "\n",
    "# Predictions\n",
    "y_pred = voting_model.predict(X_test)\n",
    "\n",
    "# Evaluation\n",
    "print(\"F1 Score:\", f1_score(Y_test, y_pred))\n",
    "print(\"Classification Report:\\n\", classification_report(Y_test, Y_pred))\n",
    "\n",
    "\n"
   ]
  },
  {
   "cell_type": "code",
   "execution_count": 231,
   "id": "1c303f9b",
   "metadata": {},
   "outputs": [
    {
     "name": "stdout",
     "output_type": "stream",
     "text": [
      "Accuracy: 0.6354466858789626\n",
      "Classification Report:\n",
      "               precision    recall  f1-score   support\n",
      "\n",
      "           0       0.41      0.42      0.42       431\n",
      "           1       0.74      0.73      0.73       957\n",
      "\n",
      "    accuracy                           0.64      1388\n",
      "   macro avg       0.58      0.58      0.58      1388\n",
      "weighted avg       0.64      0.64      0.64      1388\n",
      "\n",
      "Confusion Matrix:\n",
      " [[183 248]\n",
      " [258 699]]\n"
     ]
    }
   ],
   "source": [
    "from sklearn.ensemble import VotingClassifier\n",
    "from sklearn.linear_model import LogisticRegression\n",
    "from sklearn.ensemble import RandomForestClassifier\n",
    "from xgboost import XGBClassifier\n",
    "from sklearn.metrics import classification_report, accuracy_score, confusion_matrix\n",
    "from sklearn.model_selection import train_test_split\n",
    "\n",
    "# Assuming X and y are already defined\n",
    "X_train, X_test, Y_train, Y_test = train_test_split(X, Y, test_size=0.2, random_state=42)\n",
    "\n",
    "# Define individual classifiers\n",
    "clf1 = LogisticRegression(max_iter=1000)\n",
    "clf2 = RandomForestClassifier(n_estimators=100, random_state=42)\n",
    "clf3 = XGBClassifier(use_label_encoder=False, eval_metric='logloss')\n",
    "\n",
    "# Create Voting Classifier\n",
    "voting_clf = VotingClassifier(estimators=[\n",
    "    ('lr', clf1), \n",
    "    ('rf', clf2), \n",
    "    ('xgb', clf3)\n",
    "], voting='hard')  # You can try 'soft' too if you want probabilities\n",
    "\n",
    "# Fit the model\n",
    "voting_clf.fit(X_train, Y_train)\n",
    "\n",
    "# Predict and evaluate\n",
    "y_pred = voting_clf.predict(X_test)\n",
    "\n",
    "# Evaluation\n",
    "print(\"Accuracy:\", accuracy_score(Y_test, Y_pred))\n",
    "print(\"Classification Report:\\n\", classification_report(Y_test, Y_pred))\n",
    "print(\"Confusion Matrix:\\n\", confusion_matrix(Y_test, Y_pred))"
   ]
  },
  {
   "cell_type": "code",
   "execution_count": 232,
   "id": "2ed8cd4b",
   "metadata": {},
   "outputs": [
    {
     "name": "stdout",
     "output_type": "stream",
     "text": [
      "Voting Classifier CV F1 Scores: [0.88610614 0.88100962 0.88784498 0.89712919 0.87566924]\n",
      "Mean CV F1 Score: 0.8855518335705875\n"
     ]
    }
   ],
   "source": [
    "from sklearn.model_selection import cross_val_score\n",
    "scores = cross_val_score(voting_model, X_train, Y_train, cv=5, scoring='f1')\n",
    "print(\"Voting Classifier CV F1 Scores:\", scores)\n",
    "print(\"Mean CV F1 Score:\", scores.mean())"
   ]
  },
  {
   "cell_type": "code",
   "execution_count": 233,
   "id": "3718c930",
   "metadata": {},
   "outputs": [],
   "source": [
    "import joblib"
   ]
  },
  {
   "cell_type": "code",
   "execution_count": null,
   "id": "0e355f7b",
   "metadata": {},
   "outputs": [
    {
     "name": "stdout",
     "output_type": "stream",
     "text": [
      "✅ Saved: models/final_model.pkl (from variable: voting_clf)\n",
      "✅ Saved: models/train_columns.pkl with 63 columns\n"
     ]
    }
   ],
   "source": [
    "# ==== SAVE TRAINED MODEL + TRAIN COLUMNS ====\n",
    "import os, joblib\n",
    "from sklearn.utils.validation import check_is_fitted\n",
    "\n",
    "os.makedirs(\"models\", exist_ok=True)\n",
    "\n",
    "# Pick from the models that exist in your notebook.\n",
    "# This will automatically select the first one that is fitted.\n",
    "_candidates = [\"voting_clf\", \"voting_model\", \"xgb_model\", \"rf\", \"model\", \"clf\"]\n",
    "\n",
    "final_name = None\n",
    "final_model = None\n",
    "for name in _candidates:\n",
    "    if name in globals():\n",
    "        mdl = globals()[name]\n",
    "        try:\n",
    "            check_is_fitted(mdl)    # works for most sklearn models\n",
    "            final_name, final_model = name, mdl\n",
    "            break\n",
    "        except Exception:\n",
    "            # Fallback: if it has predict, we still allow saving\n",
    "            if hasattr(mdl, \"predict\"):\n",
    "                final_name, final_model = name, mdl\n",
    "                break\n",
    "\n",
    "if final_model is None:\n",
    "    raise RuntimeError(\"No trained model found among: \" + \", \".join(_candidates))\n",
    "\n",
    "# Save model\n",
    "joblib.dump(final_model, \"models/final_model.pkl\")\n",
    "joblib.dump(final_model, f\"models/{final_name}.pkl\")\n",
    "print(f\"✅ Saved: models/final_model.pkl (from variable: {final_name})\")\n",
    "\n",
    "# Save the exact training column order (assuming you built X for training earlier)\n",
    "try:\n",
    "    train_cols = list(X.columns)\n",
    "    joblib.dump(train_cols, \"models/train_columns.pkl\")\n",
    "    print(f\"✅ Saved: models/train_columns.pkl with {len(train_cols)} columns\")\n",
    "except Exception as e:\n",
    "    print(\"⚠️ Could not save train columns. Make sure X is your training feature DataFrame.\")\n",
    "    raise\n",
    "\n",
    "\n"
   ]
  },
  {
   "cell_type": "code",
   "execution_count": 235,
   "id": "0da106ee",
   "metadata": {},
   "outputs": [
    {
     "name": "stdout",
     "output_type": "stream",
     "text": [
      "c:\\Users\\Aarush\\OneDrive\\Desktop\\project folder\\.venv\\Scripts\\python.exe\n"
     ]
    }
   ],
   "source": [
    "import sys\n",
    "print(sys.executable)\n"
   ]
  },
  {
   "cell_type": "code",
   "execution_count": 239,
   "id": "cd0b981c",
   "metadata": {},
   "outputs": [
    {
     "ename": "NameError",
     "evalue": "name 'y_train' is not defined",
     "output_type": "error",
     "traceback": [
      "\u001b[31m---------------------------------------------------------------------------\u001b[39m",
      "\u001b[31mNameError\u001b[39m                                 Traceback (most recent call last)",
      "\u001b[36mCell\u001b[39m\u001b[36m \u001b[39m\u001b[32mIn[239]\u001b[39m\u001b[32m, line 29\u001b[39m\n\u001b[32m     18\u001b[39m final_model = VotingClassifier(\n\u001b[32m     19\u001b[39m     estimators=[\n\u001b[32m     20\u001b[39m         (\u001b[33m\"\u001b[39m\u001b[33mlr\u001b[39m\u001b[33m\"\u001b[39m, log_reg),\n\u001b[32m   (...)\u001b[39m\u001b[32m     25\u001b[39m     voting=\u001b[33m\"\u001b[39m\u001b[33msoft\u001b[39m\u001b[33m\"\u001b[39m\n\u001b[32m     26\u001b[39m )\n\u001b[32m     28\u001b[39m \u001b[38;5;66;03m# Train the final model\u001b[39;00m\n\u001b[32m---> \u001b[39m\u001b[32m29\u001b[39m final_model.fit(X_train, \u001b[43my_train\u001b[49m)\n\u001b[32m     31\u001b[39m \u001b[38;5;66;03m# Evaluate\u001b[39;00m\n\u001b[32m     32\u001b[39m train_acc = final_model.score(X_train, y_train)\n",
      "\u001b[31mNameError\u001b[39m: name 'y_train' is not defined"
     ]
    }
   ],
   "source": [
    "# ------------------------------\n",
    "# FINAL TRAINING BLOCK (aligned with your notebook)\n",
    "# ------------------------------\n",
    "\n",
    "from sklearn.ensemble import RandomForestClassifier, VotingClassifier\n",
    "from sklearn.linear_model import LogisticRegression\n",
    "from sklearn.svm import SVC\n",
    "from xgboost import XGBClassifier\n",
    "import joblib\n",
    "\n",
    "# Define models (matching your notebook style)\n",
    "log_reg = LogisticRegression(max_iter=1000, random_state=42)\n",
    "rf = RandomForestClassifier(n_estimators=200, random_state=42)\n",
    "xgb = XGBClassifier(eval_metric=\"logloss\", random_state=42)\n",
    "svc = SVC(probability=True, random_state=42)  # must enable probabilities\n",
    "\n",
    "# Create a soft voting classifier (so predict_proba works)\n",
    "final_model = VotingClassifier(\n",
    "    estimators=[\n",
    "        (\"lr\", log_reg),\n",
    "        (\"rf\", rf),\n",
    "        (\"xgb\", xgb),\n",
    "        (\"svc\", svc)\n",
    "    ],\n",
    "    voting=\"soft\"\n",
    ")\n",
    "\n",
    "# Train the final model\n",
    "final_model.fit(X_train, y_train)\n",
    "\n",
    "# Evaluate\n",
    "train_acc = final_model.score(X_train, y_train)\n",
    "val_acc = final_model.score(X_val, y_val)\n",
    "\n",
    "print(f\"✅ Final model trained successfully!\")\n",
    "print(f\"Training Accuracy: {train_acc:.4f}\")\n",
    "print(f\"Validation Accuracy: {val_acc:.4f}\")\n",
    "\n",
    "# Save the model\n",
    "joblib.dump(final_model, \"models/final_model.pkl\")\n",
    "\n",
    "# Save the training feature columns\n",
    "joblib.dump(X_train.columns.tolist(), \"models/train_columns.pkl\")\n",
    "\n",
    "print(\"✅ Model and feature columns saved in /models/\")\n"
   ]
  },
  {
   "cell_type": "code",
   "execution_count": 242,
   "id": "41f7490d",
   "metadata": {},
   "outputs": [
    {
     "name": "stdout",
     "output_type": "stream",
     "text": [
      "Train set shape: (5549, 63)\n",
      "Test set shape : (1388, 63)\n",
      "Training final ensemble...\n",
      "Training completed ✅\n",
      "Validation accuracy: 0.8242074927953891\n",
      "Classification report:\n",
      "               precision    recall  f1-score   support\n",
      "\n",
      "           0       0.88      0.50      0.64       431\n",
      "           1       0.81      0.97      0.88       957\n",
      "\n",
      "    accuracy                           0.82      1388\n",
      "   macro avg       0.85      0.74      0.76      1388\n",
      "weighted avg       0.83      0.82      0.81      1388\n",
      "\n",
      "Saved model -> models/final_model.pkl\n",
      "Saved training columns -> models/train_columns.pkl (63 cols)\n",
      "✅ All done. Now you can run your Streamlit app with this model.\n"
     ]
    }
   ],
   "source": [
    "# ===== Robust final training + save cell (fixed) =====\n",
    "import os, joblib\n",
    "from sklearn.model_selection import train_test_split\n",
    "from sklearn.ensemble import VotingClassifier, RandomForestClassifier\n",
    "from sklearn.linear_model import LogisticRegression\n",
    "from sklearn.svm import SVC\n",
    "from xgboost import XGBClassifier\n",
    "from sklearn.metrics import accuracy_score, classification_report\n",
    "\n",
    "g = globals()\n",
    "\n",
    "# 1) Detect training data\n",
    "X_train = g.get(\"X_train\", None)\n",
    "X_test  = g.get(\"X_test\", None)\n",
    "Y_train = g.get(\"Y_train\", None)\n",
    "Y_test  = g.get(\"Y_test\", None)\n",
    "\n",
    "if X_train is None or X_test is None or Y_train is None or Y_test is None:\n",
    "    # try to use X and Y variables\n",
    "    X_all = g.get(\"X\", None) if g.get(\"X\", None) is not None else g.get(\"x\", None)\n",
    "    Y_all = g.get(\"Y\", None) if g.get(\"Y\", None) is not None else g.get(\"y\", None)\n",
    "\n",
    "    if X_all is None or Y_all is None:\n",
    "        raise RuntimeError(\n",
    "            \"Could not find training data. Ensure your notebook defines either:\\n\"\n",
    "            \"* X and Y (feature DataFrame and target Series) OR\\n\"\n",
    "            \"* X_train, X_test, Y_train, Y_test.\"\n",
    "        )\n",
    "    # create a fresh split\n",
    "    X_train, X_test, Y_train, Y_test = train_test_split(X_all, Y_all, test_size=0.2, random_state=42)\n",
    "    print(\"Created train/test split from X and Y.\")\n",
    "\n",
    "print(\"Train set shape:\", getattr(X_train, \"shape\", None))\n",
    "print(\"Test set shape :\", getattr(X_test, \"shape\", None))\n",
    "\n",
    "# 2) Build base estimators\n",
    "log_reg = LogisticRegression(max_iter=1000, random_state=42)\n",
    "rf      = RandomForestClassifier(n_estimators=200, random_state=42)\n",
    "xgb     = XGBClassifier(eval_metric=\"logloss\", use_label_encoder=False, random_state=42)\n",
    "svc     = SVC(probability=True, random_state=42)\n",
    "\n",
    "# 3) Voting (soft -> supports predict_proba)\n",
    "final_model = VotingClassifier(\n",
    "    estimators=[(\"lr\", log_reg), (\"rf\", rf), (\"xgb\", xgb), (\"svc\", svc)],\n",
    "    voting=\"soft\"\n",
    ")\n",
    "\n",
    "# 4) Fit\n",
    "print(\"Training final ensemble...\")\n",
    "final_model.fit(X_train, Y_train)\n",
    "print(\"Training completed ✅\")\n",
    "\n",
    "# 5) Quick evaluation\n",
    "y_pred = final_model.predict(X_test)\n",
    "print(\"Validation accuracy:\", accuracy_score(Y_test, y_pred))\n",
    "print(\"Classification report:\\n\", classification_report(Y_test, y_pred))\n",
    "\n",
    "# 6) Save model + training column order\n",
    "os.makedirs(\"models\", exist_ok=True)\n",
    "joblib.dump(final_model, \"models/final_model.pkl\")\n",
    "print(\"Saved model -> models/final_model.pkl\")\n",
    "\n",
    "if hasattr(X_train, \"columns\"):\n",
    "    joblib.dump(list(X_train.columns), \"models/train_columns.pkl\")\n",
    "    print(f\"Saved training columns -> models/train_columns.pkl ({len(X_train.columns)} cols)\")\n",
    "else:\n",
    "    print(\"Note: X_train has no 'columns' attribute; train_columns.pkl not saved.\")\n",
    "\n",
    "print(\"✅ All done. Now you can run your Streamlit app with this model.\")\n",
    "\n"
   ]
  },
  {
   "cell_type": "code",
   "execution_count": 243,
   "id": "1cb88e62",
   "metadata": {},
   "outputs": [
    {
     "name": "stdout",
     "output_type": "stream",
     "text": [
      "c:\\Users\\Aarush\\OneDrive\\Desktop\\project folder\n",
      "['final_model.pkl', 'train_columns.pkl', 'voting_clf.pkl']\n"
     ]
    }
   ],
   "source": [
    "import os\n",
    "print(os.getcwd())         # shows your working directory\n",
    "print(os.listdir(\"models\"))"
   ]
  },
  {
   "cell_type": "code",
   "execution_count": null,
   "id": "ca2f09b4",
   "metadata": {},
   "outputs": [],
   "source": []
  }
 ],
 "metadata": {
  "kernelspec": {
   "display_name": ".venv",
   "language": "python",
   "name": "python3"
  },
  "language_info": {
   "codemirror_mode": {
    "name": "ipython",
    "version": 3
   },
   "file_extension": ".py",
   "mimetype": "text/x-python",
   "name": "python",
   "nbconvert_exporter": "python",
   "pygments_lexer": "ipython3",
   "version": "3.11.2"
  }
 },
 "nbformat": 4,
 "nbformat_minor": 5
}
